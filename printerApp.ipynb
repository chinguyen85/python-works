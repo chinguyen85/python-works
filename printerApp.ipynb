{
 "cells": [
  {
   "cell_type": "code",
   "execution_count": 3,
   "metadata": {},
   "outputs": [
    {
     "name": "stdout",
     "output_type": "stream",
     "text": [
      "Printer App\n",
      "This app is made by: Chi Nguyen\n"
     ]
    }
   ],
   "source": [
    "print(\"Printer App\")\n",
    "creator = \"Chi Nguyen\"\n",
    "print(\"This app is made by: \" + creator)"
   ]
  },
  {
   "cell_type": "code",
   "execution_count": 13,
   "metadata": {},
   "outputs": [
    {
     "name": "stdout",
     "output_type": "stream",
     "text": [
      "20\n",
      "The value of number1 is 20\n",
      "The value of number2 is 4\n",
      "20 * 4 = 80\n",
      "20 + 4 = 24\n",
      "20 / 4 = 5.0\n",
      "20 - 4 = 16\n"
     ]
    }
   ],
   "source": [
    "number1 = 20\n",
    "number2 = 4\n",
    "multiplication = number1 * number2\n",
    "addition = number1 + number2\n",
    "division = number1 / number2\n",
    "subtraction = number1 - number2\n",
    "\n",
    "print(number1) # print the value of number1\n",
    "print(\"The value of number1 is \" + str(number1))\n",
    "print(\"The value of number2 is \" + str(number2))\n",
    "\n",
    "print(str(number1) + \" * \" + str(number2) + \" = \" + str(multiplication))\n",
    "print(str(number1) + \" + \" + str(number2) + \" = \" + str(addition))\n",
    "print(str(number1) + \" / \" + str(number2) + \" = \" + str(division))\n",
    "print(str(number1) + \" - \" + str(number2) + \" = \" + str(subtraction))"
   ]
  }
 ],
 "metadata": {
  "kernelspec": {
   "display_name": "Python 3",
   "language": "python",
   "name": "python3"
  },
  "language_info": {
   "codemirror_mode": {
    "name": "ipython",
    "version": 3
   },
   "file_extension": ".py",
   "mimetype": "text/x-python",
   "name": "python",
   "nbconvert_exporter": "python",
   "pygments_lexer": "ipython3",
   "version": "3.12.0"
  }
 },
 "nbformat": 4,
 "nbformat_minor": 2
}
