{
 "cells": [
  {
   "cell_type": "code",
   "execution_count": 1,
   "metadata": {},
   "outputs": [
    {
     "name": "stdout",
     "output_type": "stream",
     "text": [
      "<class 'str'>\n"
     ]
    }
   ],
   "source": [
    "name = \"Chi\"\n",
    "print(type(name))"
   ]
  },
  {
   "cell_type": "code",
   "execution_count": 2,
   "metadata": {},
   "outputs": [
    {
     "name": "stdout",
     "output_type": "stream",
     "text": [
      "8\n"
     ]
    }
   ],
   "source": [
    "num1 = 5\n",
    "num2 = 3\n",
    "result = num1 + num2\n",
    "print(result)"
   ]
  },
  {
   "cell_type": "code",
   "execution_count": 1,
   "metadata": {},
   "outputs": [
    {
     "data": {
      "text/plain": [
       "False"
      ]
     },
     "execution_count": 1,
     "metadata": {},
     "output_type": "execute_result"
    }
   ],
   "source": [
    "isinstance(5.1, int)"
   ]
  },
  {
   "cell_type": "markdown",
   "metadata": {},
   "source": [
    "# Boolean"
   ]
  },
  {
   "cell_type": "code",
   "execution_count": 8,
   "metadata": {},
   "outputs": [
    {
     "data": {
      "text/plain": [
       "True"
      ]
     },
     "execution_count": 8,
     "metadata": {},
     "output_type": "execute_result"
    }
   ],
   "source": [
    "name = \"ChiNguyen\"\n",
    "name.isalnum()\n",
    "#islower()\n",
    "name.islower()\n",
    "name.isalpha()"
   ]
  },
  {
   "cell_type": "code",
   "execution_count": 18,
   "metadata": {},
   "outputs": [
    {
     "name": "stdout",
     "output_type": "stream",
     "text": [
      "[1, 'Hello World', 2, 2.5, 4, 'HAMK']\n",
      "Hello World\n",
      "[2, 2.5, 4]\n",
      "[1, 'Hello World', 2, 2.5, 4, 'HAMK', '2023']\n",
      "[1, 'Hello World', 'Python', 2, 2.5, 4, 'HAMK', '2023']\n",
      "[1, 'Hello World', 'Python', 2, 2.5, 4, 'HAMK', '2023', 'Database', 'Module 2']\n",
      "[1, 'Hello World', 'Python', 2, 2.5, 4, 'HAMK', '2023', 'Database']\n"
     ]
    }
   ],
   "source": [
    "# List\n",
    "list1 = [1, \"Hello World\", 2, 2.5, 4, \"HAMK\"]\n",
    "print(list1)\n",
    "print(list1[1])\n",
    "print(list1[2:5])\n",
    "\n",
    "# append: add an element to the end of the list\n",
    "list1.append(\"2023\")\n",
    "print(list1)\n",
    "\n",
    "# insert: add an element to a specific position\n",
    "list1.insert(2, \"Python\")\n",
    "print(list1)\n",
    "\n",
    "# extend: add multiple elements to the end of the list\n",
    "list1.extend([\"Database\", \"Module 2\"])\n",
    "print(list1)\n",
    "\n",
    "# remove: remove an element from the list\n",
    "list1.remove(\"Module 2\")\n",
    "print(list1)"
   ]
  },
  {
   "cell_type": "code",
   "execution_count": 20,
   "metadata": {},
   "outputs": [
    {
     "name": "stdout",
     "output_type": "stream",
     "text": [
      "('name', 5, 'HAMK', 'Data Analytics')\n",
      "('HAMK', 'Data Analytics')\n"
     ]
    }
   ],
   "source": [
    "#Tuple: similar to list, but unchangaable, using bracket ()\n",
    "tup1 = (\"name\", 5, \"HAMK\", \"Data Analytics\")\n",
    "print(tup1)\n",
    "# print HAMK onwards\n",
    "print(tup1[2:])"
   ]
  },
  {
   "cell_type": "code",
   "execution_count": 1,
   "metadata": {},
   "outputs": [
    {
     "name": "stdout",
     "output_type": "stream",
     "text": [
      "{'name': 'Chi', 'age': 27, 'school': 'HAMK'}\n",
      "{1: ['Chi', 'Katie', 'Cecelia'], 2: [38, 27, 11], 3: ['HAMK', 'HUFLIT', 'SEMINAARAN']}\n"
     ]
    }
   ],
   "source": [
    "# Disctionary: key-value pairs, using curly bracket {}\n",
    "test = {\"name\": \"Chi\", \"age\": 27, \"school\": \"HAMK\"}\n",
    "print(test)\n",
    "test1 = {1: [\"Chi\", \"Katie\", \"Cecelia\"], 2: [38, 27, 11], 3: [\"HAMK\", \"HUFLIT\", \"SEMINAARAN\"]}\n",
    "print(test1)"
   ]
  }
 ],
 "metadata": {
  "kernelspec": {
   "display_name": "Python 3",
   "language": "python",
   "name": "python3"
  },
  "language_info": {
   "codemirror_mode": {
    "name": "ipython",
    "version": 3
   },
   "file_extension": ".py",
   "mimetype": "text/x-python",
   "name": "python",
   "nbconvert_exporter": "python",
   "pygments_lexer": "ipython3",
   "version": "3.12.0"
  }
 },
 "nbformat": 4,
 "nbformat_minor": 2
}
