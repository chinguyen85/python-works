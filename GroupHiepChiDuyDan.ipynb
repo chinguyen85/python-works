{
  "cells": [
    {
      "cell_type": "markdown",
      "metadata": {
        "id": "view-in-github",
        "colab_type": "text"
      },
      "source": [
        "<a href=\"https://colab.research.google.com/github/chinguyen85/python-works/blob/main/GroupHiepChiDuyDan.ipynb\" target=\"_parent\"><img src=\"https://colab.research.google.com/assets/colab-badge.svg\" alt=\"Open In Colab\"/></a>"
      ]
    },
    {
      "cell_type": "markdown",
      "metadata": {
        "id": "o-NvIXMSAa6W"
      },
      "source": [
        "# Project: Data Science Wages Analytics, 2022-2023\n",
        "\n",
        "Team member:\n",
        "1. Hiep Huynh\n",
        "2. Chi Nguyen\n",
        "3. Dan Vu\n",
        "4. Andy Huynh"
      ]
    },
    {
      "cell_type": "markdown",
      "metadata": {
        "id": "GA66gLu6VDhq"
      },
      "source": [
        "# Introduction & Objective\n",
        "\n",
        "We selected dataset from Kaggle: https://www.kaggle.com/datasets/arnabchaki/data-science-salaries-2023 on 15 Nov 2023. The information this dataset was most likely gathered by scraping job postings from ai-jobs.net.\n",
        "\n",
        "We aim to use this dataset to analyze salaries for various data science roles, factoring in key variables like experience, job specifics and scale of company. This offers insights into potential earnings across different domains that influence data science salaries. For example, we would use it to address the following questions:\n",
        "\n",
        "1. Which are the top 10 jobs with the highest mean salary for juniors (entry-level) in 2023?\n",
        "2. What are the top 5 poppular job titles in 2022 and 2023?\n",
        "3. What is the average salary of each job title in small-sized companies in the US?\n",
        "4. How does the average income for the 'Data Scientist' job vary by experience level?"
      ]
    },
    {
      "cell_type": "markdown",
      "metadata": {
        "id": "nvTL1G2SWbf_"
      },
      "source": [
        "# 1. Data Preprocessing"
      ]
    },
    {
      "cell_type": "markdown",
      "metadata": {
        "id": "8htRnLU8qtxu"
      },
      "source": [
        "### Data Exploration\n",
        "\n",
        "The purpose of these steps is help to import data from raw data (Kaggle), quick review and verify the quality."
      ]
    },
    {
      "cell_type": "code",
      "execution_count": null,
      "metadata": {
        "id": "ZYjNsAWoss1F"
      },
      "outputs": [],
      "source": [
        "# Import necessary libraries\n",
        "import pandas as pd\n",
        "import numpy as np\n",
        "import matplotlib.pyplot as plt\n",
        "import seaborn as sns\n",
        "\n",
        "import warnings # To ignore the deprecation warning when replacing values\n",
        "warnings.filterwarnings('ignore')\n",
        "warnings.simplefilter('ignore', DeprecationWarning)\n"
      ]
    },
    {
      "cell_type": "code",
      "execution_count": null,
      "metadata": {
        "id": "owIeI3Nj7CTi"
      },
      "outputs": [],
      "source": [
        "# Load raw data\n",
        "from google.colab import data_table\n",
        "url = 'https://raw.githubusercontent.com/hiephamk/Data_Analysis/main/ds_salaries.csv'\n",
        "salary = pd.read_csv(url,sep = ',')"
      ]
    },
    {
      "cell_type": "code",
      "execution_count": null,
      "metadata": {
        "colab": {
          "base_uri": "https://localhost:8080/",
          "height": 330
        },
        "id": "_ttSRzuw1Ezb",
        "outputId": "a619807e-4603-4669-cee3-2baf37ca7d1e"
      },
      "outputs": [
        {
          "output_type": "execute_result",
          "data": {
            "text/plain": [
              "   work_year experience_level employment_type                 job_title  \\\n",
              "0       2023               SE              FT  Principal Data Scientist   \n",
              "1       2023               MI              CT               ML Engineer   \n",
              "2       2023               MI              CT               ML Engineer   \n",
              "3       2023               SE              FT            Data Scientist   \n",
              "4       2023               SE              FT            Data Scientist   \n",
              "\n",
              "   salary salary_currency  salary_in_usd employee_residence  remote_ratio  \\\n",
              "0   80000             EUR          85847                 ES           100   \n",
              "1   30000             USD          30000                 US           100   \n",
              "2   25500             USD          25500                 US           100   \n",
              "3  175000             USD         175000                 CA           100   \n",
              "4  120000             USD         120000                 CA           100   \n",
              "\n",
              "  company_location company_size  \n",
              "0               ES            L  \n",
              "1               US            S  \n",
              "2               US            S  \n",
              "3               CA            M  \n",
              "4               CA            M  "
            ],
            "text/html": [
              "\n",
              "  <div id=\"df-a5d2ac2e-c5df-4d9a-8177-897a94bf1aa6\" class=\"colab-df-container\">\n",
              "    <div>\n",
              "<style scoped>\n",
              "    .dataframe tbody tr th:only-of-type {\n",
              "        vertical-align: middle;\n",
              "    }\n",
              "\n",
              "    .dataframe tbody tr th {\n",
              "        vertical-align: top;\n",
              "    }\n",
              "\n",
              "    .dataframe thead th {\n",
              "        text-align: right;\n",
              "    }\n",
              "</style>\n",
              "<table border=\"1\" class=\"dataframe\">\n",
              "  <thead>\n",
              "    <tr style=\"text-align: right;\">\n",
              "      <th></th>\n",
              "      <th>work_year</th>\n",
              "      <th>experience_level</th>\n",
              "      <th>employment_type</th>\n",
              "      <th>job_title</th>\n",
              "      <th>salary</th>\n",
              "      <th>salary_currency</th>\n",
              "      <th>salary_in_usd</th>\n",
              "      <th>employee_residence</th>\n",
              "      <th>remote_ratio</th>\n",
              "      <th>company_location</th>\n",
              "      <th>company_size</th>\n",
              "    </tr>\n",
              "  </thead>\n",
              "  <tbody>\n",
              "    <tr>\n",
              "      <th>0</th>\n",
              "      <td>2023</td>\n",
              "      <td>SE</td>\n",
              "      <td>FT</td>\n",
              "      <td>Principal Data Scientist</td>\n",
              "      <td>80000</td>\n",
              "      <td>EUR</td>\n",
              "      <td>85847</td>\n",
              "      <td>ES</td>\n",
              "      <td>100</td>\n",
              "      <td>ES</td>\n",
              "      <td>L</td>\n",
              "    </tr>\n",
              "    <tr>\n",
              "      <th>1</th>\n",
              "      <td>2023</td>\n",
              "      <td>MI</td>\n",
              "      <td>CT</td>\n",
              "      <td>ML Engineer</td>\n",
              "      <td>30000</td>\n",
              "      <td>USD</td>\n",
              "      <td>30000</td>\n",
              "      <td>US</td>\n",
              "      <td>100</td>\n",
              "      <td>US</td>\n",
              "      <td>S</td>\n",
              "    </tr>\n",
              "    <tr>\n",
              "      <th>2</th>\n",
              "      <td>2023</td>\n",
              "      <td>MI</td>\n",
              "      <td>CT</td>\n",
              "      <td>ML Engineer</td>\n",
              "      <td>25500</td>\n",
              "      <td>USD</td>\n",
              "      <td>25500</td>\n",
              "      <td>US</td>\n",
              "      <td>100</td>\n",
              "      <td>US</td>\n",
              "      <td>S</td>\n",
              "    </tr>\n",
              "    <tr>\n",
              "      <th>3</th>\n",
              "      <td>2023</td>\n",
              "      <td>SE</td>\n",
              "      <td>FT</td>\n",
              "      <td>Data Scientist</td>\n",
              "      <td>175000</td>\n",
              "      <td>USD</td>\n",
              "      <td>175000</td>\n",
              "      <td>CA</td>\n",
              "      <td>100</td>\n",
              "      <td>CA</td>\n",
              "      <td>M</td>\n",
              "    </tr>\n",
              "    <tr>\n",
              "      <th>4</th>\n",
              "      <td>2023</td>\n",
              "      <td>SE</td>\n",
              "      <td>FT</td>\n",
              "      <td>Data Scientist</td>\n",
              "      <td>120000</td>\n",
              "      <td>USD</td>\n",
              "      <td>120000</td>\n",
              "      <td>CA</td>\n",
              "      <td>100</td>\n",
              "      <td>CA</td>\n",
              "      <td>M</td>\n",
              "    </tr>\n",
              "  </tbody>\n",
              "</table>\n",
              "</div>\n",
              "    <div class=\"colab-df-buttons\">\n",
              "\n",
              "  <div class=\"colab-df-container\">\n",
              "    <button class=\"colab-df-convert\" onclick=\"convertToInteractive('df-a5d2ac2e-c5df-4d9a-8177-897a94bf1aa6')\"\n",
              "            title=\"Convert this dataframe to an interactive table.\"\n",
              "            style=\"display:none;\">\n",
              "\n",
              "  <svg xmlns=\"http://www.w3.org/2000/svg\" height=\"24px\" viewBox=\"0 -960 960 960\">\n",
              "    <path d=\"M120-120v-720h720v720H120Zm60-500h600v-160H180v160Zm220 220h160v-160H400v160Zm0 220h160v-160H400v160ZM180-400h160v-160H180v160Zm440 0h160v-160H620v160ZM180-180h160v-160H180v160Zm440 0h160v-160H620v160Z\"/>\n",
              "  </svg>\n",
              "    </button>\n",
              "\n",
              "  <style>\n",
              "    .colab-df-container {\n",
              "      display:flex;\n",
              "      gap: 12px;\n",
              "    }\n",
              "\n",
              "    .colab-df-convert {\n",
              "      background-color: #E8F0FE;\n",
              "      border: none;\n",
              "      border-radius: 50%;\n",
              "      cursor: pointer;\n",
              "      display: none;\n",
              "      fill: #1967D2;\n",
              "      height: 32px;\n",
              "      padding: 0 0 0 0;\n",
              "      width: 32px;\n",
              "    }\n",
              "\n",
              "    .colab-df-convert:hover {\n",
              "      background-color: #E2EBFA;\n",
              "      box-shadow: 0px 1px 2px rgba(60, 64, 67, 0.3), 0px 1px 3px 1px rgba(60, 64, 67, 0.15);\n",
              "      fill: #174EA6;\n",
              "    }\n",
              "\n",
              "    .colab-df-buttons div {\n",
              "      margin-bottom: 4px;\n",
              "    }\n",
              "\n",
              "    [theme=dark] .colab-df-convert {\n",
              "      background-color: #3B4455;\n",
              "      fill: #D2E3FC;\n",
              "    }\n",
              "\n",
              "    [theme=dark] .colab-df-convert:hover {\n",
              "      background-color: #434B5C;\n",
              "      box-shadow: 0px 1px 3px 1px rgba(0, 0, 0, 0.15);\n",
              "      filter: drop-shadow(0px 1px 2px rgba(0, 0, 0, 0.3));\n",
              "      fill: #FFFFFF;\n",
              "    }\n",
              "  </style>\n",
              "\n",
              "    <script>\n",
              "      const buttonEl =\n",
              "        document.querySelector('#df-a5d2ac2e-c5df-4d9a-8177-897a94bf1aa6 button.colab-df-convert');\n",
              "      buttonEl.style.display =\n",
              "        google.colab.kernel.accessAllowed ? 'block' : 'none';\n",
              "\n",
              "      async function convertToInteractive(key) {\n",
              "        const element = document.querySelector('#df-a5d2ac2e-c5df-4d9a-8177-897a94bf1aa6');\n",
              "        const dataTable =\n",
              "          await google.colab.kernel.invokeFunction('convertToInteractive',\n",
              "                                                    [key], {});\n",
              "        if (!dataTable) return;\n",
              "\n",
              "        const docLinkHtml = 'Like what you see? Visit the ' +\n",
              "          '<a target=\"_blank\" href=https://colab.research.google.com/notebooks/data_table.ipynb>data table notebook</a>'\n",
              "          + ' to learn more about interactive tables.';\n",
              "        element.innerHTML = '';\n",
              "        dataTable['output_type'] = 'display_data';\n",
              "        await google.colab.output.renderOutput(dataTable, element);\n",
              "        const docLink = document.createElement('div');\n",
              "        docLink.innerHTML = docLinkHtml;\n",
              "        element.appendChild(docLink);\n",
              "      }\n",
              "    </script>\n",
              "  </div>\n",
              "\n",
              "\n",
              "<div id=\"df-479500e2-f98c-4554-8711-5affb38b3100\">\n",
              "  <button class=\"colab-df-quickchart\" onclick=\"quickchart('df-479500e2-f98c-4554-8711-5affb38b3100')\"\n",
              "            title=\"Suggest charts\"\n",
              "            style=\"display:none;\">\n",
              "\n",
              "<svg xmlns=\"http://www.w3.org/2000/svg\" height=\"24px\"viewBox=\"0 0 24 24\"\n",
              "     width=\"24px\">\n",
              "    <g>\n",
              "        <path d=\"M19 3H5c-1.1 0-2 .9-2 2v14c0 1.1.9 2 2 2h14c1.1 0 2-.9 2-2V5c0-1.1-.9-2-2-2zM9 17H7v-7h2v7zm4 0h-2V7h2v10zm4 0h-2v-4h2v4z\"/>\n",
              "    </g>\n",
              "</svg>\n",
              "  </button>\n",
              "\n",
              "<style>\n",
              "  .colab-df-quickchart {\n",
              "      --bg-color: #E8F0FE;\n",
              "      --fill-color: #1967D2;\n",
              "      --hover-bg-color: #E2EBFA;\n",
              "      --hover-fill-color: #174EA6;\n",
              "      --disabled-fill-color: #AAA;\n",
              "      --disabled-bg-color: #DDD;\n",
              "  }\n",
              "\n",
              "  [theme=dark] .colab-df-quickchart {\n",
              "      --bg-color: #3B4455;\n",
              "      --fill-color: #D2E3FC;\n",
              "      --hover-bg-color: #434B5C;\n",
              "      --hover-fill-color: #FFFFFF;\n",
              "      --disabled-bg-color: #3B4455;\n",
              "      --disabled-fill-color: #666;\n",
              "  }\n",
              "\n",
              "  .colab-df-quickchart {\n",
              "    background-color: var(--bg-color);\n",
              "    border: none;\n",
              "    border-radius: 50%;\n",
              "    cursor: pointer;\n",
              "    display: none;\n",
              "    fill: var(--fill-color);\n",
              "    height: 32px;\n",
              "    padding: 0;\n",
              "    width: 32px;\n",
              "  }\n",
              "\n",
              "  .colab-df-quickchart:hover {\n",
              "    background-color: var(--hover-bg-color);\n",
              "    box-shadow: 0 1px 2px rgba(60, 64, 67, 0.3), 0 1px 3px 1px rgba(60, 64, 67, 0.15);\n",
              "    fill: var(--button-hover-fill-color);\n",
              "  }\n",
              "\n",
              "  .colab-df-quickchart-complete:disabled,\n",
              "  .colab-df-quickchart-complete:disabled:hover {\n",
              "    background-color: var(--disabled-bg-color);\n",
              "    fill: var(--disabled-fill-color);\n",
              "    box-shadow: none;\n",
              "  }\n",
              "\n",
              "  .colab-df-spinner {\n",
              "    border: 2px solid var(--fill-color);\n",
              "    border-color: transparent;\n",
              "    border-bottom-color: var(--fill-color);\n",
              "    animation:\n",
              "      spin 1s steps(1) infinite;\n",
              "  }\n",
              "\n",
              "  @keyframes spin {\n",
              "    0% {\n",
              "      border-color: transparent;\n",
              "      border-bottom-color: var(--fill-color);\n",
              "      border-left-color: var(--fill-color);\n",
              "    }\n",
              "    20% {\n",
              "      border-color: transparent;\n",
              "      border-left-color: var(--fill-color);\n",
              "      border-top-color: var(--fill-color);\n",
              "    }\n",
              "    30% {\n",
              "      border-color: transparent;\n",
              "      border-left-color: var(--fill-color);\n",
              "      border-top-color: var(--fill-color);\n",
              "      border-right-color: var(--fill-color);\n",
              "    }\n",
              "    40% {\n",
              "      border-color: transparent;\n",
              "      border-right-color: var(--fill-color);\n",
              "      border-top-color: var(--fill-color);\n",
              "    }\n",
              "    60% {\n",
              "      border-color: transparent;\n",
              "      border-right-color: var(--fill-color);\n",
              "    }\n",
              "    80% {\n",
              "      border-color: transparent;\n",
              "      border-right-color: var(--fill-color);\n",
              "      border-bottom-color: var(--fill-color);\n",
              "    }\n",
              "    90% {\n",
              "      border-color: transparent;\n",
              "      border-bottom-color: var(--fill-color);\n",
              "    }\n",
              "  }\n",
              "</style>\n",
              "\n",
              "  <script>\n",
              "    async function quickchart(key) {\n",
              "      const quickchartButtonEl =\n",
              "        document.querySelector('#' + key + ' button');\n",
              "      quickchartButtonEl.disabled = true;  // To prevent multiple clicks.\n",
              "      quickchartButtonEl.classList.add('colab-df-spinner');\n",
              "      try {\n",
              "        const charts = await google.colab.kernel.invokeFunction(\n",
              "            'suggestCharts', [key], {});\n",
              "      } catch (error) {\n",
              "        console.error('Error during call to suggestCharts:', error);\n",
              "      }\n",
              "      quickchartButtonEl.classList.remove('colab-df-spinner');\n",
              "      quickchartButtonEl.classList.add('colab-df-quickchart-complete');\n",
              "    }\n",
              "    (() => {\n",
              "      let quickchartButtonEl =\n",
              "        document.querySelector('#df-479500e2-f98c-4554-8711-5affb38b3100 button');\n",
              "      quickchartButtonEl.style.display =\n",
              "        google.colab.kernel.accessAllowed ? 'block' : 'none';\n",
              "    })();\n",
              "  </script>\n",
              "</div>\n",
              "    </div>\n",
              "  </div>\n"
            ]
          },
          "metadata": {},
          "execution_count": 178
        }
      ],
      "source": [
        "# Preview the first 5 lines of the loaded data\n",
        "salary.head(5)"
      ]
    },
    {
      "cell_type": "code",
      "execution_count": null,
      "metadata": {
        "colab": {
          "base_uri": "https://localhost:8080/",
          "height": 330
        },
        "id": "0MT9XZ2p0sqG",
        "outputId": "fb18e9c2-7006-4bcc-8667-3863a30c643c"
      },
      "outputs": [
        {
          "output_type": "execute_result",
          "data": {
            "text/plain": [
              "      work_year experience_level employment_type                  job_title  \\\n",
              "3436       2021               SE              FT               Head of Data   \n",
              "3554       2020               MI              FT             Data Scientist   \n",
              "1715       2023               SE              FT               NLP Engineer   \n",
              "1431       2023               MI              FT  Machine Learning Engineer   \n",
              "702        2023               SE              FT          Applied Scientist   \n",
              "\n",
              "      salary salary_currency  salary_in_usd employee_residence  remote_ratio  \\\n",
              "3436   87000             EUR         102839                 SI           100   \n",
              "3554   45760             USD          45760                 PH           100   \n",
              "1715  175000             USD         175000                 US             0   \n",
              "1431  180000             USD         180000                 US           100   \n",
              "702   136000             USD         136000                 US             0   \n",
              "\n",
              "     company_location company_size  \n",
              "3436               SI            L  \n",
              "3554               US            S  \n",
              "1715               US            M  \n",
              "1431               US            M  \n",
              "702                US            L  "
            ],
            "text/html": [
              "\n",
              "  <div id=\"df-b133fe6d-c964-4c88-9254-8903c5576597\" class=\"colab-df-container\">\n",
              "    <div>\n",
              "<style scoped>\n",
              "    .dataframe tbody tr th:only-of-type {\n",
              "        vertical-align: middle;\n",
              "    }\n",
              "\n",
              "    .dataframe tbody tr th {\n",
              "        vertical-align: top;\n",
              "    }\n",
              "\n",
              "    .dataframe thead th {\n",
              "        text-align: right;\n",
              "    }\n",
              "</style>\n",
              "<table border=\"1\" class=\"dataframe\">\n",
              "  <thead>\n",
              "    <tr style=\"text-align: right;\">\n",
              "      <th></th>\n",
              "      <th>work_year</th>\n",
              "      <th>experience_level</th>\n",
              "      <th>employment_type</th>\n",
              "      <th>job_title</th>\n",
              "      <th>salary</th>\n",
              "      <th>salary_currency</th>\n",
              "      <th>salary_in_usd</th>\n",
              "      <th>employee_residence</th>\n",
              "      <th>remote_ratio</th>\n",
              "      <th>company_location</th>\n",
              "      <th>company_size</th>\n",
              "    </tr>\n",
              "  </thead>\n",
              "  <tbody>\n",
              "    <tr>\n",
              "      <th>3436</th>\n",
              "      <td>2021</td>\n",
              "      <td>SE</td>\n",
              "      <td>FT</td>\n",
              "      <td>Head of Data</td>\n",
              "      <td>87000</td>\n",
              "      <td>EUR</td>\n",
              "      <td>102839</td>\n",
              "      <td>SI</td>\n",
              "      <td>100</td>\n",
              "      <td>SI</td>\n",
              "      <td>L</td>\n",
              "    </tr>\n",
              "    <tr>\n",
              "      <th>3554</th>\n",
              "      <td>2020</td>\n",
              "      <td>MI</td>\n",
              "      <td>FT</td>\n",
              "      <td>Data Scientist</td>\n",
              "      <td>45760</td>\n",
              "      <td>USD</td>\n",
              "      <td>45760</td>\n",
              "      <td>PH</td>\n",
              "      <td>100</td>\n",
              "      <td>US</td>\n",
              "      <td>S</td>\n",
              "    </tr>\n",
              "    <tr>\n",
              "      <th>1715</th>\n",
              "      <td>2023</td>\n",
              "      <td>SE</td>\n",
              "      <td>FT</td>\n",
              "      <td>NLP Engineer</td>\n",
              "      <td>175000</td>\n",
              "      <td>USD</td>\n",
              "      <td>175000</td>\n",
              "      <td>US</td>\n",
              "      <td>0</td>\n",
              "      <td>US</td>\n",
              "      <td>M</td>\n",
              "    </tr>\n",
              "    <tr>\n",
              "      <th>1431</th>\n",
              "      <td>2023</td>\n",
              "      <td>MI</td>\n",
              "      <td>FT</td>\n",
              "      <td>Machine Learning Engineer</td>\n",
              "      <td>180000</td>\n",
              "      <td>USD</td>\n",
              "      <td>180000</td>\n",
              "      <td>US</td>\n",
              "      <td>100</td>\n",
              "      <td>US</td>\n",
              "      <td>M</td>\n",
              "    </tr>\n",
              "    <tr>\n",
              "      <th>702</th>\n",
              "      <td>2023</td>\n",
              "      <td>SE</td>\n",
              "      <td>FT</td>\n",
              "      <td>Applied Scientist</td>\n",
              "      <td>136000</td>\n",
              "      <td>USD</td>\n",
              "      <td>136000</td>\n",
              "      <td>US</td>\n",
              "      <td>0</td>\n",
              "      <td>US</td>\n",
              "      <td>L</td>\n",
              "    </tr>\n",
              "  </tbody>\n",
              "</table>\n",
              "</div>\n",
              "    <div class=\"colab-df-buttons\">\n",
              "\n",
              "  <div class=\"colab-df-container\">\n",
              "    <button class=\"colab-df-convert\" onclick=\"convertToInteractive('df-b133fe6d-c964-4c88-9254-8903c5576597')\"\n",
              "            title=\"Convert this dataframe to an interactive table.\"\n",
              "            style=\"display:none;\">\n",
              "\n",
              "  <svg xmlns=\"http://www.w3.org/2000/svg\" height=\"24px\" viewBox=\"0 -960 960 960\">\n",
              "    <path d=\"M120-120v-720h720v720H120Zm60-500h600v-160H180v160Zm220 220h160v-160H400v160Zm0 220h160v-160H400v160ZM180-400h160v-160H180v160Zm440 0h160v-160H620v160ZM180-180h160v-160H180v160Zm440 0h160v-160H620v160Z\"/>\n",
              "  </svg>\n",
              "    </button>\n",
              "\n",
              "  <style>\n",
              "    .colab-df-container {\n",
              "      display:flex;\n",
              "      gap: 12px;\n",
              "    }\n",
              "\n",
              "    .colab-df-convert {\n",
              "      background-color: #E8F0FE;\n",
              "      border: none;\n",
              "      border-radius: 50%;\n",
              "      cursor: pointer;\n",
              "      display: none;\n",
              "      fill: #1967D2;\n",
              "      height: 32px;\n",
              "      padding: 0 0 0 0;\n",
              "      width: 32px;\n",
              "    }\n",
              "\n",
              "    .colab-df-convert:hover {\n",
              "      background-color: #E2EBFA;\n",
              "      box-shadow: 0px 1px 2px rgba(60, 64, 67, 0.3), 0px 1px 3px 1px rgba(60, 64, 67, 0.15);\n",
              "      fill: #174EA6;\n",
              "    }\n",
              "\n",
              "    .colab-df-buttons div {\n",
              "      margin-bottom: 4px;\n",
              "    }\n",
              "\n",
              "    [theme=dark] .colab-df-convert {\n",
              "      background-color: #3B4455;\n",
              "      fill: #D2E3FC;\n",
              "    }\n",
              "\n",
              "    [theme=dark] .colab-df-convert:hover {\n",
              "      background-color: #434B5C;\n",
              "      box-shadow: 0px 1px 3px 1px rgba(0, 0, 0, 0.15);\n",
              "      filter: drop-shadow(0px 1px 2px rgba(0, 0, 0, 0.3));\n",
              "      fill: #FFFFFF;\n",
              "    }\n",
              "  </style>\n",
              "\n",
              "    <script>\n",
              "      const buttonEl =\n",
              "        document.querySelector('#df-b133fe6d-c964-4c88-9254-8903c5576597 button.colab-df-convert');\n",
              "      buttonEl.style.display =\n",
              "        google.colab.kernel.accessAllowed ? 'block' : 'none';\n",
              "\n",
              "      async function convertToInteractive(key) {\n",
              "        const element = document.querySelector('#df-b133fe6d-c964-4c88-9254-8903c5576597');\n",
              "        const dataTable =\n",
              "          await google.colab.kernel.invokeFunction('convertToInteractive',\n",
              "                                                    [key], {});\n",
              "        if (!dataTable) return;\n",
              "\n",
              "        const docLinkHtml = 'Like what you see? Visit the ' +\n",
              "          '<a target=\"_blank\" href=https://colab.research.google.com/notebooks/data_table.ipynb>data table notebook</a>'\n",
              "          + ' to learn more about interactive tables.';\n",
              "        element.innerHTML = '';\n",
              "        dataTable['output_type'] = 'display_data';\n",
              "        await google.colab.output.renderOutput(dataTable, element);\n",
              "        const docLink = document.createElement('div');\n",
              "        docLink.innerHTML = docLinkHtml;\n",
              "        element.appendChild(docLink);\n",
              "      }\n",
              "    </script>\n",
              "  </div>\n",
              "\n",
              "\n",
              "<div id=\"df-9085a872-2b37-4462-add5-23502e43ebd7\">\n",
              "  <button class=\"colab-df-quickchart\" onclick=\"quickchart('df-9085a872-2b37-4462-add5-23502e43ebd7')\"\n",
              "            title=\"Suggest charts\"\n",
              "            style=\"display:none;\">\n",
              "\n",
              "<svg xmlns=\"http://www.w3.org/2000/svg\" height=\"24px\"viewBox=\"0 0 24 24\"\n",
              "     width=\"24px\">\n",
              "    <g>\n",
              "        <path d=\"M19 3H5c-1.1 0-2 .9-2 2v14c0 1.1.9 2 2 2h14c1.1 0 2-.9 2-2V5c0-1.1-.9-2-2-2zM9 17H7v-7h2v7zm4 0h-2V7h2v10zm4 0h-2v-4h2v4z\"/>\n",
              "    </g>\n",
              "</svg>\n",
              "  </button>\n",
              "\n",
              "<style>\n",
              "  .colab-df-quickchart {\n",
              "      --bg-color: #E8F0FE;\n",
              "      --fill-color: #1967D2;\n",
              "      --hover-bg-color: #E2EBFA;\n",
              "      --hover-fill-color: #174EA6;\n",
              "      --disabled-fill-color: #AAA;\n",
              "      --disabled-bg-color: #DDD;\n",
              "  }\n",
              "\n",
              "  [theme=dark] .colab-df-quickchart {\n",
              "      --bg-color: #3B4455;\n",
              "      --fill-color: #D2E3FC;\n",
              "      --hover-bg-color: #434B5C;\n",
              "      --hover-fill-color: #FFFFFF;\n",
              "      --disabled-bg-color: #3B4455;\n",
              "      --disabled-fill-color: #666;\n",
              "  }\n",
              "\n",
              "  .colab-df-quickchart {\n",
              "    background-color: var(--bg-color);\n",
              "    border: none;\n",
              "    border-radius: 50%;\n",
              "    cursor: pointer;\n",
              "    display: none;\n",
              "    fill: var(--fill-color);\n",
              "    height: 32px;\n",
              "    padding: 0;\n",
              "    width: 32px;\n",
              "  }\n",
              "\n",
              "  .colab-df-quickchart:hover {\n",
              "    background-color: var(--hover-bg-color);\n",
              "    box-shadow: 0 1px 2px rgba(60, 64, 67, 0.3), 0 1px 3px 1px rgba(60, 64, 67, 0.15);\n",
              "    fill: var(--button-hover-fill-color);\n",
              "  }\n",
              "\n",
              "  .colab-df-quickchart-complete:disabled,\n",
              "  .colab-df-quickchart-complete:disabled:hover {\n",
              "    background-color: var(--disabled-bg-color);\n",
              "    fill: var(--disabled-fill-color);\n",
              "    box-shadow: none;\n",
              "  }\n",
              "\n",
              "  .colab-df-spinner {\n",
              "    border: 2px solid var(--fill-color);\n",
              "    border-color: transparent;\n",
              "    border-bottom-color: var(--fill-color);\n",
              "    animation:\n",
              "      spin 1s steps(1) infinite;\n",
              "  }\n",
              "\n",
              "  @keyframes spin {\n",
              "    0% {\n",
              "      border-color: transparent;\n",
              "      border-bottom-color: var(--fill-color);\n",
              "      border-left-color: var(--fill-color);\n",
              "    }\n",
              "    20% {\n",
              "      border-color: transparent;\n",
              "      border-left-color: var(--fill-color);\n",
              "      border-top-color: var(--fill-color);\n",
              "    }\n",
              "    30% {\n",
              "      border-color: transparent;\n",
              "      border-left-color: var(--fill-color);\n",
              "      border-top-color: var(--fill-color);\n",
              "      border-right-color: var(--fill-color);\n",
              "    }\n",
              "    40% {\n",
              "      border-color: transparent;\n",
              "      border-right-color: var(--fill-color);\n",
              "      border-top-color: var(--fill-color);\n",
              "    }\n",
              "    60% {\n",
              "      border-color: transparent;\n",
              "      border-right-color: var(--fill-color);\n",
              "    }\n",
              "    80% {\n",
              "      border-color: transparent;\n",
              "      border-right-color: var(--fill-color);\n",
              "      border-bottom-color: var(--fill-color);\n",
              "    }\n",
              "    90% {\n",
              "      border-color: transparent;\n",
              "      border-bottom-color: var(--fill-color);\n",
              "    }\n",
              "  }\n",
              "</style>\n",
              "\n",
              "  <script>\n",
              "    async function quickchart(key) {\n",
              "      const quickchartButtonEl =\n",
              "        document.querySelector('#' + key + ' button');\n",
              "      quickchartButtonEl.disabled = true;  // To prevent multiple clicks.\n",
              "      quickchartButtonEl.classList.add('colab-df-spinner');\n",
              "      try {\n",
              "        const charts = await google.colab.kernel.invokeFunction(\n",
              "            'suggestCharts', [key], {});\n",
              "      } catch (error) {\n",
              "        console.error('Error during call to suggestCharts:', error);\n",
              "      }\n",
              "      quickchartButtonEl.classList.remove('colab-df-spinner');\n",
              "      quickchartButtonEl.classList.add('colab-df-quickchart-complete');\n",
              "    }\n",
              "    (() => {\n",
              "      let quickchartButtonEl =\n",
              "        document.querySelector('#df-9085a872-2b37-4462-add5-23502e43ebd7 button');\n",
              "      quickchartButtonEl.style.display =\n",
              "        google.colab.kernel.accessAllowed ? 'block' : 'none';\n",
              "    })();\n",
              "  </script>\n",
              "</div>\n",
              "    </div>\n",
              "  </div>\n"
            ]
          },
          "metadata": {},
          "execution_count": 179
        }
      ],
      "source": [
        "# View a random dataset of data\n",
        "sample = salary.sample(5)\n",
        "sample"
      ]
    },
    {
      "cell_type": "markdown",
      "metadata": {
        "id": "li_1I4NJ3Q6J"
      },
      "source": [
        "Now we need to know how many rows and columns are there in the data set, what variables it has and the data types of the variables."
      ]
    },
    {
      "cell_type": "code",
      "execution_count": null,
      "metadata": {
        "colab": {
          "base_uri": "https://localhost:8080/"
        },
        "id": "yzMOgjYb8LiB",
        "outputId": "701d1806-b839-4222-f824-960cfbacacc1"
      },
      "outputs": [
        {
          "output_type": "stream",
          "name": "stdout",
          "text": [
            "<class 'pandas.core.frame.DataFrame'>\n",
            "RangeIndex: 3755 entries, 0 to 3754\n",
            "Data columns (total 11 columns):\n",
            " #   Column              Non-Null Count  Dtype \n",
            "---  ------              --------------  ----- \n",
            " 0   work_year           3755 non-null   int64 \n",
            " 1   experience_level    3755 non-null   object\n",
            " 2   employment_type     3755 non-null   object\n",
            " 3   job_title           3755 non-null   object\n",
            " 4   salary              3755 non-null   int64 \n",
            " 5   salary_currency     3755 non-null   object\n",
            " 6   salary_in_usd       3755 non-null   int64 \n",
            " 7   employee_residence  3755 non-null   object\n",
            " 8   remote_ratio        3755 non-null   int64 \n",
            " 9   company_location    3755 non-null   object\n",
            " 10  company_size        3755 non-null   object\n",
            "dtypes: int64(4), object(7)\n",
            "memory usage: 322.8+ KB\n",
            "None\n"
          ]
        },
        {
          "output_type": "execute_result",
          "data": {
            "text/plain": [
              "(3755, 11)"
            ]
          },
          "metadata": {},
          "execution_count": 180
        }
      ],
      "source": [
        "# Viewing data type and getting the total number of rows and columns\n",
        "print(salary.info())\n",
        "salary.shape"
      ]
    },
    {
      "cell_type": "markdown",
      "metadata": {
        "id": "sZ1bfAk1oCY9"
      },
      "source": [
        "As we can see from the above data frame information, there are 3755 rows, 11 columns, and no missing values in this dataset since all fields have 3755 non-null entries.\n",
        "\n",
        "However, we could check again to assure if there are some missing values in the data set."
      ]
    },
    {
      "cell_type": "code",
      "execution_count": null,
      "metadata": {
        "colab": {
          "base_uri": "https://localhost:8080/"
        },
        "id": "EjwJAcwK4eO7",
        "outputId": "fef93950-f8d4-4741-ecd3-9ee3e4190df9"
      },
      "outputs": [
        {
          "output_type": "stream",
          "name": "stdout",
          "text": [
            "work_year             0\n",
            "experience_level      0\n",
            "employment_type       0\n",
            "job_title             0\n",
            "salary                0\n",
            "salary_currency       0\n",
            "salary_in_usd         0\n",
            "employee_residence    0\n",
            "remote_ratio          0\n",
            "company_location      0\n",
            "company_size          0\n",
            "dtype: int64\n",
            "work_year             0.0\n",
            "experience_level      0.0\n",
            "employment_type       0.0\n",
            "job_title             0.0\n",
            "salary                0.0\n",
            "salary_currency       0.0\n",
            "salary_in_usd         0.0\n",
            "employee_residence    0.0\n",
            "remote_ratio          0.0\n",
            "company_location      0.0\n",
            "company_size          0.0\n",
            "dtype: float64\n"
          ]
        }
      ],
      "source": [
        "# Check missing values\n",
        "missing_values = salary.isnull().sum()\n",
        "print(missing_values)\n",
        "\n",
        "# Calculate the missing percentage\n",
        "total_values = np.product(salary.shape)\n",
        "percentage = (missing_values / total_values) * 100\n",
        "print(percentage)"
      ]
    },
    {
      "cell_type": "markdown",
      "metadata": {
        "id": "lw5LMGsj6KWo"
      },
      "source": [
        "As per the above result, we now can ensure that **our data set has no missing value.**"
      ]
    },
    {
      "cell_type": "markdown",
      "metadata": {
        "id": "GYnt9FFGqfkT"
      },
      "source": [
        "### Data Transformation"
      ]
    },
    {
      "cell_type": "markdown",
      "metadata": {
        "id": "C9So43EkN6un"
      },
      "source": [
        "#### **Unnecessary data drop**\n",
        "\n",
        "Firstly, let us start by counting the number of entries in each nation."
      ]
    },
    {
      "cell_type": "code",
      "source": [
        "# Count the number of entries in each country\n",
        "salary['company_location'].value_counts()"
      ],
      "metadata": {
        "colab": {
          "base_uri": "https://localhost:8080/"
        },
        "id": "06h2g8vBbQ1Y",
        "outputId": "04209fd6-f47d-4aea-c0f3-bfcd988d83cc"
      },
      "execution_count": null,
      "outputs": [
        {
          "output_type": "execute_result",
          "data": {
            "text/plain": [
              "US    3040\n",
              "GB     172\n",
              "CA      87\n",
              "ES      77\n",
              "IN      58\n",
              "      ... \n",
              "MK       1\n",
              "BS       1\n",
              "IR       1\n",
              "CR       1\n",
              "MT       1\n",
              "Name: company_location, Length: 72, dtype: int64"
            ]
          },
          "metadata": {},
          "execution_count": 182
        }
      ]
    },
    {
      "cell_type": "markdown",
      "source": [
        "Out of 3,755 observations, 3,040 data values are from the US and these will significantly contribute in our analytics. Thus, we opted to retain only data from the US and exclude data from other nations."
      ],
      "metadata": {
        "id": "oXgP9yO3bPx4"
      }
    },
    {
      "cell_type": "code",
      "execution_count": null,
      "metadata": {
        "colab": {
          "base_uri": "https://localhost:8080/"
        },
        "id": "RUjCZTsJORg3",
        "outputId": "93357a71-662e-4758-aafe-5181436a5ea8"
      },
      "outputs": [
        {
          "output_type": "execute_result",
          "data": {
            "text/plain": [
              "(3040, 11)"
            ]
          },
          "metadata": {},
          "execution_count": 183
        }
      ],
      "source": [
        "# Filter data values to keep the US country only\n",
        "df_salary1 = salary[salary['company_location'] == 'US']\n",
        "df_salary1.shape"
      ]
    },
    {
      "cell_type": "markdown",
      "metadata": {
        "id": "IIChUCi4OX89"
      },
      "source": [
        "Now since we only have one country in the data, we no longer need 2 features \"company_location\" and \"employee_residence\", so we will drop them for a cleaner data set.\n",
        "\n",
        "Besides, the \"salary\" and \"salary_currency\" features will also be removed. We saw that there are 3 features relevant to salary: \"salary\", \"salary_currency\", and \"salary_in_usd\". However, we will primarily focus on the \"salary_in_usd\" feature because it provides a standardized currency for simple comparisons."
      ]
    },
    {
      "cell_type": "code",
      "execution_count": null,
      "metadata": {
        "colab": {
          "base_uri": "https://localhost:8080/"
        },
        "id": "VwCWLWMkObUs",
        "outputId": "43de119c-dceb-4130-8114-24b6c2b87c01"
      },
      "outputs": [
        {
          "output_type": "execute_result",
          "data": {
            "text/plain": [
              "(3040, 9)"
            ]
          },
          "metadata": {},
          "execution_count": 184
        }
      ],
      "source": [
        "# Drop 2 columns 'company_location' and 'employee_residence'\n",
        "df_salary2 = df_salary1.drop(columns=['company_location', 'employee_residence'])\n",
        "df_salary2.shape"
      ]
    },
    {
      "cell_type": "code",
      "execution_count": null,
      "metadata": {
        "colab": {
          "base_uri": "https://localhost:8080/",
          "height": 313
        },
        "id": "BnXEZT-bOdHD",
        "outputId": "3dfdb40d-1739-448c-f702-a45bb1a4b2e5"
      },
      "outputs": [
        {
          "output_type": "execute_result",
          "data": {
            "text/plain": [
              "   work_year experience_level employment_type          job_title  \\\n",
              "1       2023               MI              CT        ML Engineer   \n",
              "2       2023               MI              CT        ML Engineer   \n",
              "5       2023               SE              FT  Applied Scientist   \n",
              "6       2023               SE              FT  Applied Scientist   \n",
              "9       2023               SE              FT     Data Scientist   \n",
              "\n",
              "   salary_in_usd  remote_ratio company_size  \n",
              "1          30000           100            S  \n",
              "2          25500           100            S  \n",
              "5         222200             0            L  \n",
              "6         136000             0            L  \n",
              "9         147100             0            M  "
            ],
            "text/html": [
              "\n",
              "  <div id=\"df-b3a0d9c7-4963-4c74-923d-2255abb3b2f9\" class=\"colab-df-container\">\n",
              "    <div>\n",
              "<style scoped>\n",
              "    .dataframe tbody tr th:only-of-type {\n",
              "        vertical-align: middle;\n",
              "    }\n",
              "\n",
              "    .dataframe tbody tr th {\n",
              "        vertical-align: top;\n",
              "    }\n",
              "\n",
              "    .dataframe thead th {\n",
              "        text-align: right;\n",
              "    }\n",
              "</style>\n",
              "<table border=\"1\" class=\"dataframe\">\n",
              "  <thead>\n",
              "    <tr style=\"text-align: right;\">\n",
              "      <th></th>\n",
              "      <th>work_year</th>\n",
              "      <th>experience_level</th>\n",
              "      <th>employment_type</th>\n",
              "      <th>job_title</th>\n",
              "      <th>salary_in_usd</th>\n",
              "      <th>remote_ratio</th>\n",
              "      <th>company_size</th>\n",
              "    </tr>\n",
              "  </thead>\n",
              "  <tbody>\n",
              "    <tr>\n",
              "      <th>1</th>\n",
              "      <td>2023</td>\n",
              "      <td>MI</td>\n",
              "      <td>CT</td>\n",
              "      <td>ML Engineer</td>\n",
              "      <td>30000</td>\n",
              "      <td>100</td>\n",
              "      <td>S</td>\n",
              "    </tr>\n",
              "    <tr>\n",
              "      <th>2</th>\n",
              "      <td>2023</td>\n",
              "      <td>MI</td>\n",
              "      <td>CT</td>\n",
              "      <td>ML Engineer</td>\n",
              "      <td>25500</td>\n",
              "      <td>100</td>\n",
              "      <td>S</td>\n",
              "    </tr>\n",
              "    <tr>\n",
              "      <th>5</th>\n",
              "      <td>2023</td>\n",
              "      <td>SE</td>\n",
              "      <td>FT</td>\n",
              "      <td>Applied Scientist</td>\n",
              "      <td>222200</td>\n",
              "      <td>0</td>\n",
              "      <td>L</td>\n",
              "    </tr>\n",
              "    <tr>\n",
              "      <th>6</th>\n",
              "      <td>2023</td>\n",
              "      <td>SE</td>\n",
              "      <td>FT</td>\n",
              "      <td>Applied Scientist</td>\n",
              "      <td>136000</td>\n",
              "      <td>0</td>\n",
              "      <td>L</td>\n",
              "    </tr>\n",
              "    <tr>\n",
              "      <th>9</th>\n",
              "      <td>2023</td>\n",
              "      <td>SE</td>\n",
              "      <td>FT</td>\n",
              "      <td>Data Scientist</td>\n",
              "      <td>147100</td>\n",
              "      <td>0</td>\n",
              "      <td>M</td>\n",
              "    </tr>\n",
              "  </tbody>\n",
              "</table>\n",
              "</div>\n",
              "    <div class=\"colab-df-buttons\">\n",
              "\n",
              "  <div class=\"colab-df-container\">\n",
              "    <button class=\"colab-df-convert\" onclick=\"convertToInteractive('df-b3a0d9c7-4963-4c74-923d-2255abb3b2f9')\"\n",
              "            title=\"Convert this dataframe to an interactive table.\"\n",
              "            style=\"display:none;\">\n",
              "\n",
              "  <svg xmlns=\"http://www.w3.org/2000/svg\" height=\"24px\" viewBox=\"0 -960 960 960\">\n",
              "    <path d=\"M120-120v-720h720v720H120Zm60-500h600v-160H180v160Zm220 220h160v-160H400v160Zm0 220h160v-160H400v160ZM180-400h160v-160H180v160Zm440 0h160v-160H620v160ZM180-180h160v-160H180v160Zm440 0h160v-160H620v160Z\"/>\n",
              "  </svg>\n",
              "    </button>\n",
              "\n",
              "  <style>\n",
              "    .colab-df-container {\n",
              "      display:flex;\n",
              "      gap: 12px;\n",
              "    }\n",
              "\n",
              "    .colab-df-convert {\n",
              "      background-color: #E8F0FE;\n",
              "      border: none;\n",
              "      border-radius: 50%;\n",
              "      cursor: pointer;\n",
              "      display: none;\n",
              "      fill: #1967D2;\n",
              "      height: 32px;\n",
              "      padding: 0 0 0 0;\n",
              "      width: 32px;\n",
              "    }\n",
              "\n",
              "    .colab-df-convert:hover {\n",
              "      background-color: #E2EBFA;\n",
              "      box-shadow: 0px 1px 2px rgba(60, 64, 67, 0.3), 0px 1px 3px 1px rgba(60, 64, 67, 0.15);\n",
              "      fill: #174EA6;\n",
              "    }\n",
              "\n",
              "    .colab-df-buttons div {\n",
              "      margin-bottom: 4px;\n",
              "    }\n",
              "\n",
              "    [theme=dark] .colab-df-convert {\n",
              "      background-color: #3B4455;\n",
              "      fill: #D2E3FC;\n",
              "    }\n",
              "\n",
              "    [theme=dark] .colab-df-convert:hover {\n",
              "      background-color: #434B5C;\n",
              "      box-shadow: 0px 1px 3px 1px rgba(0, 0, 0, 0.15);\n",
              "      filter: drop-shadow(0px 1px 2px rgba(0, 0, 0, 0.3));\n",
              "      fill: #FFFFFF;\n",
              "    }\n",
              "  </style>\n",
              "\n",
              "    <script>\n",
              "      const buttonEl =\n",
              "        document.querySelector('#df-b3a0d9c7-4963-4c74-923d-2255abb3b2f9 button.colab-df-convert');\n",
              "      buttonEl.style.display =\n",
              "        google.colab.kernel.accessAllowed ? 'block' : 'none';\n",
              "\n",
              "      async function convertToInteractive(key) {\n",
              "        const element = document.querySelector('#df-b3a0d9c7-4963-4c74-923d-2255abb3b2f9');\n",
              "        const dataTable =\n",
              "          await google.colab.kernel.invokeFunction('convertToInteractive',\n",
              "                                                    [key], {});\n",
              "        if (!dataTable) return;\n",
              "\n",
              "        const docLinkHtml = 'Like what you see? Visit the ' +\n",
              "          '<a target=\"_blank\" href=https://colab.research.google.com/notebooks/data_table.ipynb>data table notebook</a>'\n",
              "          + ' to learn more about interactive tables.';\n",
              "        element.innerHTML = '';\n",
              "        dataTable['output_type'] = 'display_data';\n",
              "        await google.colab.output.renderOutput(dataTable, element);\n",
              "        const docLink = document.createElement('div');\n",
              "        docLink.innerHTML = docLinkHtml;\n",
              "        element.appendChild(docLink);\n",
              "      }\n",
              "    </script>\n",
              "  </div>\n",
              "\n",
              "\n",
              "<div id=\"df-db952e3d-7dac-456d-ac26-90745008ce51\">\n",
              "  <button class=\"colab-df-quickchart\" onclick=\"quickchart('df-db952e3d-7dac-456d-ac26-90745008ce51')\"\n",
              "            title=\"Suggest charts\"\n",
              "            style=\"display:none;\">\n",
              "\n",
              "<svg xmlns=\"http://www.w3.org/2000/svg\" height=\"24px\"viewBox=\"0 0 24 24\"\n",
              "     width=\"24px\">\n",
              "    <g>\n",
              "        <path d=\"M19 3H5c-1.1 0-2 .9-2 2v14c0 1.1.9 2 2 2h14c1.1 0 2-.9 2-2V5c0-1.1-.9-2-2-2zM9 17H7v-7h2v7zm4 0h-2V7h2v10zm4 0h-2v-4h2v4z\"/>\n",
              "    </g>\n",
              "</svg>\n",
              "  </button>\n",
              "\n",
              "<style>\n",
              "  .colab-df-quickchart {\n",
              "      --bg-color: #E8F0FE;\n",
              "      --fill-color: #1967D2;\n",
              "      --hover-bg-color: #E2EBFA;\n",
              "      --hover-fill-color: #174EA6;\n",
              "      --disabled-fill-color: #AAA;\n",
              "      --disabled-bg-color: #DDD;\n",
              "  }\n",
              "\n",
              "  [theme=dark] .colab-df-quickchart {\n",
              "      --bg-color: #3B4455;\n",
              "      --fill-color: #D2E3FC;\n",
              "      --hover-bg-color: #434B5C;\n",
              "      --hover-fill-color: #FFFFFF;\n",
              "      --disabled-bg-color: #3B4455;\n",
              "      --disabled-fill-color: #666;\n",
              "  }\n",
              "\n",
              "  .colab-df-quickchart {\n",
              "    background-color: var(--bg-color);\n",
              "    border: none;\n",
              "    border-radius: 50%;\n",
              "    cursor: pointer;\n",
              "    display: none;\n",
              "    fill: var(--fill-color);\n",
              "    height: 32px;\n",
              "    padding: 0;\n",
              "    width: 32px;\n",
              "  }\n",
              "\n",
              "  .colab-df-quickchart:hover {\n",
              "    background-color: var(--hover-bg-color);\n",
              "    box-shadow: 0 1px 2px rgba(60, 64, 67, 0.3), 0 1px 3px 1px rgba(60, 64, 67, 0.15);\n",
              "    fill: var(--button-hover-fill-color);\n",
              "  }\n",
              "\n",
              "  .colab-df-quickchart-complete:disabled,\n",
              "  .colab-df-quickchart-complete:disabled:hover {\n",
              "    background-color: var(--disabled-bg-color);\n",
              "    fill: var(--disabled-fill-color);\n",
              "    box-shadow: none;\n",
              "  }\n",
              "\n",
              "  .colab-df-spinner {\n",
              "    border: 2px solid var(--fill-color);\n",
              "    border-color: transparent;\n",
              "    border-bottom-color: var(--fill-color);\n",
              "    animation:\n",
              "      spin 1s steps(1) infinite;\n",
              "  }\n",
              "\n",
              "  @keyframes spin {\n",
              "    0% {\n",
              "      border-color: transparent;\n",
              "      border-bottom-color: var(--fill-color);\n",
              "      border-left-color: var(--fill-color);\n",
              "    }\n",
              "    20% {\n",
              "      border-color: transparent;\n",
              "      border-left-color: var(--fill-color);\n",
              "      border-top-color: var(--fill-color);\n",
              "    }\n",
              "    30% {\n",
              "      border-color: transparent;\n",
              "      border-left-color: var(--fill-color);\n",
              "      border-top-color: var(--fill-color);\n",
              "      border-right-color: var(--fill-color);\n",
              "    }\n",
              "    40% {\n",
              "      border-color: transparent;\n",
              "      border-right-color: var(--fill-color);\n",
              "      border-top-color: var(--fill-color);\n",
              "    }\n",
              "    60% {\n",
              "      border-color: transparent;\n",
              "      border-right-color: var(--fill-color);\n",
              "    }\n",
              "    80% {\n",
              "      border-color: transparent;\n",
              "      border-right-color: var(--fill-color);\n",
              "      border-bottom-color: var(--fill-color);\n",
              "    }\n",
              "    90% {\n",
              "      border-color: transparent;\n",
              "      border-bottom-color: var(--fill-color);\n",
              "    }\n",
              "  }\n",
              "</style>\n",
              "\n",
              "  <script>\n",
              "    async function quickchart(key) {\n",
              "      const quickchartButtonEl =\n",
              "        document.querySelector('#' + key + ' button');\n",
              "      quickchartButtonEl.disabled = true;  // To prevent multiple clicks.\n",
              "      quickchartButtonEl.classList.add('colab-df-spinner');\n",
              "      try {\n",
              "        const charts = await google.colab.kernel.invokeFunction(\n",
              "            'suggestCharts', [key], {});\n",
              "      } catch (error) {\n",
              "        console.error('Error during call to suggestCharts:', error);\n",
              "      }\n",
              "      quickchartButtonEl.classList.remove('colab-df-spinner');\n",
              "      quickchartButtonEl.classList.add('colab-df-quickchart-complete');\n",
              "    }\n",
              "    (() => {\n",
              "      let quickchartButtonEl =\n",
              "        document.querySelector('#df-db952e3d-7dac-456d-ac26-90745008ce51 button');\n",
              "      quickchartButtonEl.style.display =\n",
              "        google.colab.kernel.accessAllowed ? 'block' : 'none';\n",
              "    })();\n",
              "  </script>\n",
              "</div>\n",
              "    </div>\n",
              "  </div>\n"
            ]
          },
          "metadata": {},
          "execution_count": 185
        }
      ],
      "source": [
        "# Drop 2 columns: 'salary' and 'salary_currency'\n",
        "df_salary3 = df_salary2.drop(['salary','salary_currency'], axis=1)\n",
        "df_salary3.head()"
      ]
    },
    {
      "cell_type": "code",
      "execution_count": null,
      "metadata": {
        "colab": {
          "base_uri": "https://localhost:8080/"
        },
        "id": "Xa32NeQLOjuj",
        "outputId": "87b2e98b-3975-4ebf-aaaf-ef013413a590"
      },
      "outputs": [
        {
          "output_type": "execute_result",
          "data": {
            "text/plain": [
              "(3040, 7)"
            ]
          },
          "metadata": {},
          "execution_count": 186
        }
      ],
      "source": [
        "# Check the number of rows and columns of the latest dataset\n",
        "df_salary3.shape"
      ]
    },
    {
      "cell_type": "markdown",
      "metadata": {
        "id": "H_9JrKTcOoua"
      },
      "source": [
        "As observed, there are limited number of data values for the year 2020, 2021 ( 131 out of 3,040 observations) in the latest data set. These data may not contribute significantly to our analytics, so we will exclude it in the final data set."
      ]
    },
    {
      "cell_type": "code",
      "execution_count": null,
      "metadata": {
        "colab": {
          "base_uri": "https://localhost:8080/"
        },
        "id": "ecq4A8JrOwjg",
        "outputId": "60d41db3-f402-49fa-91d6-22404db892fd"
      },
      "outputs": [
        {
          "output_type": "execute_result",
          "data": {
            "text/plain": [
              "(2909, 7)"
            ]
          },
          "metadata": {},
          "execution_count": 187
        }
      ],
      "source": [
        "# Filter data without values of years 2020 and 2021\n",
        "df_salary = df_salary3[(df_salary3['work_year'] != 2020) & (df_salary3['work_year'] != 2021)]\n",
        "df_salary.shape"
      ]
    },
    {
      "cell_type": "markdown",
      "metadata": {
        "id": "phVLFKQ3O6X8"
      },
      "source": [
        "After this filter, our data set now has **2909 rows and 7 columns** in total."
      ]
    },
    {
      "cell_type": "markdown",
      "metadata": {
        "id": "fTuXLZdO9t2s"
      },
      "source": [
        "#### **Duplicated values**\n",
        "\n",
        "We are going to identify and remove duplicated values (if any) in order to smooth our data set."
      ]
    },
    {
      "cell_type": "code",
      "execution_count": null,
      "metadata": {
        "colab": {
          "base_uri": "https://localhost:8080/"
        },
        "id": "go4U63aAGrMm",
        "outputId": "60b6e906-3fa4-46bd-fc99-e6e24aa36924"
      },
      "outputs": [
        {
          "output_type": "execute_result",
          "data": {
            "text/plain": [
              "False    1798\n",
              "True     1111\n",
              "dtype: int64"
            ]
          },
          "metadata": {},
          "execution_count": 188
        }
      ],
      "source": [
        "# Check duplicate values\n",
        "dup_value = df_salary.duplicated()\n",
        "\n",
        "# Find the number of duplicate values\n",
        "dup_value_count = dup_value.value_counts()\n",
        "dup_value_count"
      ]
    },
    {
      "cell_type": "markdown",
      "metadata": {
        "id": "SbDUU3HGpzfg"
      },
      "source": [
        "The result shows that there are **1111 duplicated entries** in our **final dataset**.\n",
        "\n",
        "Before dropping them, we will display some of these duplicated values to see if they are valid to assure that we don't make any mistake here."
      ]
    },
    {
      "cell_type": "code",
      "execution_count": null,
      "metadata": {
        "colab": {
          "base_uri": "https://localhost:8080/",
          "height": 557
        },
        "id": "NIQ7LYfHp3ju",
        "outputId": "2982030e-e24a-4253-9a56-fd8dc059fbbe"
      },
      "outputs": [
        {
          "output_type": "execute_result",
          "data": {
            "text/plain": [
              "     work_year experience_level employment_type           job_title  \\\n",
              "115       2023               SE              FT      Data Scientist   \n",
              "123       2023               SE              FT  Analytics Engineer   \n",
              "153       2023               MI              FT       Data Engineer   \n",
              "154       2023               MI              FT       Data Engineer   \n",
              "160       2023               SE              FT       Data Engineer   \n",
              "163       2023               SE              FT   Applied Scientist   \n",
              "164       2023               SE              FT   Applied Scientist   \n",
              "167       2023               MI              FT       Data Engineer   \n",
              "168       2023               MI              FT       Data Engineer   \n",
              "171       2023               SE              FT       Data Engineer   \n",
              "\n",
              "     salary_in_usd  remote_ratio company_size  \n",
              "115         150000             0            M  \n",
              "123         289800             0            M  \n",
              "153         100000           100            M  \n",
              "154          70000           100            M  \n",
              "160         115000             0            M  \n",
              "163         309400             0            L  \n",
              "164         159100             0            L  \n",
              "167         162500             0            M  \n",
              "168         130000             0            M  \n",
              "171         145000             0            M  "
            ],
            "text/html": [
              "\n",
              "  <div id=\"df-883a9fb9-3d37-4278-a41b-032dbff32ee6\" class=\"colab-df-container\">\n",
              "    <div>\n",
              "<style scoped>\n",
              "    .dataframe tbody tr th:only-of-type {\n",
              "        vertical-align: middle;\n",
              "    }\n",
              "\n",
              "    .dataframe tbody tr th {\n",
              "        vertical-align: top;\n",
              "    }\n",
              "\n",
              "    .dataframe thead th {\n",
              "        text-align: right;\n",
              "    }\n",
              "</style>\n",
              "<table border=\"1\" class=\"dataframe\">\n",
              "  <thead>\n",
              "    <tr style=\"text-align: right;\">\n",
              "      <th></th>\n",
              "      <th>work_year</th>\n",
              "      <th>experience_level</th>\n",
              "      <th>employment_type</th>\n",
              "      <th>job_title</th>\n",
              "      <th>salary_in_usd</th>\n",
              "      <th>remote_ratio</th>\n",
              "      <th>company_size</th>\n",
              "    </tr>\n",
              "  </thead>\n",
              "  <tbody>\n",
              "    <tr>\n",
              "      <th>115</th>\n",
              "      <td>2023</td>\n",
              "      <td>SE</td>\n",
              "      <td>FT</td>\n",
              "      <td>Data Scientist</td>\n",
              "      <td>150000</td>\n",
              "      <td>0</td>\n",
              "      <td>M</td>\n",
              "    </tr>\n",
              "    <tr>\n",
              "      <th>123</th>\n",
              "      <td>2023</td>\n",
              "      <td>SE</td>\n",
              "      <td>FT</td>\n",
              "      <td>Analytics Engineer</td>\n",
              "      <td>289800</td>\n",
              "      <td>0</td>\n",
              "      <td>M</td>\n",
              "    </tr>\n",
              "    <tr>\n",
              "      <th>153</th>\n",
              "      <td>2023</td>\n",
              "      <td>MI</td>\n",
              "      <td>FT</td>\n",
              "      <td>Data Engineer</td>\n",
              "      <td>100000</td>\n",
              "      <td>100</td>\n",
              "      <td>M</td>\n",
              "    </tr>\n",
              "    <tr>\n",
              "      <th>154</th>\n",
              "      <td>2023</td>\n",
              "      <td>MI</td>\n",
              "      <td>FT</td>\n",
              "      <td>Data Engineer</td>\n",
              "      <td>70000</td>\n",
              "      <td>100</td>\n",
              "      <td>M</td>\n",
              "    </tr>\n",
              "    <tr>\n",
              "      <th>160</th>\n",
              "      <td>2023</td>\n",
              "      <td>SE</td>\n",
              "      <td>FT</td>\n",
              "      <td>Data Engineer</td>\n",
              "      <td>115000</td>\n",
              "      <td>0</td>\n",
              "      <td>M</td>\n",
              "    </tr>\n",
              "    <tr>\n",
              "      <th>163</th>\n",
              "      <td>2023</td>\n",
              "      <td>SE</td>\n",
              "      <td>FT</td>\n",
              "      <td>Applied Scientist</td>\n",
              "      <td>309400</td>\n",
              "      <td>0</td>\n",
              "      <td>L</td>\n",
              "    </tr>\n",
              "    <tr>\n",
              "      <th>164</th>\n",
              "      <td>2023</td>\n",
              "      <td>SE</td>\n",
              "      <td>FT</td>\n",
              "      <td>Applied Scientist</td>\n",
              "      <td>159100</td>\n",
              "      <td>0</td>\n",
              "      <td>L</td>\n",
              "    </tr>\n",
              "    <tr>\n",
              "      <th>167</th>\n",
              "      <td>2023</td>\n",
              "      <td>MI</td>\n",
              "      <td>FT</td>\n",
              "      <td>Data Engineer</td>\n",
              "      <td>162500</td>\n",
              "      <td>0</td>\n",
              "      <td>M</td>\n",
              "    </tr>\n",
              "    <tr>\n",
              "      <th>168</th>\n",
              "      <td>2023</td>\n",
              "      <td>MI</td>\n",
              "      <td>FT</td>\n",
              "      <td>Data Engineer</td>\n",
              "      <td>130000</td>\n",
              "      <td>0</td>\n",
              "      <td>M</td>\n",
              "    </tr>\n",
              "    <tr>\n",
              "      <th>171</th>\n",
              "      <td>2023</td>\n",
              "      <td>SE</td>\n",
              "      <td>FT</td>\n",
              "      <td>Data Engineer</td>\n",
              "      <td>145000</td>\n",
              "      <td>0</td>\n",
              "      <td>M</td>\n",
              "    </tr>\n",
              "  </tbody>\n",
              "</table>\n",
              "</div>\n",
              "    <div class=\"colab-df-buttons\">\n",
              "\n",
              "  <div class=\"colab-df-container\">\n",
              "    <button class=\"colab-df-convert\" onclick=\"convertToInteractive('df-883a9fb9-3d37-4278-a41b-032dbff32ee6')\"\n",
              "            title=\"Convert this dataframe to an interactive table.\"\n",
              "            style=\"display:none;\">\n",
              "\n",
              "  <svg xmlns=\"http://www.w3.org/2000/svg\" height=\"24px\" viewBox=\"0 -960 960 960\">\n",
              "    <path d=\"M120-120v-720h720v720H120Zm60-500h600v-160H180v160Zm220 220h160v-160H400v160Zm0 220h160v-160H400v160ZM180-400h160v-160H180v160Zm440 0h160v-160H620v160ZM180-180h160v-160H180v160Zm440 0h160v-160H620v160Z\"/>\n",
              "  </svg>\n",
              "    </button>\n",
              "\n",
              "  <style>\n",
              "    .colab-df-container {\n",
              "      display:flex;\n",
              "      gap: 12px;\n",
              "    }\n",
              "\n",
              "    .colab-df-convert {\n",
              "      background-color: #E8F0FE;\n",
              "      border: none;\n",
              "      border-radius: 50%;\n",
              "      cursor: pointer;\n",
              "      display: none;\n",
              "      fill: #1967D2;\n",
              "      height: 32px;\n",
              "      padding: 0 0 0 0;\n",
              "      width: 32px;\n",
              "    }\n",
              "\n",
              "    .colab-df-convert:hover {\n",
              "      background-color: #E2EBFA;\n",
              "      box-shadow: 0px 1px 2px rgba(60, 64, 67, 0.3), 0px 1px 3px 1px rgba(60, 64, 67, 0.15);\n",
              "      fill: #174EA6;\n",
              "    }\n",
              "\n",
              "    .colab-df-buttons div {\n",
              "      margin-bottom: 4px;\n",
              "    }\n",
              "\n",
              "    [theme=dark] .colab-df-convert {\n",
              "      background-color: #3B4455;\n",
              "      fill: #D2E3FC;\n",
              "    }\n",
              "\n",
              "    [theme=dark] .colab-df-convert:hover {\n",
              "      background-color: #434B5C;\n",
              "      box-shadow: 0px 1px 3px 1px rgba(0, 0, 0, 0.15);\n",
              "      filter: drop-shadow(0px 1px 2px rgba(0, 0, 0, 0.3));\n",
              "      fill: #FFFFFF;\n",
              "    }\n",
              "  </style>\n",
              "\n",
              "    <script>\n",
              "      const buttonEl =\n",
              "        document.querySelector('#df-883a9fb9-3d37-4278-a41b-032dbff32ee6 button.colab-df-convert');\n",
              "      buttonEl.style.display =\n",
              "        google.colab.kernel.accessAllowed ? 'block' : 'none';\n",
              "\n",
              "      async function convertToInteractive(key) {\n",
              "        const element = document.querySelector('#df-883a9fb9-3d37-4278-a41b-032dbff32ee6');\n",
              "        const dataTable =\n",
              "          await google.colab.kernel.invokeFunction('convertToInteractive',\n",
              "                                                    [key], {});\n",
              "        if (!dataTable) return;\n",
              "\n",
              "        const docLinkHtml = 'Like what you see? Visit the ' +\n",
              "          '<a target=\"_blank\" href=https://colab.research.google.com/notebooks/data_table.ipynb>data table notebook</a>'\n",
              "          + ' to learn more about interactive tables.';\n",
              "        element.innerHTML = '';\n",
              "        dataTable['output_type'] = 'display_data';\n",
              "        await google.colab.output.renderOutput(dataTable, element);\n",
              "        const docLink = document.createElement('div');\n",
              "        docLink.innerHTML = docLinkHtml;\n",
              "        element.appendChild(docLink);\n",
              "      }\n",
              "    </script>\n",
              "  </div>\n",
              "\n",
              "\n",
              "<div id=\"df-89aa730f-ea08-4549-be5d-aba51d0f34fe\">\n",
              "  <button class=\"colab-df-quickchart\" onclick=\"quickchart('df-89aa730f-ea08-4549-be5d-aba51d0f34fe')\"\n",
              "            title=\"Suggest charts\"\n",
              "            style=\"display:none;\">\n",
              "\n",
              "<svg xmlns=\"http://www.w3.org/2000/svg\" height=\"24px\"viewBox=\"0 0 24 24\"\n",
              "     width=\"24px\">\n",
              "    <g>\n",
              "        <path d=\"M19 3H5c-1.1 0-2 .9-2 2v14c0 1.1.9 2 2 2h14c1.1 0 2-.9 2-2V5c0-1.1-.9-2-2-2zM9 17H7v-7h2v7zm4 0h-2V7h2v10zm4 0h-2v-4h2v4z\"/>\n",
              "    </g>\n",
              "</svg>\n",
              "  </button>\n",
              "\n",
              "<style>\n",
              "  .colab-df-quickchart {\n",
              "      --bg-color: #E8F0FE;\n",
              "      --fill-color: #1967D2;\n",
              "      --hover-bg-color: #E2EBFA;\n",
              "      --hover-fill-color: #174EA6;\n",
              "      --disabled-fill-color: #AAA;\n",
              "      --disabled-bg-color: #DDD;\n",
              "  }\n",
              "\n",
              "  [theme=dark] .colab-df-quickchart {\n",
              "      --bg-color: #3B4455;\n",
              "      --fill-color: #D2E3FC;\n",
              "      --hover-bg-color: #434B5C;\n",
              "      --hover-fill-color: #FFFFFF;\n",
              "      --disabled-bg-color: #3B4455;\n",
              "      --disabled-fill-color: #666;\n",
              "  }\n",
              "\n",
              "  .colab-df-quickchart {\n",
              "    background-color: var(--bg-color);\n",
              "    border: none;\n",
              "    border-radius: 50%;\n",
              "    cursor: pointer;\n",
              "    display: none;\n",
              "    fill: var(--fill-color);\n",
              "    height: 32px;\n",
              "    padding: 0;\n",
              "    width: 32px;\n",
              "  }\n",
              "\n",
              "  .colab-df-quickchart:hover {\n",
              "    background-color: var(--hover-bg-color);\n",
              "    box-shadow: 0 1px 2px rgba(60, 64, 67, 0.3), 0 1px 3px 1px rgba(60, 64, 67, 0.15);\n",
              "    fill: var(--button-hover-fill-color);\n",
              "  }\n",
              "\n",
              "  .colab-df-quickchart-complete:disabled,\n",
              "  .colab-df-quickchart-complete:disabled:hover {\n",
              "    background-color: var(--disabled-bg-color);\n",
              "    fill: var(--disabled-fill-color);\n",
              "    box-shadow: none;\n",
              "  }\n",
              "\n",
              "  .colab-df-spinner {\n",
              "    border: 2px solid var(--fill-color);\n",
              "    border-color: transparent;\n",
              "    border-bottom-color: var(--fill-color);\n",
              "    animation:\n",
              "      spin 1s steps(1) infinite;\n",
              "  }\n",
              "\n",
              "  @keyframes spin {\n",
              "    0% {\n",
              "      border-color: transparent;\n",
              "      border-bottom-color: var(--fill-color);\n",
              "      border-left-color: var(--fill-color);\n",
              "    }\n",
              "    20% {\n",
              "      border-color: transparent;\n",
              "      border-left-color: var(--fill-color);\n",
              "      border-top-color: var(--fill-color);\n",
              "    }\n",
              "    30% {\n",
              "      border-color: transparent;\n",
              "      border-left-color: var(--fill-color);\n",
              "      border-top-color: var(--fill-color);\n",
              "      border-right-color: var(--fill-color);\n",
              "    }\n",
              "    40% {\n",
              "      border-color: transparent;\n",
              "      border-right-color: var(--fill-color);\n",
              "      border-top-color: var(--fill-color);\n",
              "    }\n",
              "    60% {\n",
              "      border-color: transparent;\n",
              "      border-right-color: var(--fill-color);\n",
              "    }\n",
              "    80% {\n",
              "      border-color: transparent;\n",
              "      border-right-color: var(--fill-color);\n",
              "      border-bottom-color: var(--fill-color);\n",
              "    }\n",
              "    90% {\n",
              "      border-color: transparent;\n",
              "      border-bottom-color: var(--fill-color);\n",
              "    }\n",
              "  }\n",
              "</style>\n",
              "\n",
              "  <script>\n",
              "    async function quickchart(key) {\n",
              "      const quickchartButtonEl =\n",
              "        document.querySelector('#' + key + ' button');\n",
              "      quickchartButtonEl.disabled = true;  // To prevent multiple clicks.\n",
              "      quickchartButtonEl.classList.add('colab-df-spinner');\n",
              "      try {\n",
              "        const charts = await google.colab.kernel.invokeFunction(\n",
              "            'suggestCharts', [key], {});\n",
              "      } catch (error) {\n",
              "        console.error('Error during call to suggestCharts:', error);\n",
              "      }\n",
              "      quickchartButtonEl.classList.remove('colab-df-spinner');\n",
              "      quickchartButtonEl.classList.add('colab-df-quickchart-complete');\n",
              "    }\n",
              "    (() => {\n",
              "      let quickchartButtonEl =\n",
              "        document.querySelector('#df-89aa730f-ea08-4549-be5d-aba51d0f34fe button');\n",
              "      quickchartButtonEl.style.display =\n",
              "        google.colab.kernel.accessAllowed ? 'block' : 'none';\n",
              "    })();\n",
              "  </script>\n",
              "</div>\n",
              "    </div>\n",
              "  </div>\n"
            ]
          },
          "metadata": {},
          "execution_count": 189
        }
      ],
      "source": [
        "# Show some rows of duplicate values to investigate\n",
        "df_salary[dup_value].head(10)"
      ]
    },
    {
      "cell_type": "markdown",
      "metadata": {
        "id": "1l1djEHAqBSO"
      },
      "source": [
        "After manually examining the above duplicated values, we found that ***each of the duplicates had unique values in the \"salary_in_usd\"*** feature. Hence, we concluded that all of these duplicate entries are invalid observations, and **none of them will be removed**."
      ]
    },
    {
      "cell_type": "markdown",
      "metadata": {
        "id": "rPhRTmz29-wE"
      },
      "source": [
        "#### **Distinct values**"
      ]
    },
    {
      "cell_type": "code",
      "execution_count": null,
      "metadata": {
        "colab": {
          "base_uri": "https://localhost:8080/",
          "height": 286
        },
        "id": "LsJv7OzxFqjK",
        "outputId": "d6a2509e-6825-4b28-ed82-4f3c22ba48f4"
      },
      "outputs": [
        {
          "output_type": "execute_result",
          "data": {
            "text/plain": [
              "        Column_name  Distinct_values_count  \\\n",
              "0         work_year                      2   \n",
              "1  experience_level                      4   \n",
              "2   employment_type                      4   \n",
              "3         job_title                     61   \n",
              "4     salary_in_usd                    645   \n",
              "5      remote_ratio                      3   \n",
              "6      company_size                      3   \n",
              "\n",
              "                                        Values_range  \n",
              "0                                       [2023, 2022]  \n",
              "1                                   [MI, SE, EN, EX]  \n",
              "2                                   [CT, FT, PT, FL]  \n",
              "3  [ML Engineer, Applied Scientist, Data Scientis...  \n",
              "4  [30000, 25500, 222200, 136000, 147100, 90700, ...  \n",
              "5                                       [100, 0, 50]  \n",
              "6                                          [S, L, M]  "
            ],
            "text/html": [
              "\n",
              "  <div id=\"df-23dd97db-8437-4485-a1cf-d3f107bb2c71\" class=\"colab-df-container\">\n",
              "    <div>\n",
              "<style scoped>\n",
              "    .dataframe tbody tr th:only-of-type {\n",
              "        vertical-align: middle;\n",
              "    }\n",
              "\n",
              "    .dataframe tbody tr th {\n",
              "        vertical-align: top;\n",
              "    }\n",
              "\n",
              "    .dataframe thead th {\n",
              "        text-align: right;\n",
              "    }\n",
              "</style>\n",
              "<table border=\"1\" class=\"dataframe\">\n",
              "  <thead>\n",
              "    <tr style=\"text-align: right;\">\n",
              "      <th></th>\n",
              "      <th>Column_name</th>\n",
              "      <th>Distinct_values_count</th>\n",
              "      <th>Values_range</th>\n",
              "    </tr>\n",
              "  </thead>\n",
              "  <tbody>\n",
              "    <tr>\n",
              "      <th>0</th>\n",
              "      <td>work_year</td>\n",
              "      <td>2</td>\n",
              "      <td>[2023, 2022]</td>\n",
              "    </tr>\n",
              "    <tr>\n",
              "      <th>1</th>\n",
              "      <td>experience_level</td>\n",
              "      <td>4</td>\n",
              "      <td>[MI, SE, EN, EX]</td>\n",
              "    </tr>\n",
              "    <tr>\n",
              "      <th>2</th>\n",
              "      <td>employment_type</td>\n",
              "      <td>4</td>\n",
              "      <td>[CT, FT, PT, FL]</td>\n",
              "    </tr>\n",
              "    <tr>\n",
              "      <th>3</th>\n",
              "      <td>job_title</td>\n",
              "      <td>61</td>\n",
              "      <td>[ML Engineer, Applied Scientist, Data Scientis...</td>\n",
              "    </tr>\n",
              "    <tr>\n",
              "      <th>4</th>\n",
              "      <td>salary_in_usd</td>\n",
              "      <td>645</td>\n",
              "      <td>[30000, 25500, 222200, 136000, 147100, 90700, ...</td>\n",
              "    </tr>\n",
              "    <tr>\n",
              "      <th>5</th>\n",
              "      <td>remote_ratio</td>\n",
              "      <td>3</td>\n",
              "      <td>[100, 0, 50]</td>\n",
              "    </tr>\n",
              "    <tr>\n",
              "      <th>6</th>\n",
              "      <td>company_size</td>\n",
              "      <td>3</td>\n",
              "      <td>[S, L, M]</td>\n",
              "    </tr>\n",
              "  </tbody>\n",
              "</table>\n",
              "</div>\n",
              "    <div class=\"colab-df-buttons\">\n",
              "\n",
              "  <div class=\"colab-df-container\">\n",
              "    <button class=\"colab-df-convert\" onclick=\"convertToInteractive('df-23dd97db-8437-4485-a1cf-d3f107bb2c71')\"\n",
              "            title=\"Convert this dataframe to an interactive table.\"\n",
              "            style=\"display:none;\">\n",
              "\n",
              "  <svg xmlns=\"http://www.w3.org/2000/svg\" height=\"24px\" viewBox=\"0 -960 960 960\">\n",
              "    <path d=\"M120-120v-720h720v720H120Zm60-500h600v-160H180v160Zm220 220h160v-160H400v160Zm0 220h160v-160H400v160ZM180-400h160v-160H180v160Zm440 0h160v-160H620v160ZM180-180h160v-160H180v160Zm440 0h160v-160H620v160Z\"/>\n",
              "  </svg>\n",
              "    </button>\n",
              "\n",
              "  <style>\n",
              "    .colab-df-container {\n",
              "      display:flex;\n",
              "      gap: 12px;\n",
              "    }\n",
              "\n",
              "    .colab-df-convert {\n",
              "      background-color: #E8F0FE;\n",
              "      border: none;\n",
              "      border-radius: 50%;\n",
              "      cursor: pointer;\n",
              "      display: none;\n",
              "      fill: #1967D2;\n",
              "      height: 32px;\n",
              "      padding: 0 0 0 0;\n",
              "      width: 32px;\n",
              "    }\n",
              "\n",
              "    .colab-df-convert:hover {\n",
              "      background-color: #E2EBFA;\n",
              "      box-shadow: 0px 1px 2px rgba(60, 64, 67, 0.3), 0px 1px 3px 1px rgba(60, 64, 67, 0.15);\n",
              "      fill: #174EA6;\n",
              "    }\n",
              "\n",
              "    .colab-df-buttons div {\n",
              "      margin-bottom: 4px;\n",
              "    }\n",
              "\n",
              "    [theme=dark] .colab-df-convert {\n",
              "      background-color: #3B4455;\n",
              "      fill: #D2E3FC;\n",
              "    }\n",
              "\n",
              "    [theme=dark] .colab-df-convert:hover {\n",
              "      background-color: #434B5C;\n",
              "      box-shadow: 0px 1px 3px 1px rgba(0, 0, 0, 0.15);\n",
              "      filter: drop-shadow(0px 1px 2px rgba(0, 0, 0, 0.3));\n",
              "      fill: #FFFFFF;\n",
              "    }\n",
              "  </style>\n",
              "\n",
              "    <script>\n",
              "      const buttonEl =\n",
              "        document.querySelector('#df-23dd97db-8437-4485-a1cf-d3f107bb2c71 button.colab-df-convert');\n",
              "      buttonEl.style.display =\n",
              "        google.colab.kernel.accessAllowed ? 'block' : 'none';\n",
              "\n",
              "      async function convertToInteractive(key) {\n",
              "        const element = document.querySelector('#df-23dd97db-8437-4485-a1cf-d3f107bb2c71');\n",
              "        const dataTable =\n",
              "          await google.colab.kernel.invokeFunction('convertToInteractive',\n",
              "                                                    [key], {});\n",
              "        if (!dataTable) return;\n",
              "\n",
              "        const docLinkHtml = 'Like what you see? Visit the ' +\n",
              "          '<a target=\"_blank\" href=https://colab.research.google.com/notebooks/data_table.ipynb>data table notebook</a>'\n",
              "          + ' to learn more about interactive tables.';\n",
              "        element.innerHTML = '';\n",
              "        dataTable['output_type'] = 'display_data';\n",
              "        await google.colab.output.renderOutput(dataTable, element);\n",
              "        const docLink = document.createElement('div');\n",
              "        docLink.innerHTML = docLinkHtml;\n",
              "        element.appendChild(docLink);\n",
              "      }\n",
              "    </script>\n",
              "  </div>\n",
              "\n",
              "\n",
              "<div id=\"df-1d9665ee-de3e-4e25-975a-afbbc1e992a9\">\n",
              "  <button class=\"colab-df-quickchart\" onclick=\"quickchart('df-1d9665ee-de3e-4e25-975a-afbbc1e992a9')\"\n",
              "            title=\"Suggest charts\"\n",
              "            style=\"display:none;\">\n",
              "\n",
              "<svg xmlns=\"http://www.w3.org/2000/svg\" height=\"24px\"viewBox=\"0 0 24 24\"\n",
              "     width=\"24px\">\n",
              "    <g>\n",
              "        <path d=\"M19 3H5c-1.1 0-2 .9-2 2v14c0 1.1.9 2 2 2h14c1.1 0 2-.9 2-2V5c0-1.1-.9-2-2-2zM9 17H7v-7h2v7zm4 0h-2V7h2v10zm4 0h-2v-4h2v4z\"/>\n",
              "    </g>\n",
              "</svg>\n",
              "  </button>\n",
              "\n",
              "<style>\n",
              "  .colab-df-quickchart {\n",
              "      --bg-color: #E8F0FE;\n",
              "      --fill-color: #1967D2;\n",
              "      --hover-bg-color: #E2EBFA;\n",
              "      --hover-fill-color: #174EA6;\n",
              "      --disabled-fill-color: #AAA;\n",
              "      --disabled-bg-color: #DDD;\n",
              "  }\n",
              "\n",
              "  [theme=dark] .colab-df-quickchart {\n",
              "      --bg-color: #3B4455;\n",
              "      --fill-color: #D2E3FC;\n",
              "      --hover-bg-color: #434B5C;\n",
              "      --hover-fill-color: #FFFFFF;\n",
              "      --disabled-bg-color: #3B4455;\n",
              "      --disabled-fill-color: #666;\n",
              "  }\n",
              "\n",
              "  .colab-df-quickchart {\n",
              "    background-color: var(--bg-color);\n",
              "    border: none;\n",
              "    border-radius: 50%;\n",
              "    cursor: pointer;\n",
              "    display: none;\n",
              "    fill: var(--fill-color);\n",
              "    height: 32px;\n",
              "    padding: 0;\n",
              "    width: 32px;\n",
              "  }\n",
              "\n",
              "  .colab-df-quickchart:hover {\n",
              "    background-color: var(--hover-bg-color);\n",
              "    box-shadow: 0 1px 2px rgba(60, 64, 67, 0.3), 0 1px 3px 1px rgba(60, 64, 67, 0.15);\n",
              "    fill: var(--button-hover-fill-color);\n",
              "  }\n",
              "\n",
              "  .colab-df-quickchart-complete:disabled,\n",
              "  .colab-df-quickchart-complete:disabled:hover {\n",
              "    background-color: var(--disabled-bg-color);\n",
              "    fill: var(--disabled-fill-color);\n",
              "    box-shadow: none;\n",
              "  }\n",
              "\n",
              "  .colab-df-spinner {\n",
              "    border: 2px solid var(--fill-color);\n",
              "    border-color: transparent;\n",
              "    border-bottom-color: var(--fill-color);\n",
              "    animation:\n",
              "      spin 1s steps(1) infinite;\n",
              "  }\n",
              "\n",
              "  @keyframes spin {\n",
              "    0% {\n",
              "      border-color: transparent;\n",
              "      border-bottom-color: var(--fill-color);\n",
              "      border-left-color: var(--fill-color);\n",
              "    }\n",
              "    20% {\n",
              "      border-color: transparent;\n",
              "      border-left-color: var(--fill-color);\n",
              "      border-top-color: var(--fill-color);\n",
              "    }\n",
              "    30% {\n",
              "      border-color: transparent;\n",
              "      border-left-color: var(--fill-color);\n",
              "      border-top-color: var(--fill-color);\n",
              "      border-right-color: var(--fill-color);\n",
              "    }\n",
              "    40% {\n",
              "      border-color: transparent;\n",
              "      border-right-color: var(--fill-color);\n",
              "      border-top-color: var(--fill-color);\n",
              "    }\n",
              "    60% {\n",
              "      border-color: transparent;\n",
              "      border-right-color: var(--fill-color);\n",
              "    }\n",
              "    80% {\n",
              "      border-color: transparent;\n",
              "      border-right-color: var(--fill-color);\n",
              "      border-bottom-color: var(--fill-color);\n",
              "    }\n",
              "    90% {\n",
              "      border-color: transparent;\n",
              "      border-bottom-color: var(--fill-color);\n",
              "    }\n",
              "  }\n",
              "</style>\n",
              "\n",
              "  <script>\n",
              "    async function quickchart(key) {\n",
              "      const quickchartButtonEl =\n",
              "        document.querySelector('#' + key + ' button');\n",
              "      quickchartButtonEl.disabled = true;  // To prevent multiple clicks.\n",
              "      quickchartButtonEl.classList.add('colab-df-spinner');\n",
              "      try {\n",
              "        const charts = await google.colab.kernel.invokeFunction(\n",
              "            'suggestCharts', [key], {});\n",
              "      } catch (error) {\n",
              "        console.error('Error during call to suggestCharts:', error);\n",
              "      }\n",
              "      quickchartButtonEl.classList.remove('colab-df-spinner');\n",
              "      quickchartButtonEl.classList.add('colab-df-quickchart-complete');\n",
              "    }\n",
              "    (() => {\n",
              "      let quickchartButtonEl =\n",
              "        document.querySelector('#df-1d9665ee-de3e-4e25-975a-afbbc1e992a9 button');\n",
              "      quickchartButtonEl.style.display =\n",
              "        google.colab.kernel.accessAllowed ? 'block' : 'none';\n",
              "    })();\n",
              "  </script>\n",
              "</div>\n",
              "    </div>\n",
              "  </div>\n"
            ]
          },
          "metadata": {},
          "execution_count": 190
        }
      ],
      "source": [
        "# We would like to check & view the distinct values in each of columns\n",
        "unique_counts = df_salary.nunique(axis=0)\n",
        "unique_values_list = []\n",
        "for col_name in unique_counts.index:\n",
        "        values_get = df_salary[col_name].unique()\n",
        "        unique_values_list.append(values_get)\n",
        "df_distinct = pd.DataFrame({'Column_name': unique_counts.index, 'Distinct_values_count': unique_counts.values, 'Values_range': unique_values_list})\n",
        "df_distinct\n"
      ]
    },
    {
      "cell_type": "markdown",
      "metadata": {
        "id": "joUCJfvqvbGe"
      },
      "source": [
        "#### **Replace values**\n",
        "According to the above distinct values and source inspection, we can decribe the distinct values of several fields as following:\n",
        "\n",
        "**1. Experience Level:** 4 unique values\n",
        "- EN: Entry-level / Junior\n",
        "- MI: Mid-level / Intermediate\n",
        "- SE: Senior-level / Expert\n",
        "- EX: Executive-level / Director\n",
        "\n",
        "**2. Employee Type:** 4 categories\n",
        "- PT: Part-time\n",
        "- FT: Full-time\n",
        "- CT: Contract\n",
        "- FL: Freelance\n",
        "\n",
        "**3. Remote Ratio:** 3 numerical values\n",
        "- 0: Office work\n",
        "- 50: Partial remote\n",
        "- 100: Fully remote\n",
        "\n",
        "**4. Company Size:** 3 unique values\n",
        "- S: Small-sized company\n",
        "- M: Medium-sized company\n",
        "- L: Large-sized company\n",
        "\n",
        "Now let's replace these abbreviations with the descriptions for easy understanding."
      ]
    },
    {
      "cell_type": "code",
      "execution_count": null,
      "metadata": {
        "id": "-A4QDBJ6xcQY"
      },
      "outputs": [],
      "source": [
        "# Replace the abbreviations\n",
        "df_salary['experience_level'] = df_salary['experience_level'].replace(['EN','MI','SE','EX'], ['Entry-level','Mid-level','Senior','Executive'])\n",
        "df_salary['employment_type'] = df_salary['employment_type'].replace(['FT','PT','CT','FL'], ['Full-time','Part-time','Contract','Freelance'])\n",
        "df_salary['remote_ratio'] = df_salary['remote_ratio'].replace([0,50,100], ['Office work','Partial remote','Fully remote'])\n",
        "df_salary['company_size'] = df_salary['company_size'].replace(['S', 'M', 'L'], ['Small', 'Medium', 'Large'])"
      ]
    },
    {
      "cell_type": "code",
      "execution_count": null,
      "metadata": {
        "colab": {
          "base_uri": "https://localhost:8080/",
          "height": 313
        },
        "id": "nP2ob_34SffL",
        "outputId": "8ea3c090-5bb5-430c-d866-475e1eebab6f"
      },
      "outputs": [
        {
          "output_type": "execute_result",
          "data": {
            "text/plain": [
              "   work_year experience_level employment_type          job_title  \\\n",
              "1       2023        Mid-level        Contract        ML Engineer   \n",
              "2       2023        Mid-level        Contract        ML Engineer   \n",
              "5       2023           Senior       Full-time  Applied Scientist   \n",
              "6       2023           Senior       Full-time  Applied Scientist   \n",
              "9       2023           Senior       Full-time     Data Scientist   \n",
              "\n",
              "   salary_in_usd  remote_ratio company_size  \n",
              "1          30000  Fully remote        Small  \n",
              "2          25500  Fully remote        Small  \n",
              "5         222200   Office work        Large  \n",
              "6         136000   Office work        Large  \n",
              "9         147100   Office work       Medium  "
            ],
            "text/html": [
              "\n",
              "  <div id=\"df-3b7f91fb-e4cf-4922-a852-010a38692622\" class=\"colab-df-container\">\n",
              "    <div>\n",
              "<style scoped>\n",
              "    .dataframe tbody tr th:only-of-type {\n",
              "        vertical-align: middle;\n",
              "    }\n",
              "\n",
              "    .dataframe tbody tr th {\n",
              "        vertical-align: top;\n",
              "    }\n",
              "\n",
              "    .dataframe thead th {\n",
              "        text-align: right;\n",
              "    }\n",
              "</style>\n",
              "<table border=\"1\" class=\"dataframe\">\n",
              "  <thead>\n",
              "    <tr style=\"text-align: right;\">\n",
              "      <th></th>\n",
              "      <th>work_year</th>\n",
              "      <th>experience_level</th>\n",
              "      <th>employment_type</th>\n",
              "      <th>job_title</th>\n",
              "      <th>salary_in_usd</th>\n",
              "      <th>remote_ratio</th>\n",
              "      <th>company_size</th>\n",
              "    </tr>\n",
              "  </thead>\n",
              "  <tbody>\n",
              "    <tr>\n",
              "      <th>1</th>\n",
              "      <td>2023</td>\n",
              "      <td>Mid-level</td>\n",
              "      <td>Contract</td>\n",
              "      <td>ML Engineer</td>\n",
              "      <td>30000</td>\n",
              "      <td>Fully remote</td>\n",
              "      <td>Small</td>\n",
              "    </tr>\n",
              "    <tr>\n",
              "      <th>2</th>\n",
              "      <td>2023</td>\n",
              "      <td>Mid-level</td>\n",
              "      <td>Contract</td>\n",
              "      <td>ML Engineer</td>\n",
              "      <td>25500</td>\n",
              "      <td>Fully remote</td>\n",
              "      <td>Small</td>\n",
              "    </tr>\n",
              "    <tr>\n",
              "      <th>5</th>\n",
              "      <td>2023</td>\n",
              "      <td>Senior</td>\n",
              "      <td>Full-time</td>\n",
              "      <td>Applied Scientist</td>\n",
              "      <td>222200</td>\n",
              "      <td>Office work</td>\n",
              "      <td>Large</td>\n",
              "    </tr>\n",
              "    <tr>\n",
              "      <th>6</th>\n",
              "      <td>2023</td>\n",
              "      <td>Senior</td>\n",
              "      <td>Full-time</td>\n",
              "      <td>Applied Scientist</td>\n",
              "      <td>136000</td>\n",
              "      <td>Office work</td>\n",
              "      <td>Large</td>\n",
              "    </tr>\n",
              "    <tr>\n",
              "      <th>9</th>\n",
              "      <td>2023</td>\n",
              "      <td>Senior</td>\n",
              "      <td>Full-time</td>\n",
              "      <td>Data Scientist</td>\n",
              "      <td>147100</td>\n",
              "      <td>Office work</td>\n",
              "      <td>Medium</td>\n",
              "    </tr>\n",
              "  </tbody>\n",
              "</table>\n",
              "</div>\n",
              "    <div class=\"colab-df-buttons\">\n",
              "\n",
              "  <div class=\"colab-df-container\">\n",
              "    <button class=\"colab-df-convert\" onclick=\"convertToInteractive('df-3b7f91fb-e4cf-4922-a852-010a38692622')\"\n",
              "            title=\"Convert this dataframe to an interactive table.\"\n",
              "            style=\"display:none;\">\n",
              "\n",
              "  <svg xmlns=\"http://www.w3.org/2000/svg\" height=\"24px\" viewBox=\"0 -960 960 960\">\n",
              "    <path d=\"M120-120v-720h720v720H120Zm60-500h600v-160H180v160Zm220 220h160v-160H400v160Zm0 220h160v-160H400v160ZM180-400h160v-160H180v160Zm440 0h160v-160H620v160ZM180-180h160v-160H180v160Zm440 0h160v-160H620v160Z\"/>\n",
              "  </svg>\n",
              "    </button>\n",
              "\n",
              "  <style>\n",
              "    .colab-df-container {\n",
              "      display:flex;\n",
              "      gap: 12px;\n",
              "    }\n",
              "\n",
              "    .colab-df-convert {\n",
              "      background-color: #E8F0FE;\n",
              "      border: none;\n",
              "      border-radius: 50%;\n",
              "      cursor: pointer;\n",
              "      display: none;\n",
              "      fill: #1967D2;\n",
              "      height: 32px;\n",
              "      padding: 0 0 0 0;\n",
              "      width: 32px;\n",
              "    }\n",
              "\n",
              "    .colab-df-convert:hover {\n",
              "      background-color: #E2EBFA;\n",
              "      box-shadow: 0px 1px 2px rgba(60, 64, 67, 0.3), 0px 1px 3px 1px rgba(60, 64, 67, 0.15);\n",
              "      fill: #174EA6;\n",
              "    }\n",
              "\n",
              "    .colab-df-buttons div {\n",
              "      margin-bottom: 4px;\n",
              "    }\n",
              "\n",
              "    [theme=dark] .colab-df-convert {\n",
              "      background-color: #3B4455;\n",
              "      fill: #D2E3FC;\n",
              "    }\n",
              "\n",
              "    [theme=dark] .colab-df-convert:hover {\n",
              "      background-color: #434B5C;\n",
              "      box-shadow: 0px 1px 3px 1px rgba(0, 0, 0, 0.15);\n",
              "      filter: drop-shadow(0px 1px 2px rgba(0, 0, 0, 0.3));\n",
              "      fill: #FFFFFF;\n",
              "    }\n",
              "  </style>\n",
              "\n",
              "    <script>\n",
              "      const buttonEl =\n",
              "        document.querySelector('#df-3b7f91fb-e4cf-4922-a852-010a38692622 button.colab-df-convert');\n",
              "      buttonEl.style.display =\n",
              "        google.colab.kernel.accessAllowed ? 'block' : 'none';\n",
              "\n",
              "      async function convertToInteractive(key) {\n",
              "        const element = document.querySelector('#df-3b7f91fb-e4cf-4922-a852-010a38692622');\n",
              "        const dataTable =\n",
              "          await google.colab.kernel.invokeFunction('convertToInteractive',\n",
              "                                                    [key], {});\n",
              "        if (!dataTable) return;\n",
              "\n",
              "        const docLinkHtml = 'Like what you see? Visit the ' +\n",
              "          '<a target=\"_blank\" href=https://colab.research.google.com/notebooks/data_table.ipynb>data table notebook</a>'\n",
              "          + ' to learn more about interactive tables.';\n",
              "        element.innerHTML = '';\n",
              "        dataTable['output_type'] = 'display_data';\n",
              "        await google.colab.output.renderOutput(dataTable, element);\n",
              "        const docLink = document.createElement('div');\n",
              "        docLink.innerHTML = docLinkHtml;\n",
              "        element.appendChild(docLink);\n",
              "      }\n",
              "    </script>\n",
              "  </div>\n",
              "\n",
              "\n",
              "<div id=\"df-3ca263a6-c60b-49c4-a1bc-df88933c83fa\">\n",
              "  <button class=\"colab-df-quickchart\" onclick=\"quickchart('df-3ca263a6-c60b-49c4-a1bc-df88933c83fa')\"\n",
              "            title=\"Suggest charts\"\n",
              "            style=\"display:none;\">\n",
              "\n",
              "<svg xmlns=\"http://www.w3.org/2000/svg\" height=\"24px\"viewBox=\"0 0 24 24\"\n",
              "     width=\"24px\">\n",
              "    <g>\n",
              "        <path d=\"M19 3H5c-1.1 0-2 .9-2 2v14c0 1.1.9 2 2 2h14c1.1 0 2-.9 2-2V5c0-1.1-.9-2-2-2zM9 17H7v-7h2v7zm4 0h-2V7h2v10zm4 0h-2v-4h2v4z\"/>\n",
              "    </g>\n",
              "</svg>\n",
              "  </button>\n",
              "\n",
              "<style>\n",
              "  .colab-df-quickchart {\n",
              "      --bg-color: #E8F0FE;\n",
              "      --fill-color: #1967D2;\n",
              "      --hover-bg-color: #E2EBFA;\n",
              "      --hover-fill-color: #174EA6;\n",
              "      --disabled-fill-color: #AAA;\n",
              "      --disabled-bg-color: #DDD;\n",
              "  }\n",
              "\n",
              "  [theme=dark] .colab-df-quickchart {\n",
              "      --bg-color: #3B4455;\n",
              "      --fill-color: #D2E3FC;\n",
              "      --hover-bg-color: #434B5C;\n",
              "      --hover-fill-color: #FFFFFF;\n",
              "      --disabled-bg-color: #3B4455;\n",
              "      --disabled-fill-color: #666;\n",
              "  }\n",
              "\n",
              "  .colab-df-quickchart {\n",
              "    background-color: var(--bg-color);\n",
              "    border: none;\n",
              "    border-radius: 50%;\n",
              "    cursor: pointer;\n",
              "    display: none;\n",
              "    fill: var(--fill-color);\n",
              "    height: 32px;\n",
              "    padding: 0;\n",
              "    width: 32px;\n",
              "  }\n",
              "\n",
              "  .colab-df-quickchart:hover {\n",
              "    background-color: var(--hover-bg-color);\n",
              "    box-shadow: 0 1px 2px rgba(60, 64, 67, 0.3), 0 1px 3px 1px rgba(60, 64, 67, 0.15);\n",
              "    fill: var(--button-hover-fill-color);\n",
              "  }\n",
              "\n",
              "  .colab-df-quickchart-complete:disabled,\n",
              "  .colab-df-quickchart-complete:disabled:hover {\n",
              "    background-color: var(--disabled-bg-color);\n",
              "    fill: var(--disabled-fill-color);\n",
              "    box-shadow: none;\n",
              "  }\n",
              "\n",
              "  .colab-df-spinner {\n",
              "    border: 2px solid var(--fill-color);\n",
              "    border-color: transparent;\n",
              "    border-bottom-color: var(--fill-color);\n",
              "    animation:\n",
              "      spin 1s steps(1) infinite;\n",
              "  }\n",
              "\n",
              "  @keyframes spin {\n",
              "    0% {\n",
              "      border-color: transparent;\n",
              "      border-bottom-color: var(--fill-color);\n",
              "      border-left-color: var(--fill-color);\n",
              "    }\n",
              "    20% {\n",
              "      border-color: transparent;\n",
              "      border-left-color: var(--fill-color);\n",
              "      border-top-color: var(--fill-color);\n",
              "    }\n",
              "    30% {\n",
              "      border-color: transparent;\n",
              "      border-left-color: var(--fill-color);\n",
              "      border-top-color: var(--fill-color);\n",
              "      border-right-color: var(--fill-color);\n",
              "    }\n",
              "    40% {\n",
              "      border-color: transparent;\n",
              "      border-right-color: var(--fill-color);\n",
              "      border-top-color: var(--fill-color);\n",
              "    }\n",
              "    60% {\n",
              "      border-color: transparent;\n",
              "      border-right-color: var(--fill-color);\n",
              "    }\n",
              "    80% {\n",
              "      border-color: transparent;\n",
              "      border-right-color: var(--fill-color);\n",
              "      border-bottom-color: var(--fill-color);\n",
              "    }\n",
              "    90% {\n",
              "      border-color: transparent;\n",
              "      border-bottom-color: var(--fill-color);\n",
              "    }\n",
              "  }\n",
              "</style>\n",
              "\n",
              "  <script>\n",
              "    async function quickchart(key) {\n",
              "      const quickchartButtonEl =\n",
              "        document.querySelector('#' + key + ' button');\n",
              "      quickchartButtonEl.disabled = true;  // To prevent multiple clicks.\n",
              "      quickchartButtonEl.classList.add('colab-df-spinner');\n",
              "      try {\n",
              "        const charts = await google.colab.kernel.invokeFunction(\n",
              "            'suggestCharts', [key], {});\n",
              "      } catch (error) {\n",
              "        console.error('Error during call to suggestCharts:', error);\n",
              "      }\n",
              "      quickchartButtonEl.classList.remove('colab-df-spinner');\n",
              "      quickchartButtonEl.classList.add('colab-df-quickchart-complete');\n",
              "    }\n",
              "    (() => {\n",
              "      let quickchartButtonEl =\n",
              "        document.querySelector('#df-3ca263a6-c60b-49c4-a1bc-df88933c83fa button');\n",
              "      quickchartButtonEl.style.display =\n",
              "        google.colab.kernel.accessAllowed ? 'block' : 'none';\n",
              "    })();\n",
              "  </script>\n",
              "</div>\n",
              "    </div>\n",
              "  </div>\n"
            ]
          },
          "metadata": {},
          "execution_count": 192
        }
      ],
      "source": [
        "# Show 5 first rows of the final data set after replacing\n",
        "df_salary.head()"
      ]
    },
    {
      "cell_type": "markdown",
      "metadata": {
        "id": "6ryD4BGvTtEh"
      },
      "source": [
        "#### **Outlier detection**"
      ]
    },
    {
      "cell_type": "markdown",
      "source": [
        "There are several ways for oulier detection. We will use two methods to identify outliers: Boxplot and IQR.\n",
        "We need to identify ouliers because it may indicate bad data.\n",
        "\n",
        "First, we use Boxplot to get an visual overview of any outliers. A Box Plot is created to display the summary of the set of data values having properties like minimum, first quartile, median, third quartile and maximum."
      ],
      "metadata": {
        "id": "BDd4BRkFghRn"
      }
    },
    {
      "cell_type": "code",
      "execution_count": null,
      "metadata": {
        "colab": {
          "base_uri": "https://localhost:8080/",
          "height": 321
        },
        "id": "Q-HEnPGbahpO",
        "outputId": "6c4a8640-1ca5-4d72-fe91-d95fa51cc455"
      },
      "outputs": [
        {
          "output_type": "display_data",
          "data": {
            "text/plain": [
              "<Figure size 1500x600 with 1 Axes>"
            ],
            "image/png": "[encoded data removed]"
          },
          "metadata": {}
        }
      ],
      "source": [
        "# Define outliers by using Boxplot\n",
        "df_salary.boxplot(column='salary_in_usd', by='experience_level', figsize=(15,6))\n",
        "plt.show()"
      ]
    },
    {
      "cell_type": "markdown",
      "source": [
        "We can also calculate the outliers ​​using the IQR (Interquartitle Range) method."
      ],
      "metadata": {
        "id": "if3JzkSlhvUQ"
      }
    },
    {
      "cell_type": "code",
      "execution_count": null,
      "metadata": {
        "id": "vUaMHYhLCTP-",
        "colab": {
          "base_uri": "https://localhost:8080/"
        },
        "outputId": "4ba2259a-ee16-4a08-d90b-3aefdea896f6"
      },
      "outputs": [
        {
          "output_type": "execute_result",
          "data": {
            "text/plain": [
              "70000.0"
            ]
          },
          "metadata": {},
          "execution_count": 194
        }
      ],
      "source": [
        "# Define outliers by IQR\n",
        "q25 = np.percentile(df_salary.salary_in_usd, 25)\n",
        "q75 = np.percentile(df_salary.salary_in_usd, 75)\n",
        "IQR = q75 - q25\n",
        "IQR # Print IQR (Inter Quartile Range) values"
      ]
    },
    {
      "cell_type": "code",
      "execution_count": null,
      "metadata": {
        "id": "D7jeHq47DWiE",
        "colab": {
          "base_uri": "https://localhost:8080/"
        },
        "outputId": "ccc57fd5-dc7f-4ec1-d121-6b8f9ea7c19d"
      },
      "outputs": [
        {
          "output_type": "stream",
          "name": "stdout",
          "text": [
            "10000.0\n",
            "290000.0\n"
          ]
        }
      ],
      "source": [
        "# Calculate Upper/Lower to identify outliers with threshold is 1.5\n",
        "limit_iqr = 1.5*IQR\n",
        "lower_iqr = q25 - limit_iqr\n",
        "upper_iqr = q75 + limit_iqr\n",
        "print(lower_iqr)\n",
        "print(upper_iqr)"
      ]
    },
    {
      "cell_type": "code",
      "execution_count": null,
      "metadata": {
        "id": "xwW44ez1EJqt",
        "colab": {
          "base_uri": "https://localhost:8080/"
        },
        "outputId": "c6b8e814-de49-41e4-c78f-bfb20674b726"
      },
      "outputs": [
        {
          "output_type": "execute_result",
          "data": {
            "text/plain": [
              "(58, 7)"
            ]
          },
          "metadata": {},
          "execution_count": 196
        }
      ],
      "source": [
        "# The range of outliers should be lower than (<) \"lower_iqr \" and higher than (>) \" > upper_iqr\"\n",
        "outliers = df_salary[(df_salary['salary_in_usd'] < lower_iqr) | (df_salary['salary_in_usd'] > upper_iqr)]\n",
        "outliers.shape"
      ]
    },
    {
      "cell_type": "markdown",
      "source": [
        "For more accurate analytics, we would exclude 58 outliers from our dataset whose salary values are either less than USD10,000 or considerably greater than USD290,000."
      ],
      "metadata": {
        "id": "vdEq0qYiIuWn"
      }
    },
    {
      "cell_type": "code",
      "execution_count": null,
      "metadata": {
        "id": "p6dzD-yjj0wx",
        "colab": {
          "base_uri": "https://localhost:8080/"
        },
        "outputId": "92a7e364-2bcb-42b1-f748-c5570671cdf7"
      },
      "outputs": [
        {
          "output_type": "execute_result",
          "data": {
            "text/plain": [
              "(2850, 7)"
            ]
          },
          "metadata": {},
          "execution_count": 197
        }
      ],
      "source": [
        "# Create new frame for the final dataset\n",
        "salary_final = df_salary[(df_salary['salary_in_usd'] > lower_iqr) & (df_salary['salary_in_usd'] < upper_iqr)]\n",
        "salary_final.shape"
      ]
    },
    {
      "cell_type": "code",
      "source": [
        "salary_final.head(20)"
      ],
      "metadata": {
        "colab": {
          "base_uri": "https://localhost:8080/",
          "height": 1000
        },
        "id": "SMI8R2EWqE8r",
        "outputId": "bc588b8e-1d36-4a7d-8451-bedca08715bd"
      },
      "execution_count": null,
      "outputs": [
        {
          "output_type": "execute_result",
          "data": {
            "text/plain": [
              "    work_year experience_level employment_type  \\\n",
              "1        2023        Mid-level        Contract   \n",
              "2        2023        Mid-level        Contract   \n",
              "5        2023           Senior       Full-time   \n",
              "6        2023           Senior       Full-time   \n",
              "9        2023           Senior       Full-time   \n",
              "10       2023           Senior       Full-time   \n",
              "11       2023           Senior       Full-time   \n",
              "12       2023           Senior       Full-time   \n",
              "13       2023      Entry-level       Full-time   \n",
              "14       2023      Entry-level       Full-time   \n",
              "15       2023           Senior       Full-time   \n",
              "16       2023           Senior       Full-time   \n",
              "17       2023           Senior       Full-time   \n",
              "18       2023           Senior       Full-time   \n",
              "19       2023        Mid-level       Full-time   \n",
              "20       2023        Mid-level       Full-time   \n",
              "25       2023           Senior       Full-time   \n",
              "26       2023           Senior       Full-time   \n",
              "27       2023           Senior       Full-time   \n",
              "28       2023           Senior       Full-time   \n",
              "\n",
              "                         job_title  salary_in_usd  remote_ratio company_size  \n",
              "1                      ML Engineer          30000  Fully remote        Small  \n",
              "2                      ML Engineer          25500  Fully remote        Small  \n",
              "5                Applied Scientist         222200   Office work        Large  \n",
              "6                Applied Scientist         136000   Office work        Large  \n",
              "9                   Data Scientist         147100   Office work       Medium  \n",
              "10                  Data Scientist          90700   Office work       Medium  \n",
              "11                    Data Analyst         130000  Fully remote       Medium  \n",
              "12                    Data Analyst         100000  Fully remote       Medium  \n",
              "13               Applied Scientist         213660   Office work        Large  \n",
              "14               Applied Scientist         130760   Office work        Large  \n",
              "15                    Data Modeler         147100   Office work       Medium  \n",
              "16                    Data Modeler          90700   Office work       Medium  \n",
              "17                  Data Scientist         170000   Office work       Medium  \n",
              "18                  Data Scientist         150000   Office work       Medium  \n",
              "19                    Data Analyst         150000  Fully remote       Medium  \n",
              "20                    Data Analyst         110000  Fully remote       Medium  \n",
              "25  Business Intelligence Engineer         225000   Office work       Medium  \n",
              "26  Business Intelligence Engineer         156400   Office work       Medium  \n",
              "27       Machine Learning Engineer         200000   Office work       Medium  \n",
              "28       Machine Learning Engineer         130000   Office work       Medium  "
            ],
            "text/html": [
              "\n",
              "  <div id=\"df-ffd3a74e-3ce2-4d76-9288-d7c4a5ec89e4\" class=\"colab-df-container\">\n",
              "    <div>\n",
              "<style scoped>\n",
              "    .dataframe tbody tr th:only-of-type {\n",
              "        vertical-align: middle;\n",
              "    }\n",
              "\n",
              "    .dataframe tbody tr th {\n",
              "        vertical-align: top;\n",
              "    }\n",
              "\n",
              "    .dataframe thead th {\n",
              "        text-align: right;\n",
              "    }\n",
              "</style>\n",
              "<table border=\"1\" class=\"dataframe\">\n",
              "  <thead>\n",
              "    <tr style=\"text-align: right;\">\n",
              "      <th></th>\n",
              "      <th>work_year</th>\n",
              "      <th>experience_level</th>\n",
              "      <th>employment_type</th>\n",
              "      <th>job_title</th>\n",
              "      <th>salary_in_usd</th>\n",
              "      <th>remote_ratio</th>\n",
              "      <th>company_size</th>\n",
              "    </tr>\n",
              "  </thead>\n",
              "  <tbody>\n",
              "    <tr>\n",
              "      <th>1</th>\n",
              "      <td>2023</td>\n",
              "      <td>Mid-level</td>\n",
              "      <td>Contract</td>\n",
              "      <td>ML Engineer</td>\n",
              "      <td>30000</td>\n",
              "      <td>Fully remote</td>\n",
              "      <td>Small</td>\n",
              "    </tr>\n",
              "    <tr>\n",
              "      <th>2</th>\n",
              "      <td>2023</td>\n",
              "      <td>Mid-level</td>\n",
              "      <td>Contract</td>\n",
              "      <td>ML Engineer</td>\n",
              "      <td>25500</td>\n",
              "      <td>Fully remote</td>\n",
              "      <td>Small</td>\n",
              "    </tr>\n",
              "    <tr>\n",
              "      <th>5</th>\n",
              "      <td>2023</td>\n",
              "      <td>Senior</td>\n",
              "      <td>Full-time</td>\n",
              "      <td>Applied Scientist</td>\n",
              "      <td>222200</td>\n",
              "      <td>Office work</td>\n",
              "      <td>Large</td>\n",
              "    </tr>\n",
              "    <tr>\n",
              "      <th>6</th>\n",
              "      <td>2023</td>\n",
              "      <td>Senior</td>\n",
              "      <td>Full-time</td>\n",
              "      <td>Applied Scientist</td>\n",
              "      <td>136000</td>\n",
              "      <td>Office work</td>\n",
              "      <td>Large</td>\n",
              "    </tr>\n",
              "    <tr>\n",
              "      <th>9</th>\n",
              "      <td>2023</td>\n",
              "      <td>Senior</td>\n",
              "      <td>Full-time</td>\n",
              "      <td>Data Scientist</td>\n",
              "      <td>147100</td>\n",
              "      <td>Office work</td>\n",
              "      <td>Medium</td>\n",
              "    </tr>\n",
              "    <tr>\n",
              "      <th>10</th>\n",
              "      <td>2023</td>\n",
              "      <td>Senior</td>\n",
              "      <td>Full-time</td>\n",
              "      <td>Data Scientist</td>\n",
              "      <td>90700</td>\n",
              "      <td>Office work</td>\n",
              "      <td>Medium</td>\n",
              "    </tr>\n",
              "    <tr>\n",
              "      <th>11</th>\n",
              "      <td>2023</td>\n",
              "      <td>Senior</td>\n",
              "      <td>Full-time</td>\n",
              "      <td>Data Analyst</td>\n",
              "      <td>130000</td>\n",
              "      <td>Fully remote</td>\n",
              "      <td>Medium</td>\n",
              "    </tr>\n",
              "    <tr>\n",
              "      <th>12</th>\n",
              "      <td>2023</td>\n",
              "      <td>Senior</td>\n",
              "      <td>Full-time</td>\n",
              "      <td>Data Analyst</td>\n",
              "      <td>100000</td>\n",
              "      <td>Fully remote</td>\n",
              "      <td>Medium</td>\n",
              "    </tr>\n",
              "    <tr>\n",
              "      <th>13</th>\n",
              "      <td>2023</td>\n",
              "      <td>Entry-level</td>\n",
              "      <td>Full-time</td>\n",
              "      <td>Applied Scientist</td>\n",
              "      <td>213660</td>\n",
              "      <td>Office work</td>\n",
              "      <td>Large</td>\n",
              "    </tr>\n",
              "    <tr>\n",
              "      <th>14</th>\n",
              "      <td>2023</td>\n",
              "      <td>Entry-level</td>\n",
              "      <td>Full-time</td>\n",
              "      <td>Applied Scientist</td>\n",
              "      <td>130760</td>\n",
              "      <td>Office work</td>\n",
              "      <td>Large</td>\n",
              "    </tr>\n",
              "    <tr>\n",
              "      <th>15</th>\n",
              "      <td>2023</td>\n",
              "      <td>Senior</td>\n",
              "      <td>Full-time</td>\n",
              "      <td>Data Modeler</td>\n",
              "      <td>147100</td>\n",
              "      <td>Office work</td>\n",
              "      <td>Medium</td>\n",
              "    </tr>\n",
              "    <tr>\n",
              "      <th>16</th>\n",
              "      <td>2023</td>\n",
              "      <td>Senior</td>\n",
              "      <td>Full-time</td>\n",
              "      <td>Data Modeler</td>\n",
              "      <td>90700</td>\n",
              "      <td>Office work</td>\n",
              "      <td>Medium</td>\n",
              "    </tr>\n",
              "    <tr>\n",
              "      <th>17</th>\n",
              "      <td>2023</td>\n",
              "      <td>Senior</td>\n",
              "      <td>Full-time</td>\n",
              "      <td>Data Scientist</td>\n",
              "      <td>170000</td>\n",
              "      <td>Office work</td>\n",
              "      <td>Medium</td>\n",
              "    </tr>\n",
              "    <tr>\n",
              "      <th>18</th>\n",
              "      <td>2023</td>\n",
              "      <td>Senior</td>\n",
              "      <td>Full-time</td>\n",
              "      <td>Data Scientist</td>\n",
              "      <td>150000</td>\n",
              "      <td>Office work</td>\n",
              "      <td>Medium</td>\n",
              "    </tr>\n",
              "    <tr>\n",
              "      <th>19</th>\n",
              "      <td>2023</td>\n",
              "      <td>Mid-level</td>\n",
              "      <td>Full-time</td>\n",
              "      <td>Data Analyst</td>\n",
              "      <td>150000</td>\n",
              "      <td>Fully remote</td>\n",
              "      <td>Medium</td>\n",
              "    </tr>\n",
              "    <tr>\n",
              "      <th>20</th>\n",
              "      <td>2023</td>\n",
              "      <td>Mid-level</td>\n",
              "      <td>Full-time</td>\n",
              "      <td>Data Analyst</td>\n",
              "      <td>110000</td>\n",
              "      <td>Fully remote</td>\n",
              "      <td>Medium</td>\n",
              "    </tr>\n",
              "    <tr>\n",
              "      <th>25</th>\n",
              "      <td>2023</td>\n",
              "      <td>Senior</td>\n",
              "      <td>Full-time</td>\n",
              "      <td>Business Intelligence Engineer</td>\n",
              "      <td>225000</td>\n",
              "      <td>Office work</td>\n",
              "      <td>Medium</td>\n",
              "    </tr>\n",
              "    <tr>\n",
              "      <th>26</th>\n",
              "      <td>2023</td>\n",
              "      <td>Senior</td>\n",
              "      <td>Full-time</td>\n",
              "      <td>Business Intelligence Engineer</td>\n",
              "      <td>156400</td>\n",
              "      <td>Office work</td>\n",
              "      <td>Medium</td>\n",
              "    </tr>\n",
              "    <tr>\n",
              "      <th>27</th>\n",
              "      <td>2023</td>\n",
              "      <td>Senior</td>\n",
              "      <td>Full-time</td>\n",
              "      <td>Machine Learning Engineer</td>\n",
              "      <td>200000</td>\n",
              "      <td>Office work</td>\n",
              "      <td>Medium</td>\n",
              "    </tr>\n",
              "    <tr>\n",
              "      <th>28</th>\n",
              "      <td>2023</td>\n",
              "      <td>Senior</td>\n",
              "      <td>Full-time</td>\n",
              "      <td>Machine Learning Engineer</td>\n",
              "      <td>130000</td>\n",
              "      <td>Office work</td>\n",
              "      <td>Medium</td>\n",
              "    </tr>\n",
              "  </tbody>\n",
              "</table>\n",
              "</div>\n",
              "    <div class=\"colab-df-buttons\">\n",
              "\n",
              "  <div class=\"colab-df-container\">\n",
              "    <button class=\"colab-df-convert\" onclick=\"convertToInteractive('df-ffd3a74e-3ce2-4d76-9288-d7c4a5ec89e4')\"\n",
              "            title=\"Convert this dataframe to an interactive table.\"\n",
              "            style=\"display:none;\">\n",
              "\n",
              "  <svg xmlns=\"http://www.w3.org/2000/svg\" height=\"24px\" viewBox=\"0 -960 960 960\">\n",
              "    <path d=\"M120-120v-720h720v720H120Zm60-500h600v-160H180v160Zm220 220h160v-160H400v160Zm0 220h160v-160H400v160ZM180-400h160v-160H180v160Zm440 0h160v-160H620v160ZM180-180h160v-160H180v160Zm440 0h160v-160H620v160Z\"/>\n",
              "  </svg>\n",
              "    </button>\n",
              "\n",
              "  <style>\n",
              "    .colab-df-container {\n",
              "      display:flex;\n",
              "      gap: 12px;\n",
              "    }\n",
              "\n",
              "    .colab-df-convert {\n",
              "      background-color: #E8F0FE;\n",
              "      border: none;\n",
              "      border-radius: 50%;\n",
              "      cursor: pointer;\n",
              "      display: none;\n",
              "      fill: #1967D2;\n",
              "      height: 32px;\n",
              "      padding: 0 0 0 0;\n",
              "      width: 32px;\n",
              "    }\n",
              "\n",
              "    .colab-df-convert:hover {\n",
              "      background-color: #E2EBFA;\n",
              "      box-shadow: 0px 1px 2px rgba(60, 64, 67, 0.3), 0px 1px 3px 1px rgba(60, 64, 67, 0.15);\n",
              "      fill: #174EA6;\n",
              "    }\n",
              "\n",
              "    .colab-df-buttons div {\n",
              "      margin-bottom: 4px;\n",
              "    }\n",
              "\n",
              "    [theme=dark] .colab-df-convert {\n",
              "      background-color: #3B4455;\n",
              "      fill: #D2E3FC;\n",
              "    }\n",
              "\n",
              "    [theme=dark] .colab-df-convert:hover {\n",
              "      background-color: #434B5C;\n",
              "      box-shadow: 0px 1px 3px 1px rgba(0, 0, 0, 0.15);\n",
              "      filter: drop-shadow(0px 1px 2px rgba(0, 0, 0, 0.3));\n",
              "      fill: #FFFFFF;\n",
              "    }\n",
              "  </style>\n",
              "\n",
              "    <script>\n",
              "      const buttonEl =\n",
              "        document.querySelector('#df-ffd3a74e-3ce2-4d76-9288-d7c4a5ec89e4 button.colab-df-convert');\n",
              "      buttonEl.style.display =\n",
              "        google.colab.kernel.accessAllowed ? 'block' : 'none';\n",
              "\n",
              "      async function convertToInteractive(key) {\n",
              "        const element = document.querySelector('#df-ffd3a74e-3ce2-4d76-9288-d7c4a5ec89e4');\n",
              "        const dataTable =\n",
              "          await google.colab.kernel.invokeFunction('convertToInteractive',\n",
              "                                                    [key], {});\n",
              "        if (!dataTable) return;\n",
              "\n",
              "        const docLinkHtml = 'Like what you see? Visit the ' +\n",
              "          '<a target=\"_blank\" href=https://colab.research.google.com/notebooks/data_table.ipynb>data table notebook</a>'\n",
              "          + ' to learn more about interactive tables.';\n",
              "        element.innerHTML = '';\n",
              "        dataTable['output_type'] = 'display_data';\n",
              "        await google.colab.output.renderOutput(dataTable, element);\n",
              "        const docLink = document.createElement('div');\n",
              "        docLink.innerHTML = docLinkHtml;\n",
              "        element.appendChild(docLink);\n",
              "      }\n",
              "    </script>\n",
              "  </div>\n",
              "\n",
              "\n",
              "<div id=\"df-c20f8667-33ce-4d6b-a2ca-c6a4cd38f3db\">\n",
              "  <button class=\"colab-df-quickchart\" onclick=\"quickchart('df-c20f8667-33ce-4d6b-a2ca-c6a4cd38f3db')\"\n",
              "            title=\"Suggest charts\"\n",
              "            style=\"display:none;\">\n",
              "\n",
              "<svg xmlns=\"http://www.w3.org/2000/svg\" height=\"24px\"viewBox=\"0 0 24 24\"\n",
              "     width=\"24px\">\n",
              "    <g>\n",
              "        <path d=\"M19 3H5c-1.1 0-2 .9-2 2v14c0 1.1.9 2 2 2h14c1.1 0 2-.9 2-2V5c0-1.1-.9-2-2-2zM9 17H7v-7h2v7zm4 0h-2V7h2v10zm4 0h-2v-4h2v4z\"/>\n",
              "    </g>\n",
              "</svg>\n",
              "  </button>\n",
              "\n",
              "<style>\n",
              "  .colab-df-quickchart {\n",
              "      --bg-color: #E8F0FE;\n",
              "      --fill-color: #1967D2;\n",
              "      --hover-bg-color: #E2EBFA;\n",
              "      --hover-fill-color: #174EA6;\n",
              "      --disabled-fill-color: #AAA;\n",
              "      --disabled-bg-color: #DDD;\n",
              "  }\n",
              "\n",
              "  [theme=dark] .colab-df-quickchart {\n",
              "      --bg-color: #3B4455;\n",
              "      --fill-color: #D2E3FC;\n",
              "      --hover-bg-color: #434B5C;\n",
              "      --hover-fill-color: #FFFFFF;\n",
              "      --disabled-bg-color: #3B4455;\n",
              "      --disabled-fill-color: #666;\n",
              "  }\n",
              "\n",
              "  .colab-df-quickchart {\n",
              "    background-color: var(--bg-color);\n",
              "    border: none;\n",
              "    border-radius: 50%;\n",
              "    cursor: pointer;\n",
              "    display: none;\n",
              "    fill: var(--fill-color);\n",
              "    height: 32px;\n",
              "    padding: 0;\n",
              "    width: 32px;\n",
              "  }\n",
              "\n",
              "  .colab-df-quickchart:hover {\n",
              "    background-color: var(--hover-bg-color);\n",
              "    box-shadow: 0 1px 2px rgba(60, 64, 67, 0.3), 0 1px 3px 1px rgba(60, 64, 67, 0.15);\n",
              "    fill: var(--button-hover-fill-color);\n",
              "  }\n",
              "\n",
              "  .colab-df-quickchart-complete:disabled,\n",
              "  .colab-df-quickchart-complete:disabled:hover {\n",
              "    background-color: var(--disabled-bg-color);\n",
              "    fill: var(--disabled-fill-color);\n",
              "    box-shadow: none;\n",
              "  }\n",
              "\n",
              "  .colab-df-spinner {\n",
              "    border: 2px solid var(--fill-color);\n",
              "    border-color: transparent;\n",
              "    border-bottom-color: var(--fill-color);\n",
              "    animation:\n",
              "      spin 1s steps(1) infinite;\n",
              "  }\n",
              "\n",
              "  @keyframes spin {\n",
              "    0% {\n",
              "      border-color: transparent;\n",
              "      border-bottom-color: var(--fill-color);\n",
              "      border-left-color: var(--fill-color);\n",
              "    }\n",
              "    20% {\n",
              "      border-color: transparent;\n",
              "      border-left-color: var(--fill-color);\n",
              "      border-top-color: var(--fill-color);\n",
              "    }\n",
              "    30% {\n",
              "      border-color: transparent;\n",
              "      border-left-color: var(--fill-color);\n",
              "      border-top-color: var(--fill-color);\n",
              "      border-right-color: var(--fill-color);\n",
              "    }\n",
              "    40% {\n",
              "      border-color: transparent;\n",
              "      border-right-color: var(--fill-color);\n",
              "      border-top-color: var(--fill-color);\n",
              "    }\n",
              "    60% {\n",
              "      border-color: transparent;\n",
              "      border-right-color: var(--fill-color);\n",
              "    }\n",
              "    80% {\n",
              "      border-color: transparent;\n",
              "      border-right-color: var(--fill-color);\n",
              "      border-bottom-color: var(--fill-color);\n",
              "    }\n",
              "    90% {\n",
              "      border-color: transparent;\n",
              "      border-bottom-color: var(--fill-color);\n",
              "    }\n",
              "  }\n",
              "</style>\n",
              "\n",
              "  <script>\n",
              "    async function quickchart(key) {\n",
              "      const quickchartButtonEl =\n",
              "        document.querySelector('#' + key + ' button');\n",
              "      quickchartButtonEl.disabled = true;  // To prevent multiple clicks.\n",
              "      quickchartButtonEl.classList.add('colab-df-spinner');\n",
              "      try {\n",
              "        const charts = await google.colab.kernel.invokeFunction(\n",
              "            'suggestCharts', [key], {});\n",
              "      } catch (error) {\n",
              "        console.error('Error during call to suggestCharts:', error);\n",
              "      }\n",
              "      quickchartButtonEl.classList.remove('colab-df-spinner');\n",
              "      quickchartButtonEl.classList.add('colab-df-quickchart-complete');\n",
              "    }\n",
              "    (() => {\n",
              "      let quickchartButtonEl =\n",
              "        document.querySelector('#df-c20f8667-33ce-4d6b-a2ca-c6a4cd38f3db button');\n",
              "      quickchartButtonEl.style.display =\n",
              "        google.colab.kernel.accessAllowed ? 'block' : 'none';\n",
              "    })();\n",
              "  </script>\n",
              "</div>\n",
              "    </div>\n",
              "  </div>\n"
            ]
          },
          "metadata": {},
          "execution_count": 198
        }
      ]
    },
    {
      "cell_type": "markdown",
      "source": [
        "**Finally, our dataset now has 2850 rows and 7 columns which will be mainly used for the statistics and visualization.**"
      ],
      "metadata": {
        "id": "vTA9F2PJYq-B"
      }
    },
    {
      "cell_type": "markdown",
      "metadata": {
        "id": "sLCB285nYM9S"
      },
      "source": [
        "#### **Bins**"
      ]
    },
    {
      "cell_type": "markdown",
      "metadata": {
        "id": "BINZ9NY5qx4Y"
      },
      "source": [
        "We decide using \"salary_in_usd\" feature to do bining since this column represents the salaries in USD, and grouping these numerical values into discrete categories will be useful to have an overview of the salary range.\n",
        "\n",
        "Before creating the salary bins, we need to know its minimum and maximum amount so that we can determine the first and last value of the bin."
      ]
    },
    {
      "cell_type": "code",
      "execution_count": null,
      "metadata": {
        "id": "RMeSZYneYQL5",
        "colab": {
          "base_uri": "https://localhost:8080/"
        },
        "outputId": "8c997b41-d265-4ab2-f5f4-7fcd87482d4e"
      },
      "outputs": [
        {
          "output_type": "execute_result",
          "data": {
            "text/plain": [
              "12000"
            ]
          },
          "metadata": {},
          "execution_count": 199
        }
      ],
      "source": [
        "# Get the minimum salary by calling function min ()\n",
        "min_salary = salary_final['salary_in_usd'].min()\n",
        "min_salary"
      ]
    },
    {
      "cell_type": "code",
      "source": [
        "# Get the maximum salary by calling function max ()\n",
        "max_salary = salary_final['salary_in_usd'].max()\n",
        "max_salary"
      ],
      "metadata": {
        "id": "-wmPahgFKiac",
        "colab": {
          "base_uri": "https://localhost:8080/"
        },
        "outputId": "c8ae8f6f-be22-4c7b-989e-4742e64560c2"
      },
      "execution_count": null,
      "outputs": [
        {
          "output_type": "execute_result",
          "data": {
            "text/plain": [
              "289800"
            ]
          },
          "metadata": {},
          "execution_count": 200
        }
      ]
    },
    {
      "cell_type": "markdown",
      "metadata": {
        "id": "VnQpdN_4rOfN"
      },
      "source": [
        "Then, we start creating the salary bin using cut function."
      ]
    },
    {
      "cell_type": "code",
      "execution_count": null,
      "metadata": {
        "id": "cOjAe1L_CPLE",
        "colab": {
          "base_uri": "https://localhost:8080/"
        },
        "outputId": "f1740fe3-e73a-4356-f0ad-bfc2796a6b46"
      },
      "outputs": [
        {
          "output_type": "execute_result",
          "data": {
            "text/plain": [
              "1         12k-50k\n",
              "2         12k-50k\n",
              "5       200k-300k\n",
              "6       100k-150k\n",
              "9       100k-150k\n",
              "          ...    \n",
              "3479    100k-150k\n",
              "3482    100k-150k\n",
              "3486    100k-150k\n",
              "3490    100k-150k\n",
              "3493    100k-150k\n",
              "Name: salary_in_usd, Length: 2850, dtype: category\n",
              "Categories (5, object): ['12k-50k' < '50k-100k' < '100k-150k' < '150k-200k' < '200k-300k']"
            ]
          },
          "metadata": {},
          "execution_count": 201
        }
      ],
      "source": [
        "# Divide the 'salary_in_usd' column into 5 bins with labels\n",
        "bins = [12000,50000,100000,150000,200000,300000]\n",
        "labels = ['12k-50k','50k-100k','100k-150k','150k-200k','200k-300k']\n",
        "salary_range_bins = pd.cut(salary_final['salary_in_usd'], bins = bins, labels = labels, right = False)\n",
        "salary_range_bins"
      ]
    },
    {
      "cell_type": "code",
      "execution_count": null,
      "metadata": {
        "id": "IorYYtNmCl85",
        "colab": {
          "base_uri": "https://localhost:8080/"
        },
        "outputId": "0b3a2ccc-6731-4801-a403-0ee077984beb"
      },
      "outputs": [
        {
          "output_type": "execute_result",
          "data": {
            "text/plain": [
              "100k-150k    1119\n",
              "150k-200k     840\n",
              "200k-300k     486\n",
              "50k-100k      383\n",
              "12k-50k        22\n",
              "Name: salary_in_usd, dtype: int64"
            ]
          },
          "metadata": {},
          "execution_count": 202
        }
      ],
      "source": [
        "# Let's count the values of each bin\n",
        "pd.value_counts(salary_range_bins)"
      ]
    },
    {
      "cell_type": "markdown",
      "metadata": {
        "id": "pHdfkA4Gd7OU"
      },
      "source": [
        "#2. Data Objects & Attribute Types"
      ]
    },
    {
      "cell_type": "markdown",
      "metadata": {
        "id": "Fjj5Ni-gdkt9"
      },
      "source": [
        "To get started, we created a function that prints the data attributes as a list for a clean and nice appearance."
      ]
    },
    {
      "cell_type": "code",
      "execution_count": null,
      "metadata": {
        "id": "Miu-LuM3HZNb"
      },
      "outputs": [],
      "source": [
        "def Data_print_as_List(input_data):\n",
        "  for i, col in enumerate(input_data):\n",
        "    print(i,col)"
      ]
    },
    {
      "cell_type": "markdown",
      "metadata": {
        "id": "b4jthhemL07Z"
      },
      "source": [
        "### **Identify and print nominal attributes**"
      ]
    },
    {
      "cell_type": "markdown",
      "metadata": {
        "id": "41B1NSoygxJK"
      },
      "source": [
        "\n",
        "Because nominal attributes are typically the most common in our final dataframe, we should apply exclusion methods."
      ]
    },
    {
      "cell_type": "code",
      "execution_count": null,
      "metadata": {
        "id": "q6_ZzPB2loXu",
        "colab": {
          "base_uri": "https://localhost:8080/"
        },
        "outputId": "73fc149f-3050-46b0-ef6a-785b7252dc22"
      },
      "outputs": [
        {
          "output_type": "stream",
          "name": "stdout",
          "text": [
            "List of Nominal Atributes:\n",
            "\n",
            "0 work_year\n",
            "1 employment_type\n",
            "2 job_title\n",
            "3 remote_ratio\n"
          ]
        }
      ],
      "source": [
        "# Print norminal attributes\n",
        "print(\"List of Nominal Atributes:\\n\")\n",
        "Nominal_col = salary_final.loc[:, ~df_salary.columns.isin(['salary_in_usd', 'company_size', 'experience_level'])] # exclusing other columns\n",
        "Data_print_as_List(Nominal_col)"
      ]
    },
    {
      "cell_type": "markdown",
      "metadata": {
        "id": "ei_MFPIr8ezb"
      },
      "source": [
        "###  **Identify and print binary attributes**"
      ]
    },
    {
      "cell_type": "markdown",
      "metadata": {
        "id": "m4T6Ycibg0Eo"
      },
      "source": [
        "A binary attribute can only have two possible values (0 or 1, true or false, on or off...). To define binary attributes, we can manually examine the data frame."
      ]
    },
    {
      "cell_type": "code",
      "source": [
        "df_distinct"
      ],
      "metadata": {
        "id": "tgQ6CxbGSny2",
        "colab": {
          "base_uri": "https://localhost:8080/",
          "height": 286
        },
        "outputId": "4aeb654e-f973-4b52-b3fa-9564ab34dd0d"
      },
      "execution_count": null,
      "outputs": [
        {
          "output_type": "execute_result",
          "data": {
            "text/plain": [
              "        Column_name  Distinct_values_count  \\\n",
              "0         work_year                      2   \n",
              "1  experience_level                      4   \n",
              "2   employment_type                      4   \n",
              "3         job_title                     61   \n",
              "4     salary_in_usd                    645   \n",
              "5      remote_ratio                      3   \n",
              "6      company_size                      3   \n",
              "\n",
              "                                        Values_range  \n",
              "0                                       [2023, 2022]  \n",
              "1                                   [MI, SE, EN, EX]  \n",
              "2                                   [CT, FT, PT, FL]  \n",
              "3  [ML Engineer, Applied Scientist, Data Scientis...  \n",
              "4  [30000, 25500, 222200, 136000, 147100, 90700, ...  \n",
              "5                                       [100, 0, 50]  \n",
              "6                                          [S, L, M]  "
            ],
            "text/html": [
              "\n",
              "  <div id=\"df-a4f6bb3e-4449-4f2c-bd04-aceea55583c1\" class=\"colab-df-container\">\n",
              "    <div>\n",
              "<style scoped>\n",
              "    .dataframe tbody tr th:only-of-type {\n",
              "        vertical-align: middle;\n",
              "    }\n",
              "\n",
              "    .dataframe tbody tr th {\n",
              "        vertical-align: top;\n",
              "    }\n",
              "\n",
              "    .dataframe thead th {\n",
              "        text-align: right;\n",
              "    }\n",
              "</style>\n",
              "<table border=\"1\" class=\"dataframe\">\n",
              "  <thead>\n",
              "    <tr style=\"text-align: right;\">\n",
              "      <th></th>\n",
              "      <th>Column_name</th>\n",
              "      <th>Distinct_values_count</th>\n",
              "      <th>Values_range</th>\n",
              "    </tr>\n",
              "  </thead>\n",
              "  <tbody>\n",
              "    <tr>\n",
              "      <th>0</th>\n",
              "      <td>work_year</td>\n",
              "      <td>2</td>\n",
              "      <td>[2023, 2022]</td>\n",
              "    </tr>\n",
              "    <tr>\n",
              "      <th>1</th>\n",
              "      <td>experience_level</td>\n",
              "      <td>4</td>\n",
              "      <td>[MI, SE, EN, EX]</td>\n",
              "    </tr>\n",
              "    <tr>\n",
              "      <th>2</th>\n",
              "      <td>employment_type</td>\n",
              "      <td>4</td>\n",
              "      <td>[CT, FT, PT, FL]</td>\n",
              "    </tr>\n",
              "    <tr>\n",
              "      <th>3</th>\n",
              "      <td>job_title</td>\n",
              "      <td>61</td>\n",
              "      <td>[ML Engineer, Applied Scientist, Data Scientis...</td>\n",
              "    </tr>\n",
              "    <tr>\n",
              "      <th>4</th>\n",
              "      <td>salary_in_usd</td>\n",
              "      <td>645</td>\n",
              "      <td>[30000, 25500, 222200, 136000, 147100, 90700, ...</td>\n",
              "    </tr>\n",
              "    <tr>\n",
              "      <th>5</th>\n",
              "      <td>remote_ratio</td>\n",
              "      <td>3</td>\n",
              "      <td>[100, 0, 50]</td>\n",
              "    </tr>\n",
              "    <tr>\n",
              "      <th>6</th>\n",
              "      <td>company_size</td>\n",
              "      <td>3</td>\n",
              "      <td>[S, L, M]</td>\n",
              "    </tr>\n",
              "  </tbody>\n",
              "</table>\n",
              "</div>\n",
              "    <div class=\"colab-df-buttons\">\n",
              "\n",
              "  <div class=\"colab-df-container\">\n",
              "    <button class=\"colab-df-convert\" onclick=\"convertToInteractive('df-a4f6bb3e-4449-4f2c-bd04-aceea55583c1')\"\n",
              "            title=\"Convert this dataframe to an interactive table.\"\n",
              "            style=\"display:none;\">\n",
              "\n",
              "  <svg xmlns=\"http://www.w3.org/2000/svg\" height=\"24px\" viewBox=\"0 -960 960 960\">\n",
              "    <path d=\"M120-120v-720h720v720H120Zm60-500h600v-160H180v160Zm220 220h160v-160H400v160Zm0 220h160v-160H400v160ZM180-400h160v-160H180v160Zm440 0h160v-160H620v160ZM180-180h160v-160H180v160Zm440 0h160v-160H620v160Z\"/>\n",
              "  </svg>\n",
              "    </button>\n",
              "\n",
              "  <style>\n",
              "    .colab-df-container {\n",
              "      display:flex;\n",
              "      gap: 12px;\n",
              "    }\n",
              "\n",
              "    .colab-df-convert {\n",
              "      background-color: #E8F0FE;\n",
              "      border: none;\n",
              "      border-radius: 50%;\n",
              "      cursor: pointer;\n",
              "      display: none;\n",
              "      fill: #1967D2;\n",
              "      height: 32px;\n",
              "      padding: 0 0 0 0;\n",
              "      width: 32px;\n",
              "    }\n",
              "\n",
              "    .colab-df-convert:hover {\n",
              "      background-color: #E2EBFA;\n",
              "      box-shadow: 0px 1px 2px rgba(60, 64, 67, 0.3), 0px 1px 3px 1px rgba(60, 64, 67, 0.15);\n",
              "      fill: #174EA6;\n",
              "    }\n",
              "\n",
              "    .colab-df-buttons div {\n",
              "      margin-bottom: 4px;\n",
              "    }\n",
              "\n",
              "    [theme=dark] .colab-df-convert {\n",
              "      background-color: #3B4455;\n",
              "      fill: #D2E3FC;\n",
              "    }\n",
              "\n",
              "    [theme=dark] .colab-df-convert:hover {\n",
              "      background-color: #434B5C;\n",
              "      box-shadow: 0px 1px 3px 1px rgba(0, 0, 0, 0.15);\n",
              "      filter: drop-shadow(0px 1px 2px rgba(0, 0, 0, 0.3));\n",
              "      fill: #FFFFFF;\n",
              "    }\n",
              "  </style>\n",
              "\n",
              "    <script>\n",
              "      const buttonEl =\n",
              "        document.querySelector('#df-a4f6bb3e-4449-4f2c-bd04-aceea55583c1 button.colab-df-convert');\n",
              "      buttonEl.style.display =\n",
              "        google.colab.kernel.accessAllowed ? 'block' : 'none';\n",
              "\n",
              "      async function convertToInteractive(key) {\n",
              "        const element = document.querySelector('#df-a4f6bb3e-4449-4f2c-bd04-aceea55583c1');\n",
              "        const dataTable =\n",
              "          await google.colab.kernel.invokeFunction('convertToInteractive',\n",
              "                                                    [key], {});\n",
              "        if (!dataTable) return;\n",
              "\n",
              "        const docLinkHtml = 'Like what you see? Visit the ' +\n",
              "          '<a target=\"_blank\" href=https://colab.research.google.com/notebooks/data_table.ipynb>data table notebook</a>'\n",
              "          + ' to learn more about interactive tables.';\n",
              "        element.innerHTML = '';\n",
              "        dataTable['output_type'] = 'display_data';\n",
              "        await google.colab.output.renderOutput(dataTable, element);\n",
              "        const docLink = document.createElement('div');\n",
              "        docLink.innerHTML = docLinkHtml;\n",
              "        element.appendChild(docLink);\n",
              "      }\n",
              "    </script>\n",
              "  </div>\n",
              "\n",
              "\n",
              "<div id=\"df-963791c4-0f0f-45ee-b07e-9654bb00a94e\">\n",
              "  <button class=\"colab-df-quickchart\" onclick=\"quickchart('df-963791c4-0f0f-45ee-b07e-9654bb00a94e')\"\n",
              "            title=\"Suggest charts\"\n",
              "            style=\"display:none;\">\n",
              "\n",
              "<svg xmlns=\"http://www.w3.org/2000/svg\" height=\"24px\"viewBox=\"0 0 24 24\"\n",
              "     width=\"24px\">\n",
              "    <g>\n",
              "        <path d=\"M19 3H5c-1.1 0-2 .9-2 2v14c0 1.1.9 2 2 2h14c1.1 0 2-.9 2-2V5c0-1.1-.9-2-2-2zM9 17H7v-7h2v7zm4 0h-2V7h2v10zm4 0h-2v-4h2v4z\"/>\n",
              "    </g>\n",
              "</svg>\n",
              "  </button>\n",
              "\n",
              "<style>\n",
              "  .colab-df-quickchart {\n",
              "      --bg-color: #E8F0FE;\n",
              "      --fill-color: #1967D2;\n",
              "      --hover-bg-color: #E2EBFA;\n",
              "      --hover-fill-color: #174EA6;\n",
              "      --disabled-fill-color: #AAA;\n",
              "      --disabled-bg-color: #DDD;\n",
              "  }\n",
              "\n",
              "  [theme=dark] .colab-df-quickchart {\n",
              "      --bg-color: #3B4455;\n",
              "      --fill-color: #D2E3FC;\n",
              "      --hover-bg-color: #434B5C;\n",
              "      --hover-fill-color: #FFFFFF;\n",
              "      --disabled-bg-color: #3B4455;\n",
              "      --disabled-fill-color: #666;\n",
              "  }\n",
              "\n",
              "  .colab-df-quickchart {\n",
              "    background-color: var(--bg-color);\n",
              "    border: none;\n",
              "    border-radius: 50%;\n",
              "    cursor: pointer;\n",
              "    display: none;\n",
              "    fill: var(--fill-color);\n",
              "    height: 32px;\n",
              "    padding: 0;\n",
              "    width: 32px;\n",
              "  }\n",
              "\n",
              "  .colab-df-quickchart:hover {\n",
              "    background-color: var(--hover-bg-color);\n",
              "    box-shadow: 0 1px 2px rgba(60, 64, 67, 0.3), 0 1px 3px 1px rgba(60, 64, 67, 0.15);\n",
              "    fill: var(--button-hover-fill-color);\n",
              "  }\n",
              "\n",
              "  .colab-df-quickchart-complete:disabled,\n",
              "  .colab-df-quickchart-complete:disabled:hover {\n",
              "    background-color: var(--disabled-bg-color);\n",
              "    fill: var(--disabled-fill-color);\n",
              "    box-shadow: none;\n",
              "  }\n",
              "\n",
              "  .colab-df-spinner {\n",
              "    border: 2px solid var(--fill-color);\n",
              "    border-color: transparent;\n",
              "    border-bottom-color: var(--fill-color);\n",
              "    animation:\n",
              "      spin 1s steps(1) infinite;\n",
              "  }\n",
              "\n",
              "  @keyframes spin {\n",
              "    0% {\n",
              "      border-color: transparent;\n",
              "      border-bottom-color: var(--fill-color);\n",
              "      border-left-color: var(--fill-color);\n",
              "    }\n",
              "    20% {\n",
              "      border-color: transparent;\n",
              "      border-left-color: var(--fill-color);\n",
              "      border-top-color: var(--fill-color);\n",
              "    }\n",
              "    30% {\n",
              "      border-color: transparent;\n",
              "      border-left-color: var(--fill-color);\n",
              "      border-top-color: var(--fill-color);\n",
              "      border-right-color: var(--fill-color);\n",
              "    }\n",
              "    40% {\n",
              "      border-color: transparent;\n",
              "      border-right-color: var(--fill-color);\n",
              "      border-top-color: var(--fill-color);\n",
              "    }\n",
              "    60% {\n",
              "      border-color: transparent;\n",
              "      border-right-color: var(--fill-color);\n",
              "    }\n",
              "    80% {\n",
              "      border-color: transparent;\n",
              "      border-right-color: var(--fill-color);\n",
              "      border-bottom-color: var(--fill-color);\n",
              "    }\n",
              "    90% {\n",
              "      border-color: transparent;\n",
              "      border-bottom-color: var(--fill-color);\n",
              "    }\n",
              "  }\n",
              "</style>\n",
              "\n",
              "  <script>\n",
              "    async function quickchart(key) {\n",
              "      const quickchartButtonEl =\n",
              "        document.querySelector('#' + key + ' button');\n",
              "      quickchartButtonEl.disabled = true;  // To prevent multiple clicks.\n",
              "      quickchartButtonEl.classList.add('colab-df-spinner');\n",
              "      try {\n",
              "        const charts = await google.colab.kernel.invokeFunction(\n",
              "            'suggestCharts', [key], {});\n",
              "      } catch (error) {\n",
              "        console.error('Error during call to suggestCharts:', error);\n",
              "      }\n",
              "      quickchartButtonEl.classList.remove('colab-df-spinner');\n",
              "      quickchartButtonEl.classList.add('colab-df-quickchart-complete');\n",
              "    }\n",
              "    (() => {\n",
              "      let quickchartButtonEl =\n",
              "        document.querySelector('#df-963791c4-0f0f-45ee-b07e-9654bb00a94e button');\n",
              "      quickchartButtonEl.style.display =\n",
              "        google.colab.kernel.accessAllowed ? 'block' : 'none';\n",
              "    })();\n",
              "  </script>\n",
              "</div>\n",
              "    </div>\n",
              "  </div>\n"
            ]
          },
          "metadata": {},
          "execution_count": 205
        }
      ]
    },
    {
      "cell_type": "markdown",
      "source": [
        "From the above output, we can see that there are no columns which contains only two different values as (0,1) or (True, False). So we can conclude that the dataframe has no binary distributes on it.\n",
        "\n",
        "Or we can check it again by using code to list the columns automatically."
      ],
      "metadata": {
        "id": "seCfYAGuS26k"
      }
    },
    {
      "cell_type": "code",
      "execution_count": null,
      "metadata": {
        "id": "ZiINau_MjcAw",
        "colab": {
          "base_uri": "https://localhost:8080/"
        },
        "outputId": "c76dbdee-a327-4dfb-f489-64531b3c6e4e"
      },
      "outputs": [
        {
          "output_type": "stream",
          "name": "stdout",
          "text": [
            "There are no binary columns in the data frame.\n"
          ]
        }
      ],
      "source": [
        "# List binary attribute columns which has values as (0,1) or (True,False)\n",
        "Binary_col = salary_final.columns[df_salary.isin([0, 1]).all()]\n",
        "\n",
        "# Print the result\n",
        "if not Binary_col.empty:\n",
        "    print(\"List of Binary Atributes:\\n\")\n",
        "    Data_print_as_List(Binary_col)\n",
        "else:\n",
        "    print(\"There are no binary columns in the data frame.\")"
      ]
    },
    {
      "cell_type": "markdown",
      "metadata": {
        "id": "22xKMAwdx7I3"
      },
      "source": [
        "**Hence, we conclude that there is no binary attribute in this data set.**"
      ]
    },
    {
      "cell_type": "markdown",
      "metadata": {
        "id": "8rAE4KgkKRtc"
      },
      "source": [
        "### **Identify and print ordinal attributes**"
      ]
    },
    {
      "cell_type": "markdown",
      "metadata": {
        "id": "o5Ssp53acRky"
      },
      "source": [
        "We observed that the \"experience_level\" column may be an ordinal attribute because it indicates the range of experience levels.\n",
        "\n",
        "Additionally, the \"company_size\" column may be an ordinal attribute since it reflects the company's size (small, medium, or large)."
      ]
    },
    {
      "cell_type": "code",
      "execution_count": null,
      "metadata": {
        "id": "g7OV7NgyKXR9",
        "colab": {
          "base_uri": "https://localhost:8080/"
        },
        "outputId": "a514a305-4874-4ccc-fa4c-b689f7617178"
      },
      "outputs": [
        {
          "output_type": "stream",
          "name": "stdout",
          "text": [
            "List of Ordinal Atributes:\n",
            "\n",
            "0 experience_level\n",
            "1 company_size\n"
          ]
        }
      ],
      "source": [
        "# Get ordinal attributes\n",
        "print(\"List of Ordinal Atributes:\\n\")\n",
        "Ordinal_col = salary_final[['experience_level','company_size']]\n",
        "Data_print_as_List(Ordinal_col)"
      ]
    },
    {
      "cell_type": "markdown",
      "metadata": {
        "id": "LO41E2KWa659"
      },
      "source": [
        "Because the values of these two columns are of the string type, they will be returned in alphabetical order, preventing us from sorting them in the right manner. So now we need to adjust the order for the values of those columns."
      ]
    },
    {
      "cell_type": "code",
      "execution_count": null,
      "metadata": {
        "id": "U44AXAbFW2ab",
        "colab": {
          "base_uri": "https://localhost:8080/"
        },
        "outputId": "04615aff-a69e-4f5d-f1cc-986f69041d02"
      },
      "outputs": [
        {
          "output_type": "execute_result",
          "data": {
            "text/plain": [
              "CategoricalDtype(categories=['Entry-level', 'Mid-level', 'Senior', 'Executive'], ordered=True)"
            ]
          },
          "metadata": {},
          "execution_count": 208
        }
      ],
      "source": [
        "# Set order for \"experience_level\" values, assending == True\n",
        "ordinal_order = ['Entry-level','Mid-level','Senior','Executive']\n",
        "\n",
        "# Print the order and its type\n",
        "salary_final['experience_level'] = salary_final['experience_level'].astype(pd.CategoricalDtype(categories=ordinal_order, ordered=True))\n",
        "salary_final.experience_level.dtype"
      ]
    },
    {
      "cell_type": "code",
      "execution_count": null,
      "metadata": {
        "id": "EWxw8vKPW__8",
        "colab": {
          "base_uri": "https://localhost:8080/"
        },
        "outputId": "103e9fda-ba8a-4383-ec98-9d35d8bbb2b2"
      },
      "outputs": [
        {
          "output_type": "execute_result",
          "data": {
            "text/plain": [
              "CategoricalDtype(categories=['Small', 'Medium', 'Large'], ordered=True)"
            ]
          },
          "metadata": {},
          "execution_count": 209
        }
      ],
      "source": [
        "# Set order for \"company_size\" values, assending == True\n",
        "ordinal_order = ['Small','Medium','Large']\n",
        "\n",
        "# Print the order & its type\n",
        "salary_final['company_size'] = salary_final['company_size'].astype(pd.CategoricalDtype(categories=ordinal_order, ordered=True))\n",
        "salary_final.company_size.dtype"
      ]
    },
    {
      "cell_type": "markdown",
      "metadata": {
        "id": "d7NPQDsw82hW"
      },
      "source": [
        "###  **Identify and print numerical attributes**"
      ]
    },
    {
      "cell_type": "markdown",
      "metadata": {
        "id": "EUQFkTK8fb7n"
      },
      "source": [
        "The \"salary_in_usd\" has an int64 type and could be calculated, hence it must be a numerical attribute.\n"
      ]
    },
    {
      "cell_type": "code",
      "execution_count": null,
      "metadata": {
        "id": "y8xhOkX_sB3s",
        "colab": {
          "base_uri": "https://localhost:8080/"
        },
        "outputId": "f3f54cb8-dbdb-4523-cd46-d33250addd50"
      },
      "outputs": [
        {
          "output_type": "stream",
          "name": "stdout",
          "text": [
            "Numerical Atribute:\n",
            "\n",
            "0 salary_in_usd\n"
          ]
        }
      ],
      "source": [
        "# Print the numberical attributes\n",
        "print(\"Numerical Atribute:\\n\")\n",
        "Numerical_columns = salary_final[['salary_in_usd']]\n",
        "Data_print_as_List(Numerical_columns)\n"
      ]
    },
    {
      "cell_type": "code",
      "execution_count": null,
      "metadata": {
        "id": "tcSmG4iHEsXa",
        "colab": {
          "base_uri": "https://localhost:8080/",
          "height": 300
        },
        "outputId": "44a62230-7eed-401c-e8e9-8d756a04b908"
      },
      "outputs": [
        {
          "output_type": "execute_result",
          "data": {
            "text/plain": [
              "       salary_in_usd\n",
              "count    2850.000000\n",
              "mean   149039.025614\n",
              "std     49410.974219\n",
              "min     12000.000000\n",
              "25%    115000.000000\n",
              "50%    145000.000000\n",
              "75%    182500.000000\n",
              "max    289800.000000"
            ],
            "text/html": [
              "\n",
              "  <div id=\"df-d717b852-1116-46bd-9b7d-a507c2ffc46b\" class=\"colab-df-container\">\n",
              "    <div>\n",
              "<style scoped>\n",
              "    .dataframe tbody tr th:only-of-type {\n",
              "        vertical-align: middle;\n",
              "    }\n",
              "\n",
              "    .dataframe tbody tr th {\n",
              "        vertical-align: top;\n",
              "    }\n",
              "\n",
              "    .dataframe thead th {\n",
              "        text-align: right;\n",
              "    }\n",
              "</style>\n",
              "<table border=\"1\" class=\"dataframe\">\n",
              "  <thead>\n",
              "    <tr style=\"text-align: right;\">\n",
              "      <th></th>\n",
              "      <th>salary_in_usd</th>\n",
              "    </tr>\n",
              "  </thead>\n",
              "  <tbody>\n",
              "    <tr>\n",
              "      <th>count</th>\n",
              "      <td>2850.000000</td>\n",
              "    </tr>\n",
              "    <tr>\n",
              "      <th>mean</th>\n",
              "      <td>149039.025614</td>\n",
              "    </tr>\n",
              "    <tr>\n",
              "      <th>std</th>\n",
              "      <td>49410.974219</td>\n",
              "    </tr>\n",
              "    <tr>\n",
              "      <th>min</th>\n",
              "      <td>12000.000000</td>\n",
              "    </tr>\n",
              "    <tr>\n",
              "      <th>25%</th>\n",
              "      <td>115000.000000</td>\n",
              "    </tr>\n",
              "    <tr>\n",
              "      <th>50%</th>\n",
              "      <td>145000.000000</td>\n",
              "    </tr>\n",
              "    <tr>\n",
              "      <th>75%</th>\n",
              "      <td>182500.000000</td>\n",
              "    </tr>\n",
              "    <tr>\n",
              "      <th>max</th>\n",
              "      <td>289800.000000</td>\n",
              "    </tr>\n",
              "  </tbody>\n",
              "</table>\n",
              "</div>\n",
              "    <div class=\"colab-df-buttons\">\n",
              "\n",
              "  <div class=\"colab-df-container\">\n",
              "    <button class=\"colab-df-convert\" onclick=\"convertToInteractive('df-d717b852-1116-46bd-9b7d-a507c2ffc46b')\"\n",
              "            title=\"Convert this dataframe to an interactive table.\"\n",
              "            style=\"display:none;\">\n",
              "\n",
              "  <svg xmlns=\"http://www.w3.org/2000/svg\" height=\"24px\" viewBox=\"0 -960 960 960\">\n",
              "    <path d=\"M120-120v-720h720v720H120Zm60-500h600v-160H180v160Zm220 220h160v-160H400v160Zm0 220h160v-160H400v160ZM180-400h160v-160H180v160Zm440 0h160v-160H620v160ZM180-180h160v-160H180v160Zm440 0h160v-160H620v160Z\"/>\n",
              "  </svg>\n",
              "    </button>\n",
              "\n",
              "  <style>\n",
              "    .colab-df-container {\n",
              "      display:flex;\n",
              "      gap: 12px;\n",
              "    }\n",
              "\n",
              "    .colab-df-convert {\n",
              "      background-color: #E8F0FE;\n",
              "      border: none;\n",
              "      border-radius: 50%;\n",
              "      cursor: pointer;\n",
              "      display: none;\n",
              "      fill: #1967D2;\n",
              "      height: 32px;\n",
              "      padding: 0 0 0 0;\n",
              "      width: 32px;\n",
              "    }\n",
              "\n",
              "    .colab-df-convert:hover {\n",
              "      background-color: #E2EBFA;\n",
              "      box-shadow: 0px 1px 2px rgba(60, 64, 67, 0.3), 0px 1px 3px 1px rgba(60, 64, 67, 0.15);\n",
              "      fill: #174EA6;\n",
              "    }\n",
              "\n",
              "    .colab-df-buttons div {\n",
              "      margin-bottom: 4px;\n",
              "    }\n",
              "\n",
              "    [theme=dark] .colab-df-convert {\n",
              "      background-color: #3B4455;\n",
              "      fill: #D2E3FC;\n",
              "    }\n",
              "\n",
              "    [theme=dark] .colab-df-convert:hover {\n",
              "      background-color: #434B5C;\n",
              "      box-shadow: 0px 1px 3px 1px rgba(0, 0, 0, 0.15);\n",
              "      filter: drop-shadow(0px 1px 2px rgba(0, 0, 0, 0.3));\n",
              "      fill: #FFFFFF;\n",
              "    }\n",
              "  </style>\n",
              "\n",
              "    <script>\n",
              "      const buttonEl =\n",
              "        document.querySelector('#df-d717b852-1116-46bd-9b7d-a507c2ffc46b button.colab-df-convert');\n",
              "      buttonEl.style.display =\n",
              "        google.colab.kernel.accessAllowed ? 'block' : 'none';\n",
              "\n",
              "      async function convertToInteractive(key) {\n",
              "        const element = document.querySelector('#df-d717b852-1116-46bd-9b7d-a507c2ffc46b');\n",
              "        const dataTable =\n",
              "          await google.colab.kernel.invokeFunction('convertToInteractive',\n",
              "                                                    [key], {});\n",
              "        if (!dataTable) return;\n",
              "\n",
              "        const docLinkHtml = 'Like what you see? Visit the ' +\n",
              "          '<a target=\"_blank\" href=https://colab.research.google.com/notebooks/data_table.ipynb>data table notebook</a>'\n",
              "          + ' to learn more about interactive tables.';\n",
              "        element.innerHTML = '';\n",
              "        dataTable['output_type'] = 'display_data';\n",
              "        await google.colab.output.renderOutput(dataTable, element);\n",
              "        const docLink = document.createElement('div');\n",
              "        docLink.innerHTML = docLinkHtml;\n",
              "        element.appendChild(docLink);\n",
              "      }\n",
              "    </script>\n",
              "  </div>\n",
              "\n",
              "\n",
              "<div id=\"df-5c576f99-abb5-4dd6-ba22-aaecf5566456\">\n",
              "  <button class=\"colab-df-quickchart\" onclick=\"quickchart('df-5c576f99-abb5-4dd6-ba22-aaecf5566456')\"\n",
              "            title=\"Suggest charts\"\n",
              "            style=\"display:none;\">\n",
              "\n",
              "<svg xmlns=\"http://www.w3.org/2000/svg\" height=\"24px\"viewBox=\"0 0 24 24\"\n",
              "     width=\"24px\">\n",
              "    <g>\n",
              "        <path d=\"M19 3H5c-1.1 0-2 .9-2 2v14c0 1.1.9 2 2 2h14c1.1 0 2-.9 2-2V5c0-1.1-.9-2-2-2zM9 17H7v-7h2v7zm4 0h-2V7h2v10zm4 0h-2v-4h2v4z\"/>\n",
              "    </g>\n",
              "</svg>\n",
              "  </button>\n",
              "\n",
              "<style>\n",
              "  .colab-df-quickchart {\n",
              "      --bg-color: #E8F0FE;\n",
              "      --fill-color: #1967D2;\n",
              "      --hover-bg-color: #E2EBFA;\n",
              "      --hover-fill-color: #174EA6;\n",
              "      --disabled-fill-color: #AAA;\n",
              "      --disabled-bg-color: #DDD;\n",
              "  }\n",
              "\n",
              "  [theme=dark] .colab-df-quickchart {\n",
              "      --bg-color: #3B4455;\n",
              "      --fill-color: #D2E3FC;\n",
              "      --hover-bg-color: #434B5C;\n",
              "      --hover-fill-color: #FFFFFF;\n",
              "      --disabled-bg-color: #3B4455;\n",
              "      --disabled-fill-color: #666;\n",
              "  }\n",
              "\n",
              "  .colab-df-quickchart {\n",
              "    background-color: var(--bg-color);\n",
              "    border: none;\n",
              "    border-radius: 50%;\n",
              "    cursor: pointer;\n",
              "    display: none;\n",
              "    fill: var(--fill-color);\n",
              "    height: 32px;\n",
              "    padding: 0;\n",
              "    width: 32px;\n",
              "  }\n",
              "\n",
              "  .colab-df-quickchart:hover {\n",
              "    background-color: var(--hover-bg-color);\n",
              "    box-shadow: 0 1px 2px rgba(60, 64, 67, 0.3), 0 1px 3px 1px rgba(60, 64, 67, 0.15);\n",
              "    fill: var(--button-hover-fill-color);\n",
              "  }\n",
              "\n",
              "  .colab-df-quickchart-complete:disabled,\n",
              "  .colab-df-quickchart-complete:disabled:hover {\n",
              "    background-color: var(--disabled-bg-color);\n",
              "    fill: var(--disabled-fill-color);\n",
              "    box-shadow: none;\n",
              "  }\n",
              "\n",
              "  .colab-df-spinner {\n",
              "    border: 2px solid var(--fill-color);\n",
              "    border-color: transparent;\n",
              "    border-bottom-color: var(--fill-color);\n",
              "    animation:\n",
              "      spin 1s steps(1) infinite;\n",
              "  }\n",
              "\n",
              "  @keyframes spin {\n",
              "    0% {\n",
              "      border-color: transparent;\n",
              "      border-bottom-color: var(--fill-color);\n",
              "      border-left-color: var(--fill-color);\n",
              "    }\n",
              "    20% {\n",
              "      border-color: transparent;\n",
              "      border-left-color: var(--fill-color);\n",
              "      border-top-color: var(--fill-color);\n",
              "    }\n",
              "    30% {\n",
              "      border-color: transparent;\n",
              "      border-left-color: var(--fill-color);\n",
              "      border-top-color: var(--fill-color);\n",
              "      border-right-color: var(--fill-color);\n",
              "    }\n",
              "    40% {\n",
              "      border-color: transparent;\n",
              "      border-right-color: var(--fill-color);\n",
              "      border-top-color: var(--fill-color);\n",
              "    }\n",
              "    60% {\n",
              "      border-color: transparent;\n",
              "      border-right-color: var(--fill-color);\n",
              "    }\n",
              "    80% {\n",
              "      border-color: transparent;\n",
              "      border-right-color: var(--fill-color);\n",
              "      border-bottom-color: var(--fill-color);\n",
              "    }\n",
              "    90% {\n",
              "      border-color: transparent;\n",
              "      border-bottom-color: var(--fill-color);\n",
              "    }\n",
              "  }\n",
              "</style>\n",
              "\n",
              "  <script>\n",
              "    async function quickchart(key) {\n",
              "      const quickchartButtonEl =\n",
              "        document.querySelector('#' + key + ' button');\n",
              "      quickchartButtonEl.disabled = true;  // To prevent multiple clicks.\n",
              "      quickchartButtonEl.classList.add('colab-df-spinner');\n",
              "      try {\n",
              "        const charts = await google.colab.kernel.invokeFunction(\n",
              "            'suggestCharts', [key], {});\n",
              "      } catch (error) {\n",
              "        console.error('Error during call to suggestCharts:', error);\n",
              "      }\n",
              "      quickchartButtonEl.classList.remove('colab-df-spinner');\n",
              "      quickchartButtonEl.classList.add('colab-df-quickchart-complete');\n",
              "    }\n",
              "    (() => {\n",
              "      let quickchartButtonEl =\n",
              "        document.querySelector('#df-5c576f99-abb5-4dd6-ba22-aaecf5566456 button');\n",
              "      quickchartButtonEl.style.display =\n",
              "        google.colab.kernel.accessAllowed ? 'block' : 'none';\n",
              "    })();\n",
              "  </script>\n",
              "</div>\n",
              "    </div>\n",
              "  </div>\n"
            ]
          },
          "metadata": {},
          "execution_count": 211
        }
      ],
      "source": [
        "Numerical_columns.describe()"
      ]
    },
    {
      "cell_type": "markdown",
      "metadata": {
        "id": "hYbFsK7QeDBV"
      },
      "source": [
        "#3. Statistics & Visualization"
      ]
    },
    {
      "cell_type": "markdown",
      "source": [
        "Before deep diving into the statistics and visualizations relevant to our four questions, let us first understand some basic statistics about our dataset."
      ],
      "metadata": {
        "id": "8Kd7uCobmH_2"
      }
    },
    {
      "cell_type": "code",
      "execution_count": null,
      "metadata": {
        "id": "gF9YW9bJEpjm",
        "colab": {
          "base_uri": "https://localhost:8080/"
        },
        "outputId": "0e80ed69-7533-4913-d4e7-9757ccf36388"
      },
      "outputs": [
        {
          "output_type": "stream",
          "name": "stdout",
          "text": [
            "Mean Salary \t\t : 149039 \t-   Average salary across all entries.\n",
            "Median Salary \t\t : 145000 \t-   Middle salary value, robust against outliers.\n",
            "Standard Deviation \t : 49410 \t-   Variability of salary distribution.\n",
            "Variance \t\t : 2441444373 \t-   Measure of salary distribution spread.\n",
            "Minimum Salary \t\t : 12000 \t-   Lowest salary in the dataset.\n",
            "Maximum Salary \t\t : 289800 \t-   Highest salary in the dataset.\n",
            "Total Salary \t\t : 424761223 \t-   Sum of all salaries, useful for budgeting.\n"
          ]
        }
      ],
      "source": [
        "# Calculate basic statistics\n",
        "actual_mean_salary = np.mean(salary_final['salary_in_usd'])\n",
        "actual_median_salary = np.median(salary_final['salary_in_usd'])\n",
        "actual_std_dev_salary = np.std(salary_final['salary_in_usd'], ddof=1)\n",
        "actual_variance_salary = np.var(salary_final['salary_in_usd'], ddof=1)\n",
        "actual_min_salary = np.min(salary_final['salary_in_usd'])\n",
        "actual_max_salary = np.max(salary_final['salary_in_usd'])\n",
        "actual_total_salary = np.sum(salary_final['salary_in_usd'])\n",
        "\n",
        "# Add explanations for each statistic\n",
        "actual_stats_explanations = {\n",
        "    \"Mean Salary \\t\\t\": (actual_mean_salary, \"Average salary across all entries.\"),\n",
        "    \"Median Salary \\t\\t\": (actual_median_salary, \"Middle salary value, robust against outliers.\"),\n",
        "    \"Standard Deviation \\t\": (actual_std_dev_salary, \"Variability of salary distribution.\"),\n",
        "    \"Variance \\t\\t\": (actual_variance_salary, \"Measure of salary distribution spread.\"),\n",
        "    \"Minimum Salary \\t\\t\": (actual_min_salary, \"Lowest salary in the dataset.\"),\n",
        "    \"Maximum Salary \\t\\t\": (actual_max_salary, \"Highest salary in the dataset.\"),\n",
        "    \"Total Salary \\t\\t\": (actual_total_salary, \"Sum of all salaries, useful for budgeting.\")\n",
        "}\n",
        "\n",
        "# Print each statistic with its explanation\n",
        "for stat, (value, explanation) in actual_stats_explanations.items():\n",
        "    print (stat + \" : \" + str(int(value)) + \" \\t-   \" + explanation)"
      ]
    },
    {
      "cell_type": "markdown",
      "metadata": {
        "id": "WjH-nqwX_CB5"
      },
      "source": [
        "### Q1. Top 10 Jobs with the Highest Mean Salary for Juniors in 2023\n",
        "\n",
        "**Approach**:\n",
        "Filter the dataset for entries where `experience_level` is 'Entry-level' and `work_year` is '2023'. Then group these entries by average of `salary_in_usd` and get the top 10.\n",
        "\n",
        "**Visualization**:\n",
        "Create a bar chart showing the job titles on the x-axis and the average salaries on the y-axis."
      ]
    },
    {
      "cell_type": "code",
      "source": [
        "# Filter the DataFrame for junior level\n",
        "junior_2023 = salary_final[(salary_final['experience_level'] == 'Entry-level') & (salary_final['work_year'] == 2023)]\n",
        "\n",
        "# Group by the largest mean salary of top 10 job titles\n",
        "top10_junior_jobs = junior_2023.groupby('job_title')['salary_in_usd'].mean().nlargest(10)\n",
        "top10_junior_jobs"
      ],
      "metadata": {
        "id": "S4MDbT7VsoA1",
        "colab": {
          "base_uri": "https://localhost:8080/"
        },
        "outputId": "07d389d1-6056-416c-e762-2fdfcd8eb032"
      },
      "execution_count": null,
      "outputs": [
        {
          "output_type": "execute_result",
          "data": {
            "text/plain": [
              "job_title\n",
              "Computer Vision Engineer     220000.000000\n",
              "Applied Scientist            167356.666667\n",
              "Machine Learning Engineer    154540.500000\n",
              "Research Scientist           144000.000000\n",
              "Research Engineer            140000.000000\n",
              "Deep Learning Engineer       135000.000000\n",
              "BI Developer                 130000.000000\n",
              "Data Scientist               108835.250000\n",
              "Data Engineer                101000.000000\n",
              "Data Analyst                  73665.517241\n",
              "Name: salary_in_usd, dtype: float64"
            ]
          },
          "metadata": {},
          "execution_count": 213
        }
      ]
    },
    {
      "cell_type": "code",
      "execution_count": null,
      "metadata": {
        "id": "22-A1nP3_Arb",
        "colab": {
          "base_uri": "https://localhost:8080/",
          "height": 647
        },
        "outputId": "2f309ba5-cfd8-4aaf-e24d-3031256a94b8"
      },
      "outputs": [
        {
          "output_type": "display_data",
          "data": {
            "text/plain": [
              "<Figure size 640x480 with 1 Axes>"
            ],
            "image/png": "[encoded data removed]"
          },
          "metadata": {}
        }
      ],
      "source": [
        "# Visualize by Bar chart\n",
        "plt.title('Top 10 Jobs with the Highest Salary for Juniors in 2023')\n",
        "top10_junior_jobs.plot(kind='bar')\n",
        "plt.show()"
      ]
    },
    {
      "cell_type": "markdown",
      "metadata": {
        "id": "jbZk781D_xi6"
      },
      "source": [
        "### Q2. Top 5 Popular Jobs in 2022 and 2023\n",
        "\n",
        "**Approach**:\n",
        "Filter the dataset for the years 2022 and 2023, then count the frequency of each `job_title`.\n",
        "\n",
        "**Visualization**:\n",
        "A bar chart and a pie chart to show top 5 job titles and their entries counts."
      ]
    },
    {
      "cell_type": "code",
      "source": [
        "# Filter for year 2022, 2023\n",
        "recent_years = salary_final[salary_final['work_year'].isin([2022, 2023])]\n",
        "\n",
        "# Group by job titles and 5 largest entries count\n",
        "popular_job_titles = recent_years['job_title'].value_counts().nlargest(5)\n",
        "popular_job_titles"
      ],
      "metadata": {
        "id": "ykS5lULSrmgo",
        "colab": {
          "base_uri": "https://localhost:8080/"
        },
        "outputId": "e7083342-9ee5-41d4-f94e-980c659527f7"
      },
      "execution_count": null,
      "outputs": [
        {
          "output_type": "execute_result",
          "data": {
            "text/plain": [
              "Data Engineer                863\n",
              "Data Scientist               641\n",
              "Data Analyst                 508\n",
              "Machine Learning Engineer    206\n",
              "Analytics Engineer            92\n",
              "Name: job_title, dtype: int64"
            ]
          },
          "metadata": {},
          "execution_count": 215
        }
      ]
    },
    {
      "cell_type": "code",
      "source": [
        "# Create index to display on y axis\n",
        "top_job_index= recent_years['job_title'].value_counts().head(5).index\n",
        "print(top_job_index)"
      ],
      "metadata": {
        "id": "TUMjNx5mOZD6",
        "colab": {
          "base_uri": "https://localhost:8080/"
        },
        "outputId": "f2c4f8e1-661d-407b-de77-97f94f47362d"
      },
      "execution_count": null,
      "outputs": [
        {
          "output_type": "stream",
          "name": "stdout",
          "text": [
            "Index(['Data Engineer', 'Data Scientist', 'Data Analyst',\n",
            "       'Machine Learning Engineer', 'Analytics Engineer'],\n",
            "      dtype='object')\n"
          ]
        }
      ]
    },
    {
      "cell_type": "code",
      "source": [
        "# 2.1 Visualize by Bar chart\n",
        "plt.figure(figsize=(8, 5))\n",
        "sns.countplot(y='job_title', data=recent_years, order=top_job_index)\n",
        "plt.title('Top 5 Popular Job Titles in 2022-2023')\n",
        "plt.xlabel('Count')\n",
        "plt.ylabel('Job Title')\n",
        "plt.show()"
      ],
      "metadata": {
        "id": "ewZeif7N9unm",
        "colab": {
          "base_uri": "https://localhost:8080/",
          "height": 398
        },
        "outputId": "10d17f35-0420-4705-f30d-27a8dc06c16d"
      },
      "execution_count": null,
      "outputs": [
        {
          "output_type": "display_data",
          "data": {
            "text/plain": [
              "<Figure size 800x500 with 1 Axes>"
            ],
            "image/png": "[encoded data removed]"
          },
          "metadata": {}
        }
      ]
    },
    {
      "cell_type": "code",
      "execution_count": null,
      "metadata": {
        "id": "KMe50QOe2Gks",
        "colab": {
          "base_uri": "https://localhost:8080/",
          "height": 428
        },
        "outputId": "084aaed1-937f-4e92-a999-ded75a944a5f"
      },
      "outputs": [
        {
          "output_type": "display_data",
          "data": {
            "text/plain": [
              "<Figure size 640x480 with 1 Axes>"
            ],
            "image/png": "[encoded data removed]"
          },
          "metadata": {}
        }
      ],
      "source": [
        "# 2.2 Visualize by Pie chart (using the same result as above)\n",
        "popular_job_titles.plot(kind='pie',autopct='%1.1f%%',startangle=90)\n",
        "plt.title('Top 5 Popular Jobs in 2022 and 2023 (by percentage)')\n",
        "plt.show()"
      ]
    },
    {
      "cell_type": "markdown",
      "metadata": {
        "id": "xvoahu_2_XMl"
      },
      "source": [
        "### Q3. Average Salary of Each Job Title in Small-Sized Companies in the US\n",
        "\n",
        "**Approach**:\n",
        "Filter for 'small-sized' companies and group by `job_title` to calculate the mean `salary_in_usd` for each job title.\n",
        "\n",
        "**Visualization**:\n",
        "We will show a bar chart, heatmap and a line plot chart with job titles and their corresponding mean salaries."
      ]
    },
    {
      "cell_type": "code",
      "source": [
        "# Filter the DataFrame for small-sized companies\n",
        "small_companies = salary_final[(salary_final['company_size'] == 'Small')]\n",
        "\n",
        "# Group by job title and calculate the mean salary for each job title\n",
        "mean_salary_by_title = small_companies.groupby('job_title')['salary_in_usd'].mean()\n",
        "\n",
        "# Sort the average salaries\n",
        "mean_salary_by_title_sort = mean_salary_by_title.sort_values(ascending=True)\n",
        "mean_salary_by_title_sort"
      ],
      "metadata": {
        "id": "7o-hcDinqgoI",
        "colab": {
          "base_uri": "https://localhost:8080/"
        },
        "outputId": "8b3265be-40b3-450e-eee5-4d8ce1e0d127"
      },
      "execution_count": null,
      "outputs": [
        {
          "output_type": "execute_result",
          "data": {
            "text/plain": [
              "job_title\n",
              "ML Engineer                    27750.0\n",
              "Analytics Engineer             48000.0\n",
              "Data Analytics Consultant      50000.0\n",
              "NLP Engineer                   60000.0\n",
              "Data Engineer                  65000.0\n",
              "Data Analyst                   68840.5\n",
              "Data Scientist                 83250.0\n",
              "Machine Learning Engineer     114000.0\n",
              "Data Science Lead             165000.0\n",
              "Machine Learning Scientist    176250.0\n",
              "AI Scientist                  200000.0\n",
              "Computer Vision Engineer      200000.0\n",
              "Name: salary_in_usd, dtype: float64"
            ]
          },
          "metadata": {},
          "execution_count": 219
        }
      ]
    },
    {
      "cell_type": "code",
      "source": [
        "# 3.1 Visualize by Bar chart\n",
        "plt.figure(figsize=(8, 5))\n",
        "plt.barh(mean_salary_by_title.index[::-1], mean_salary_by_title_sort, color='#1874CD')\n",
        "plt.xlabel('Average Salary (in USD)')\n",
        "plt.ylabel('Job Title')\n",
        "plt.title('Average Salary by Job title in Small-sized US Companies')\n",
        "plt.tight_layout()\n",
        "plt.show()"
      ],
      "metadata": {
        "id": "LlqBc-IPI0YZ",
        "colab": {
          "base_uri": "https://localhost:8080/",
          "height": 448
        },
        "outputId": "ebad9380-692c-4e7d-e7cf-6b90b422cdb7"
      },
      "execution_count": null,
      "outputs": [
        {
          "output_type": "display_data",
          "data": {
            "text/plain": [
              "<Figure size 800x500 with 1 Axes>"
            ],
            "image/png": "[encoded data removed]"
          },
          "metadata": {}
        }
      ]
    },
    {
      "cell_type": "code",
      "source": [
        "# 3.2 Visualize by Heatmap chart (using the same result as above)\n",
        "# Create a DataFrame for a Heatmap\n",
        "heatmap_data = pd.DataFrame({\n",
        "    'Job Title': mean_salary_by_title.index,\n",
        "    'Small Company': 'Small Company',\n",
        "    'Mean Salary': mean_salary_by_title.values\n",
        "})\n",
        "\n",
        "# Create a pivot table for the Heatmap\n",
        "heatmap_pivot = heatmap_data.pivot(\"Small Company\", \"Job Title\", \"Mean Salary\")\n",
        "\n",
        "# Plot the Heatmap\n",
        "plt.figure(figsize=(14, 8))\n",
        "sns.heatmap(heatmap_pivot, yticklabels=False, annot=True, fmt=\".0f\", cmap='viridis', linewidths=.5)\n",
        "plt.title('Average Salary by Job title in Small-sized US Companies')\n",
        "plt.show()"
      ],
      "metadata": {
        "id": "c17lKP4yvmjI",
        "colab": {
          "base_uri": "https://localhost:8080/",
          "height": 594
        },
        "outputId": "3e177290-7735-4f03-8600-3770d91989c5"
      },
      "execution_count": null,
      "outputs": [
        {
          "output_type": "display_data",
          "data": {
            "text/plain": [
              "<Figure size 1400x800 with 2 Axes>"
            ],
            "image/png": "[encoded data removed]"
          },
          "metadata": {}
        }
      ]
    },
    {
      "cell_type": "code",
      "source": [
        "# 3.3 Visualize by Line plot chart (using the same result as above)\n",
        "plt.figure(figsize=(14, 5))\n",
        "plt.plot(mean_salary_by_title.index, mean_salary_by_title.values, marker='o')\n",
        "plt.xticks(rotation=80)\n",
        "plt.xlabel('Job Title')\n",
        "plt.ylabel('Mean Salary in USD')\n",
        "plt.title('Average Salary by Job title in Small-sized US Companies')\n",
        "plt.show()\n"
      ],
      "metadata": {
        "id": "Nj5o8-d5sqwo",
        "colab": {
          "base_uri": "https://localhost:8080/",
          "height": 395
        },
        "outputId": "1999ebc8-5e3d-408c-87c4-4304f6a5b225"
      },
      "execution_count": null,
      "outputs": [
        {
          "output_type": "display_data",
          "data": {
            "text/plain": [
              "<Figure size 1400x500 with 1 Axes>"
            ],
            "image/png": "[encoded data removed]"
          },
          "metadata": {}
        }
      ]
    },
    {
      "cell_type": "markdown",
      "metadata": {
        "id": "F6I82Vx-_sXF"
      },
      "source": [
        "### Q4. Average Income for the Data Scientist Job by Experience Level\n",
        "\n",
        "**Approach**:\n",
        "Filter for 'Data Scientist' positions and group by `experience_level` to calculate the mean `salary_in_usd`.\n",
        "\n",
        "**Visualization**:\n",
        "Use a histogram chart to show salary range of this job and a 3D chart to show the different experience levels on the x-axis and the average salaries on the y-axis."
      ]
    },
    {
      "cell_type": "code",
      "source": [
        "# Filter for 'Data Scientist' positions\n",
        "data_scientist_salaries = salary_final[salary_final['job_title'] == 'Data Scientist']\n",
        "\n",
        "# Group by experience level and calculate the mean salary\n",
        "income_by_experience = data_scientist_salaries.groupby('experience_level')['salary_in_usd'].mean()\n",
        "income_by_experience"
      ],
      "metadata": {
        "id": "akBL-7NurPVS",
        "colab": {
          "base_uri": "https://localhost:8080/"
        },
        "outputId": "2dab48ce-2c57-4bb6-c984-56cfeeb7eea5"
      },
      "execution_count": null,
      "outputs": [
        {
          "output_type": "execute_result",
          "data": {
            "text/plain": [
              "experience_level\n",
              "Entry-level    110020.727273\n",
              "Mid-level      128055.833333\n",
              "Senior         162917.479705\n",
              "Executive      169795.454545\n",
              "Name: salary_in_usd, dtype: float64"
            ]
          },
          "metadata": {},
          "execution_count": 223
        }
      ]
    },
    {
      "cell_type": "code",
      "source": [
        "# 4.1 Visualize by Histogram chart\n",
        "plt.hist(data_scientist_salaries['salary_in_usd'], bins=20, color='skyblue', edgecolor='white')\n",
        "plt.xlabel('Salary in USD')\n",
        "plt.ylabel('Count')\n",
        "plt.title('Distribution of Salaries for Data Scientists')\n",
        "plt.show()"
      ],
      "metadata": {
        "id": "hUPDtTuuMW-u",
        "colab": {
          "base_uri": "https://localhost:8080/",
          "height": 472
        },
        "outputId": "38aea677-1260-45bf-b9c8-b83f59f10646"
      },
      "execution_count": null,
      "outputs": [
        {
          "output_type": "display_data",
          "data": {
            "text/plain": [
              "<Figure size 640x480 with 1 Axes>"
            ],
            "image/png": "[encoded data removed]"
          },
          "metadata": {}
        }
      ]
    },
    {
      "cell_type": "code",
      "execution_count": null,
      "metadata": {
        "id": "4loJZv9uWTzp",
        "colab": {
          "base_uri": "https://localhost:8080/",
          "height": 675
        },
        "outputId": "8e925b3b-1916-4152-e399-61876f7c2db6"
      },
      "outputs": [
        {
          "output_type": "display_data",
          "data": {
            "text/plain": [
              "<Figure size 1200x800 with 1 Axes>"
            ],
            "image/png": "[encoded data removed]"
          },
          "metadata": {}
        }
      ],
      "source": [
        "# 4.2 Visualize by 3D chart (using the same result as above)\n",
        "fig = plt.figure(figsize=(12, 8))\n",
        "ax = fig.add_subplot(111, projection='3d')      #Adds a 3D subplot to the figure. The 111 means a single subplot in a grid of 1x1, and projection='3d' specifies that it's a 3D plot.\n",
        "x = np.arange(len(income_by_experience.index))  #Creates an array x with values ranging from 0 to the length of the index of the 'income_by_experience' variable.\n",
        "y = np.arange(len(income_by_experience.index))  #Creates an array y filled with zeros, which will be used as the y-coordinates for the bars.\n",
        "z = [0,0,0,0]                                   #Creates an array z filled with zeros, which will be used as the base (z-coordinate) for the bars.\n",
        "\n",
        "dx = np.ones(len(income_by_experience.index))   #Creates an array dx filled with ones, representing the width of the bars along the x-axis.\n",
        "dy = np.ones(len(income_by_experience.index))   #Creates an array dy filled with ones, representing the width of the bars along the y-axis.\n",
        "dz = income_by_experience.values                #Uses the values from the 'income_by_experience' variable as the height (z-coordinate) of the bars.\n",
        "\n",
        "#Creates a 3D bar chart using the specified x, y, and z coordinates, widths along x and y axes, and heights. The bars are colored cyan ('c') with a black edge.\n",
        "ax.bar3d(x, y, z, dx, dy, dz, color='c', edgecolor='white')\n",
        "ax.set_xticks(x)                                #Sets the x-axis ticks at positions slightly offset from the actual x-values.\n",
        "ax.set_xticklabels(income_by_experience.index)  #Sets the x-axis tick labels based on the index of the 'income_by_experience' variable.\n",
        "ax.set_xlabel('Experience Level')\n",
        "ax.set_yticks([])                               # Disable values on y axis because this line might confuse reader if visible\n",
        "ax.set_ylabel('')                               # Disable label on y axis\n",
        "ax.set_zlabel('Average Salary in USD')\n",
        "ax.set_title('Average Income for Data Scientist by Experience Level')\n",
        "\n",
        "plt.show()"
      ]
    },
    {
      "cell_type": "markdown",
      "source": [
        "\n",
        "# Conclusion\n",
        "\n",
        "Our analysis of the 2022-2023 data science wages, using the Kaggle dataset, has led to several key insights:\n",
        "\n",
        "1. **[Top 10 Jobs with Highest Mean Salary for Juniors in 2023](https://colab.research.google.com/drive/1jhTycUzPYroREp6-OQRwUaLH7dXwEIwi#scrollTo=22-A1nP3_Arb&line=1&uniqifier=1)**: We observed that the lowest average salary for Data Scientists is 73,665 USD, while the average salary for Data Engineers at this level is 101,000 USD. And in the Entry-level category, the average salary for Data Engineers is higher than that of Data Scientists, indicating that there is a higher demand or value associated with the skills of a Data Engineers compared to a Data Scientist at this experience level.\n",
        "\n",
        "> *For job candidates who value a better starting income, we would recommend them consider starting their career as a Data Engineer rather than a Data Scientist role, especially when starting at the Entry Level/Junior level.*\n",
        "\n",
        "2. **[Top 5 Popular Job Titles in 2022 and 2023](https://colab.research.google.com/drive/1jhTycUzPYroREp6-OQRwUaLH7dXwEIwi#scrollTo=ewZeif7N9unm&line=1&uniqifier=1)**: Upon examining the statistics, it is obvious that jobs such as 'Data Scientist' and 'Data Engineer' are in high demand. The data indicates that the industry is riding the wave of technological advancements. And it is like a sneak peek into future employment trends.\n",
        "\n",
        "3. **[Mean Salary by Job Title in Small-Sized US Companies](https://colab.research.google.com/drive/1jhTycUzPYroREp6-OQRwUaLH7dXwEIwi#scrollTo=c17lKP4yvmjI&line=1&uniqifier=1)**: Based on the statistics and visualization, we can see a significant variation in salaries across different job titles, especially the 'AI Scientist' role standing out with the highest average salary at $200,000 USD. Within the data science field, individuals with this specific role as well as 'Data Science Lead' tend to earn the greatest compensation in small-sized US companies.\n",
        "\n",
        "> *Given the high earning potential in this role, a career as an AI Scientist could be a promising path for job seekers hoping to land a well-compensated position.*\n",
        "\n",
        "4. **[Average Income for 'Data Scientist' by Experience Level](https://colab.research.google.com/drive/1jhTycUzPYroREp6-OQRwUaLH7dXwEIwi#scrollTo=hUPDtTuuMW-u&line=3&uniqifier=1)**:\n",
        "According to the Histogram chart, we could see that the majority of 'Data Scientist' professionals earn between $100,000 and 200,000 USD. Besides, the 3D chart shows that as professionals gain more experience, their salaries tend to rise.\n",
        "\n",
        "> *Recognizing the variations in salaries at different experience levels helps job seekers make informed choices in their career path, and they can set clear objectives for career progression based on their desired income level and the observations provided.*\n",
        "\n",
        "---"
      ],
      "metadata": {
        "id": "ULpcgWSJ1J2s"
      }
    },
    {
      "cell_type": "markdown",
      "source": [
        "**Thank you for taking the time to review our group project!**\n",
        "\n",
        "We appreciate your feedback and look forward to any suggestions for improvement.\n",
        "\n"
      ],
      "metadata": {
        "id": "voOe9xpvsrnN"
      }
    }
  ],
  "metadata": {
    "colab": {
      "provenance": [],
      "toc_visible": true,
      "include_colab_link": true
    },
    "kernelspec": {
      "display_name": "Python 3",
      "name": "python3"
    },
    "language_info": {
      "name": "python"
    }
  },
  "nbformat": 4,
  "nbformat_minor": 0
}