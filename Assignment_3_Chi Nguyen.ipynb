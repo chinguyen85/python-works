{
  "cells": [
    {
      "cell_type": "markdown",
      "metadata": {
        "colab_type": "text",
        "id": "view-in-github"
      },
      "source": [
        "<a href=\"https://colab.research.google.com/github/chinguyen85/python-works/blob/main/Assignment_3_Chi%20Nguyen.ipynb\" target=\"_parent\"><img src=\"https://colab.research.google.com/assets/colab-badge.svg\" alt=\"Open In Colab\"/></a>"
      ]
    },
    {
      "cell_type": "markdown",
      "metadata": {
        "id": "bDes99ZUJEXs"
      },
      "source": [
        "# Assignment 3 - Control Flow, Loop, Numpy & Function\n",
        "Basics of Data Analysis <br>\n",
        "Total Points 26 <br>\n",
        "To pass you need to get atleast 14 points"
      ]
    },
    {
      "cell_type": "markdown",
      "metadata": {
        "id": "sXqcXpf4JBSl"
      },
      "source": [
        "1. Write a program that prompts students to provide their total points (0 -100) and check with the following conidtions: (5 Points) <br>\n",
        "\n",
        "* if total point is greater than or equal to 85 then the grade is 5\n",
        "* if total point is greater than or equal to 75 then the grade is 4\n",
        "* if total point is greater than or equal to 65 then the grade is 3\n",
        "* if total point is greater than or equal to 55 then the grade is 2\n",
        "* if total point is greater than or equal to 45 then the grade is 1\n",
        "* if total point is less than 45 then the grade is 0\n",
        "\n",
        "(Use IF statement)\n"
      ]
    },
    {
      "cell_type": "code",
      "execution_count": 1,
      "metadata": {},
      "outputs": [
        {
          "name": "stdout",
          "output_type": "stream",
          "text": [
            "Your grade is 2.\n"
          ]
        }
      ],
      "source": [
        "# Get user input\n",
        "point_input = int(input(\"Enter your total points: \"))\n",
        "\n",
        "# Check conditions and print out the corresponding grade\n",
        "if point_input >= 85:\n",
        "    print(\"Your grade is 5.\")\n",
        "elif point_input >= 75:\n",
        "    print(\"Your grade is 4.\")\n",
        "elif point_input >= 65:\n",
        "    print(\"Your grade is 3.\")\n",
        "elif point_input >= 55:\n",
        "    print(\"Your grade is 2.\")\n",
        "elif point_input >= 45:\n",
        "    print(\"Your grade is 2.\")\n",
        "else:\n",
        "    print(\"Your grade is 0.\")"
      ]
    },
    {
      "cell_type": "markdown",
      "metadata": {
        "id": "hsmmFdowJBSp"
      },
      "source": [
        "2. Write a  program that asks used to input a number and create the multiplication table (from 1 to 10) of a number.(Use For) The output should be as below for an inputted number: (5 Points) <br>\n",
        "5 * 1 = 5 <br>\n",
        "5 * 2 = 10<br>\n",
        "...<br>\n",
        "...<br>\n",
        "...<br>\n",
        "5 * 10 = 50"
      ]
    },
    {
      "cell_type": "code",
      "execution_count": 2,
      "metadata": {
        "id": "qWFK9S4gJBSp"
      },
      "outputs": [
        {
          "name": "stdout",
          "output_type": "stream",
          "text": [
            "5  *  1  =  5\n",
            "5  *  2  =  10\n",
            "5  *  3  =  15\n",
            "5  *  4  =  20\n",
            "5  *  5  =  25\n",
            "5  *  6  =  30\n",
            "5  *  7  =  35\n",
            "5  *  8  =  40\n",
            "5  *  9  =  45\n",
            "5  *  10  =  50\n"
          ]
        }
      ],
      "source": [
        "# get input from the user\n",
        "number = int(input(\"Enter a number for multiplication: \"))\n",
        "\n",
        "# print multiplication table for the number\n",
        "for i in range(1, 11):\n",
        "    print(number, ' * ', i, ' = ', number*i)"
      ]
    },
    {
      "cell_type": "markdown",
      "metadata": {
        "id": "40LCjQ5GJBSu"
      },
      "source": [
        "3. Write a program using Numpy to generate and print 5 random number between 1 & 10 (Hints: random.randint) (3 Points)"
      ]
    },
    {
      "cell_type": "code",
      "execution_count": 3,
      "metadata": {
        "id": "OAo0XkuMJBSu"
      },
      "outputs": [
        {
          "name": "stdout",
          "output_type": "stream",
          "text": [
            "Five random numbers between 1 and 10:  [5 8 4 3 1]\n"
          ]
        }
      ],
      "source": [
        "# Generate 5 random numbers between 1 and 10\n",
        "import numpy as np\n",
        "ran_num = np.random.randint(1, 10, size = 5)\n",
        "\n",
        "# Print the generated numbers\n",
        "print(\"Five random numbers between 1 and 10: \", ran_num)"
      ]
    },
    {
      "cell_type": "markdown",
      "metadata": {
        "id": "XIvigqsPNLCd"
      },
      "source": [
        "4. Calculate the mean, media, mode and standard deviation of an array using Numpy. (5 Points)"
      ]
    },
    {
      "cell_type": "code",
      "execution_count": 4,
      "metadata": {
        "id": "ynrLI9mzNagz"
      },
      "outputs": [
        {
          "name": "stdout",
          "output_type": "stream",
          "text": [
            "The mean is:  50.0\n",
            "The median is:  45.0\n",
            "The mode is:  ModeResult(mode=40, count=2)\n",
            "The standard deviation is:  26.457513110645905\n"
          ]
        }
      ],
      "source": [
        "from scipy import stats as st\n",
        "\n",
        "# create a numpy array named numpy_yourfirstName that includes 10 numbers.\n",
        "numpy_Chi = np.array([10, 20, 30, 40, 40, 50, 60, 70, 80, 100])\n",
        "\n",
        "# create 4 different variables to store mean, median, mode and standard deviation\n",
        "array_mean = np.mean(numpy_Chi)\n",
        "array_median = np.median(numpy_Chi)\n",
        "array_mode = st.mode(numpy_Chi)\n",
        "array_std_deviation = np.std(numpy_Chi)\n",
        "\n",
        "# print each value in a new line that is:  The Mean is .... The median is .... The mode is .... The standard deviation is ......\n",
        "print(\"The mean is: \", array_mean)\n",
        "print(\"The median is: \", array_median)\n",
        "print(\"The mode is: \", array_mode)\n",
        "print(\"The standard deviation is: \", array_std_deviation)"
      ]
    },
    {
      "cell_type": "markdown",
      "metadata": {
        "id": "07anGnr_OmXt"
      },
      "source": [
        "5. Generate a numpy array of evenly spaced values from 0 to 10 in increments of 2. Hint: np.arrage (2 Points)"
      ]
    },
    {
      "cell_type": "code",
      "execution_count": 5,
      "metadata": {
        "id": "qfSAul28PGzY"
      },
      "outputs": [
        {
          "name": "stdout",
          "output_type": "stream",
          "text": [
            "The array of values from 0 to 10 in increments of 2:  [0 2 4 6 8]\n"
          ]
        }
      ],
      "source": [
        "# create an array of values from 0 to 10 in increments of 2\n",
        "arrange = np.arange(0, 10, 2)\n",
        "\n",
        "# print\n",
        "print(\"The array of values from 0 to 10 in increments of 2: \", arrange)"
      ]
    },
    {
      "cell_type": "markdown",
      "metadata": {
        "id": "C8GuYXrGPXT1"
      },
      "source": [
        "6. Find the maximum and minimum values in an array. (2 Points)"
      ]
    },
    {
      "cell_type": "code",
      "execution_count": 6,
      "metadata": {
        "id": "VvL-Pw04PdrZ"
      },
      "outputs": [
        {
          "name": "stdout",
          "output_type": "stream",
          "text": [
            "The maximum value of my array is:  223\n",
            "The minimum value of my array is:  5\n"
          ]
        }
      ],
      "source": [
        "myarray = np.array([12,13,11,5,6,7,8,9,100, 223])\n",
        "# create two variables to store max and minimum values from the above array\n",
        "max_value = np.max(myarray)\n",
        "min_value = np.min(myarray)\n",
        "\n",
        "# Print the maximum and minimum values\n",
        "print(\"The maximum value of my array is: \", max_value)\n",
        "print(\"The minimum value of my array is: \", min_value)"
      ]
    },
    {
      "cell_type": "markdown",
      "metadata": {
        "id": "pPAskwm_QUXF"
      },
      "source": [
        "7. Create a simple function to calculate the area of a rectangle. (4 points)"
      ]
    },
    {
      "cell_type": "code",
      "execution_count": 7,
      "metadata": {
        "id": "ShU-5cH5QdRc"
      },
      "outputs": [
        {
          "name": "stdout",
          "output_type": "stream",
          "text": [
            "The area of the rectangle is:  35.75\n"
          ]
        }
      ],
      "source": [
        "length = 5.5\n",
        "width = 6.5\n",
        "# Create the function to get the area of the rectangle that is area = length * width\n",
        "# Check below if you do not know how to create function in python\n",
        "def area_rectangle(length, width):\n",
        "    result = length * width\n",
        "    return result\n",
        "\n",
        "# Call the function and print the aread of the rectangle.\n",
        "print(\"The area of the rectangle is: \", area_rectangle(length, width))"
      ]
    },
    {
      "cell_type": "code",
      "execution_count": 8,
      "metadata": {
        "id": "I9-Csd3WIklM"
      },
      "outputs": [
        {
          "name": "stdout",
          "output_type": "stream",
          "text": [
            "Sum: 9\n"
          ]
        }
      ],
      "source": [
        "# You can create function in Python by using the 'def' keyword.\n",
        "\n",
        "#Syntax:\n",
        "\n",
        "# def function_name(parameters):\n",
        "#  your function\n",
        "\n",
        "#Example 1 : A simple function to add 2 numbers.\n",
        "\n",
        "# Creating a function\n",
        "def add_numbers(a, b):\n",
        "    result = a + b\n",
        "    return result\n",
        "\n",
        "# Calling the function\n",
        "sum_result = add_numbers(4, 5)\n",
        "print(\"Sum:\", sum_result)"
      ]
    }
  ],
  "metadata": {
    "colab": {
      "include_colab_link": true,
      "provenance": []
    },
    "kernelspec": {
      "display_name": "Python 3",
      "language": "python",
      "name": "python3"
    },
    "language_info": {
      "codemirror_mode": {
        "name": "ipython",
        "version": 3
      },
      "file_extension": ".py",
      "mimetype": "text/x-python",
      "name": "python",
      "nbconvert_exporter": "python",
      "pygments_lexer": "ipython3",
      "version": "3.12.0"
    }
  },
  "nbformat": 4,
  "nbformat_minor": 0
}
