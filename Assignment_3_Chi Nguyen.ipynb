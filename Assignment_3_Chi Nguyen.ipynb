{
  "nbformat": 4,
  "nbformat_minor": 0,
  "metadata": {
    "kernelspec": {
      "display_name": "Python 3",
      "language": "python",
      "name": "python3"
    },
    "language_info": {
      "codemirror_mode": {
        "name": "ipython",
        "version": 3
      },
      "file_extension": ".py",
      "mimetype": "text/x-python",
      "name": "python",
      "nbconvert_exporter": "python",
      "pygments_lexer": "ipython3",
      "version": "3.7.3"
    },
    "colab": {
      "provenance": [],
      "include_colab_link": true
    }
  },
  "cells": [
    {
      "cell_type": "markdown",
      "metadata": {
        "id": "view-in-github",
        "colab_type": "text"
      },
      "source": [
        "<a href=\"https://colab.research.google.com/github/chinguyen85/python-works/blob/main/Assignment_3_Chi%20Nguyen.ipynb\" target=\"_parent\"><img src=\"https://colab.research.google.com/assets/colab-badge.svg\" alt=\"Open In Colab\"/></a>"
      ]
    },
    {
      "cell_type": "markdown",
      "metadata": {
        "id": "bDes99ZUJEXs"
      },
      "source": [
        "# Assignment 3 - Control Flow, Loop, Numpy & Function\n",
        "Basics of Data Analysis <br>\n",
        "Total Points 26 <br>\n",
        "To pass you need to get atleast 14 points"
      ]
    },
    {
      "cell_type": "markdown",
      "metadata": {
        "id": "sXqcXpf4JBSl"
      },
      "source": [
        "1. Write a program that prompts students to provide their total points (0 -100) and check with the following conidtions: (5 Points) <br>\n",
        "\n",
        "* if total point is greater than or equal to 85 then the grade is 5\n",
        "* if total point is greater than or equal to 75 then the grade is 4\n",
        "* if total point is greater than or equal to 65 then the grade is 3\n",
        "* if total point is greater than or equal to 55 then the grade is 2\n",
        "* if total point is greater than or equal to 45 then the grade is 1\n",
        "* if total point is less than 45 then the grade is 0\n",
        "\n",
        "(Use IF statement)\n"
      ]
    },
    {
      "cell_type": "code",
      "metadata": {
        "id": "WnrK1m8FJBSm"
      },
      "source": [
        "#ask user to input point - check example just below this cell if you do not know how to get input from the user.\n",
        "# Write conditions to check and output the grade based on point\n",
        "\n"
      ],
      "execution_count": null,
      "outputs": []
    },
    {
      "cell_type": "code",
      "source": [
        "# How to get input from the user in Python?\n",
        "# To get input from the user , you can use input() function which always returns a string\n",
        "# Example 1: String input from the user\n",
        "user_input = input(\"Enter your name: \")\n",
        "print(\"Your name is \", user_input)\n",
        "\n",
        "# Example 2: Number input from the user\n",
        "# To get numbers from the user, you will need to conver the user inputs by using functions like int() or float().\n",
        "\n",
        "# To get an integer input from the user\n",
        "age_input = int(input(\"Enter your Age: \"))\n",
        "print(\"You are \", age_input, \"years old.\")\n",
        "\n",
        "\n",
        "# To get a float input from the user\n",
        "height_input = float(input(\"Enter your height in cm: \"))\n",
        "print(\"Your height is \", height_input, \"CM\")"
      ],
      "metadata": {
        "id": "tHOkAiBmIUQp"
      },
      "execution_count": null,
      "outputs": []
    },
    {
      "cell_type": "markdown",
      "metadata": {
        "id": "hsmmFdowJBSp"
      },
      "source": [
        "2. Write a  program that asks used to input a number and create the multiplication table (from 1 to 10) of a number.(Use For) The output should be as below for an inputted number: (5 Points) <br>\n",
        "5 * 1 = 5 <br>\n",
        "5 * 2 = 10<br>\n",
        "...<br>\n",
        "...<br>\n",
        "...<br>\n",
        "5 * 10 = 50"
      ]
    },
    {
      "cell_type": "code",
      "metadata": {
        "id": "qWFK9S4gJBSp"
      },
      "source": [
        "# get input from the user\n",
        "\n",
        "\n",
        "# print multiplication table for the number\n"
      ],
      "execution_count": null,
      "outputs": []
    },
    {
      "cell_type": "code",
      "source": [],
      "metadata": {
        "id": "oYCaC7T_Mr59"
      },
      "execution_count": null,
      "outputs": []
    },
    {
      "cell_type": "markdown",
      "metadata": {
        "id": "40LCjQ5GJBSu"
      },
      "source": [
        "3. Write a program using Numpy to generate and print 5 random number between 1 & 10 (Hints: random.randint) (3 Points)"
      ]
    },
    {
      "cell_type": "code",
      "metadata": {
        "id": "OAo0XkuMJBSu"
      },
      "source": [
        "\n",
        "\n",
        "# Generate 5 random numbers between 1 and 10\n",
        "\n",
        "\n",
        "# Print the generated numbers\n"
      ],
      "execution_count": null,
      "outputs": []
    },
    {
      "cell_type": "markdown",
      "source": [
        "4. Calculate the mean, media, mode and standard deviation of an array using Numpy. (5 Points)"
      ],
      "metadata": {
        "id": "XIvigqsPNLCd"
      }
    },
    {
      "cell_type": "code",
      "source": [
        "# create a numpy array named numpy_yourfirstName that includes 10 numbers.\n",
        "\n",
        "# create 4 different variables to store mean, median, mode and standard deviation\n",
        "\n",
        "\n",
        "# print each value in a new line that is:  The Mean is .... The median is .... The mode is .... The standard deviation is ......"
      ],
      "metadata": {
        "id": "ynrLI9mzNagz"
      },
      "execution_count": null,
      "outputs": []
    },
    {
      "cell_type": "markdown",
      "source": [
        "5. Generate a numpy array of evenly spaced values from 0 to 10 in increments of 2. Hint: np.arrage (2 Points)"
      ],
      "metadata": {
        "id": "07anGnr_OmXt"
      }
    },
    {
      "cell_type": "code",
      "source": [
        "# create an array of values from 0 to 10 in increments of 2\n",
        "\n",
        "\n",
        "# print"
      ],
      "metadata": {
        "id": "qfSAul28PGzY"
      },
      "execution_count": null,
      "outputs": []
    },
    {
      "cell_type": "markdown",
      "source": [
        "6. Find the maximum and minimum values in an array. (2 Points)"
      ],
      "metadata": {
        "id": "C8GuYXrGPXT1"
      }
    },
    {
      "cell_type": "code",
      "source": [
        "myarray = np.array([12,13,11,5,6,7,8,9,100, 223])\n",
        "# create two variables to store max and minimum values from the above array\n",
        "\n",
        "\n",
        "# Print the maximum and minimum values"
      ],
      "metadata": {
        "id": "VvL-Pw04PdrZ"
      },
      "execution_count": null,
      "outputs": []
    },
    {
      "cell_type": "markdown",
      "source": [
        "7. Create a simple function to calculate the area of a rectangle. (4 points)"
      ],
      "metadata": {
        "id": "pPAskwm_QUXF"
      }
    },
    {
      "cell_type": "code",
      "source": [
        "length = 5.5\n",
        "width = 6.5\n",
        "# Create the function to get the area of the rectangle that is area = length * width\n",
        "# Check below if you do not know how to create function in python\n",
        "\n",
        "\n",
        "# Call the function and print the aread of the rectangle."
      ],
      "metadata": {
        "id": "ShU-5cH5QdRc"
      },
      "execution_count": null,
      "outputs": []
    },
    {
      "cell_type": "code",
      "source": [
        "# You can create function in Python by using the 'def' keyword.\n",
        "\n",
        "#Syntax:\n",
        "\n",
        "# def function_name(parameters):\n",
        "#  your function\n",
        "\n",
        "#Example 1 : A simple function to add 2 numbers.\n",
        "\n",
        "# Creating a function\n",
        "def add_numbers(a, b):\n",
        "    result = a + b\n",
        "    return result\n",
        "\n",
        "# Calling the function\n",
        "sum_result = add_numbers(4, 5)\n",
        "print(\"Sum:\", sum_result)\n",
        "\n",
        "\n",
        "\n"
      ],
      "metadata": {
        "id": "I9-Csd3WIklM"
      },
      "execution_count": null,
      "outputs": []
    }
  ]
}