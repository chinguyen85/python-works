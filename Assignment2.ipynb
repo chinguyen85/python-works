{
 "cells": [
  {
   "cell_type": "markdown",
   "metadata": {},
   "source": [
    "##### Task 1: Create a string (name), an integer (num) and a floating point number (fnum). Assign your name to name, 25 to num and 56.78 to fnum. Print the output for all 3 variables. (6 points)"
   ]
  },
  {
   "cell_type": "code",
   "execution_count": 14,
   "metadata": {},
   "outputs": [
    {
     "name": "stdout",
     "output_type": "stream",
     "text": [
      "Name:  Chi Nguyen\n",
      "Number:  25\n",
      "Fnum:  56.78\n"
     ]
    }
   ],
   "source": [
    "name = \"Chi Nguyen\";\n",
    "num = 25;\n",
    "fnum = 56.78;\n",
    "print(\"Name: \", name);\n",
    "print(\"Number: \", str(num));\n",
    "print(\"Fnum: \", str(fnum)); "
   ]
  },
  {
   "cell_type": "markdown",
   "metadata": {},
   "source": [
    "##### Task 2: Use the capitalize() method to convert the first character of a string to uppercase letter. (1 point)"
   ]
  },
  {
   "cell_type": "code",
   "execution_count": 6,
   "metadata": {},
   "outputs": [
    {
     "name": "stdout",
     "output_type": "stream",
     "text": [
      "This is getting interesting\n"
     ]
    }
   ],
   "source": [
    "mystring = \"this is getting interesting\";\n",
    "mycapital_string = mystring.capitalize();\n",
    "print(mycapital_string);"
   ]
  },
  {
   "cell_type": "markdown",
   "metadata": {},
   "source": [
    "##### Task 3: The find() method returns the index of first occurence of the substring if it is found and if it does not find it returns -1. Use find() method to complete the code below. (1 point)"
   ]
  },
  {
   "cell_type": "code",
   "execution_count": 7,
   "metadata": {},
   "outputs": [
    {
     "name": "stdout",
     "output_type": "stream",
     "text": [
      "21\n"
     ]
    }
   ],
   "source": [
    "text = \"Python is an easy to learn language\";\n",
    "result = text.find(\"learn\");\n",
    "print(result);"
   ]
  },
  {
   "cell_type": "markdown",
   "metadata": {},
   "source": [
    "##### Task 4: It is possible to assign the same value to multiple variables at once in Python. Complete the code below. (1 point)"
   ]
  },
  {
   "cell_type": "code",
   "execution_count": 13,
   "metadata": {},
   "outputs": [
    {
     "name": "stdout",
     "output_type": "stream",
     "text": [
      "a =  1\n",
      "b =  1\n",
      "c =  1\n"
     ]
    }
   ],
   "source": [
    "a = 1;\n",
    "b = 1;\n",
    "c = 1;\n",
    "print(\"a = \", str(a));\n",
    "print(\"b = \", str(b));\n",
    "print(\"c = \", str(c));"
   ]
  },
  {
   "cell_type": "markdown",
   "metadata": {},
   "source": [
    "##### Task 5: Complete tasks as in the comment below (5 Points)"
   ]
  },
  {
   "cell_type": "code",
   "execution_count": 21,
   "metadata": {},
   "outputs": [
    {
     "name": "stdout",
     "output_type": "stream",
     "text": [
      "Length:  13\n",
      "First character:  I\n",
      "I LIKE PYTHON\n"
     ]
    }
   ],
   "source": [
    "a = \"I like python\";\n",
    "print(\"Length: \", len(a));\n",
    "print(\"First character: \", a[0]);\n",
    "print(a.upper());"
   ]
  },
  {
   "cell_type": "markdown",
   "metadata": {},
   "source": [
    "##### Task 6: Create a list named mylist and include 5 different data items. (4 points)"
   ]
  },
  {
   "cell_type": "code",
   "execution_count": 23,
   "metadata": {},
   "outputs": [
    {
     "name": "stdout",
     "output_type": "stream",
     "text": [
      "Shopping list:  ['apple', 'banana', 'onion', 'pork', 'beef']\n",
      "Second item:  banana\n",
      "Append list:  ['apple', 'banana', 'onion', 'pork', 'beef', 'chicken']\n"
     ]
    }
   ],
   "source": [
    "mylist = [\"apple\", \"banana\", \"onion\", \"pork\", \"beef\"];\n",
    "print(\"Shopping list: \", mylist);\n",
    "print(\"Second item: \", mylist[1]);\n",
    "append_list = mylist.append(\"chicken\");\n",
    "print(\"Append list: \", mylist);"
   ]
  },
  {
   "cell_type": "markdown",
   "metadata": {},
   "source": [
    "##### Task 7: Tuple (3 points)"
   ]
  },
  {
   "cell_type": "code",
   "execution_count": 24,
   "metadata": {},
   "outputs": [
    {
     "name": "stdout",
     "output_type": "stream",
     "text": [
      "Length of tuple:  3\n",
      "Tuple:  ('Introduction to IoT & Cloud', 'Python Basics for IoT', 'Python Project')\n",
      "Third item:  Python Project\n"
     ]
    }
   ],
   "source": [
    "courses = (\"Introduction to IoT & Cloud\", \"Python Basics for IoT\", \"Python Project\");\n",
    "print(\"Length of tuple: \", len(courses));\n",
    "print(\"Tuple: \", courses);\n",
    "print(\"Third item: \", courses[2]);"
   ]
  },
  {
   "cell_type": "markdown",
   "metadata": {},
   "source": [
    "##### Task 8: Dictionary (5 points)"
   ]
  },
  {
   "cell_type": "code",
   "execution_count": 40,
   "metadata": {},
   "outputs": [
    {
     "name": "stdout",
     "output_type": "stream",
     "text": [
      "Dictionary:  {'course': 'Python Basics', 'time': 'Autumn', 'etcs': 5}\n",
      "Get course:  Python Basics\n",
      "Updated Dictionary:  {'course': 'Python Basics for IoT', 'time': 'Autumn', 'etcs': 5, 'year': 2019}\n"
     ]
    }
   ],
   "source": [
    "test = {\"course\": \"Python Basics\", \"time\": \"Autumn\", \"etcs\": 5};\n",
    "print(\"Dictionary: \", test);\n",
    "print(\"Get course: \", test.get(\"course\"));\n",
    "test[\"course\"] = \"Python Basics for IoT\";\n",
    "test[\"year\"] = 2019;\n",
    "print(\"Updated Dictionary: \", test);\n"
   ]
  }
 ],
 "metadata": {
  "kernelspec": {
   "display_name": "Python 3",
   "language": "python",
   "name": "python3"
  },
  "language_info": {
   "codemirror_mode": {
    "name": "ipython",
    "version": 3
   },
   "file_extension": ".py",
   "mimetype": "text/x-python",
   "name": "python",
   "nbconvert_exporter": "python",
   "pygments_lexer": "ipython3",
   "version": "3.12.0"
  }
 },
 "nbformat": 4,
 "nbformat_minor": 2
}
