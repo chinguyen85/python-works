{
 "cells": [
  {
   "cell_type": "markdown",
   "metadata": {
    "id": "HtofxkQbV4xE"
   },
   "source": [
    "#Assignment 1: Supervised Learning and kNN Algorithm\n",
    "\n",
    "Group members:\n",
    "\n",
    "1.   Hiep Huynh\n",
    "2.   Duy Tran\n",
    "3.   Dan Vu\n",
    "4.   Dinh Nguyen\n",
    "\n",
    "##Part 1: Familiarization and Basic Testing of the kNN Algorithm (6 pts)\n",
    "\n",
    "Dataset Selection (2 pts):\n",
    "Choose an interesting dataset (other than the Iris dataset) from Kaggle to apply kNN classification.\n",
    "\n",
    "Algorithm Application (2 pts):\n",
    "Run the kNN algorithm on the selected dataset. You may use either a custom kNN implementation or the sklearn version.\n",
    "\n",
    "Use Case Identification (2 pts):\n",
    "List two real-world applications of the kNN algorithm. These can be business-related or other domains where kNN is valuable.\n",
    "\n",
    "##Part 2: In-Depth Experimentation with the kNN Algorithm (6.5 pts)\n",
    "\n",
    "Parameter Experimentation (2 pts):\n",
    "Experiment with various values of k to observe changes in model performance.\n",
    "\n",
    "Train-Test Split Analysis (2 pts):\n",
    "Evaluate the effect of different train/test splits (e.g., 80/20) on your model’s accuracy.\n",
    "\n",
    "k-Fold Cross-Validation (2.5 pts):\n",
    "Apply a k-fold approach to your data and analyze the results."
   ]
  },
  {
   "cell_type": "markdown",
   "metadata": {
    "id": "l8GAbHVPEhD9"
   },
   "source": [
    "# 1. Data Preprocessing\n",
    "The dataset used in this project is a collection of medical and demographic data from patients, along with their diabetes status (positive or negative). The objective is to predict whether or not a patient is at risk of developing diabetes, based on certain diagnostic measurements included in the dataset.\n",
    "\n",
    "First, let's import necessary libraries, load the data, and explore it to understand feature distributions and identify missing values."
   ]
  },
  {
   "cell_type": "markdown",
   "metadata": {
    "id": "M1dBY5adIcOM"
   },
   "source": [
    "###**1.1. Import libraries and Load the data**"
   ]
  },
  {
   "cell_type": "code",
   "execution_count": 1,
   "metadata": {
    "id": "yigdaSNRV4xF"
   },
   "outputs": [],
   "source": [
    "# Import necessary libraries\n",
    "import pandas as pd\n",
    "import matplotlib.pyplot as plt\n",
    "import seaborn as sns\n",
    "import numpy as np\n",
    "import warnings\n",
    "warnings.filterwarnings(\"ignore\")\n",
    "from sklearn.preprocessing import LabelEncoder\n",
    "from sklearn.model_selection import train_test_split\n",
    "from sklearn.neighbors import KNeighborsClassifier\n",
    "from sklearn.metrics import accuracy_score, classification_report, confusion_matrix\n",
    "from sklearn.model_selection import KFold\n",
    "from sklearn.model_selection import GridSearchCV"
   ]
  },
  {
   "cell_type": "code",
   "execution_count": 2,
   "metadata": {
    "id": "sPuqEki1V4xG"
   },
   "outputs": [],
   "source": [
    "# Load the data\n",
    "df = pd.read_csv('https://raw.githubusercontent.com/hiephamk/Data_Group_Project/main/diabetes_prediction_dataset.csv')"
   ]
  },
  {
   "cell_type": "code",
   "execution_count": 3,
   "metadata": {
    "colab": {
     "base_uri": "https://localhost:8080/",
     "height": 383
    },
    "id": "Uk-Lukm5Guyo",
    "outputId": "4d084720-1e6d-4ad1-e26b-e43be8105da2"
   },
   "outputs": [
    {
     "data": {
      "text/html": [
       "<div>\n",
       "<style scoped>\n",
       "    .dataframe tbody tr th:only-of-type {\n",
       "        vertical-align: middle;\n",
       "    }\n",
       "\n",
       "    .dataframe tbody tr th {\n",
       "        vertical-align: top;\n",
       "    }\n",
       "\n",
       "    .dataframe thead th {\n",
       "        text-align: right;\n",
       "    }\n",
       "</style>\n",
       "<table border=\"1\" class=\"dataframe\">\n",
       "  <thead>\n",
       "    <tr style=\"text-align: right;\">\n",
       "      <th></th>\n",
       "      <th>gender</th>\n",
       "      <th>age</th>\n",
       "      <th>hypertension</th>\n",
       "      <th>heart_disease</th>\n",
       "      <th>smoking_history</th>\n",
       "      <th>bmi</th>\n",
       "      <th>HbA1c_level</th>\n",
       "      <th>blood_glucose_level</th>\n",
       "      <th>diabetes</th>\n",
       "    </tr>\n",
       "  </thead>\n",
       "  <tbody>\n",
       "    <tr>\n",
       "      <th>0</th>\n",
       "      <td>Female</td>\n",
       "      <td>80.0</td>\n",
       "      <td>0</td>\n",
       "      <td>1</td>\n",
       "      <td>never</td>\n",
       "      <td>25.19</td>\n",
       "      <td>6.6</td>\n",
       "      <td>140</td>\n",
       "      <td>0</td>\n",
       "    </tr>\n",
       "    <tr>\n",
       "      <th>1</th>\n",
       "      <td>Female</td>\n",
       "      <td>54.0</td>\n",
       "      <td>0</td>\n",
       "      <td>0</td>\n",
       "      <td>No Info</td>\n",
       "      <td>27.32</td>\n",
       "      <td>6.6</td>\n",
       "      <td>80</td>\n",
       "      <td>0</td>\n",
       "    </tr>\n",
       "    <tr>\n",
       "      <th>2</th>\n",
       "      <td>Male</td>\n",
       "      <td>28.0</td>\n",
       "      <td>0</td>\n",
       "      <td>0</td>\n",
       "      <td>never</td>\n",
       "      <td>27.32</td>\n",
       "      <td>5.7</td>\n",
       "      <td>158</td>\n",
       "      <td>0</td>\n",
       "    </tr>\n",
       "    <tr>\n",
       "      <th>3</th>\n",
       "      <td>Female</td>\n",
       "      <td>36.0</td>\n",
       "      <td>0</td>\n",
       "      <td>0</td>\n",
       "      <td>current</td>\n",
       "      <td>23.45</td>\n",
       "      <td>5.0</td>\n",
       "      <td>155</td>\n",
       "      <td>0</td>\n",
       "    </tr>\n",
       "    <tr>\n",
       "      <th>4</th>\n",
       "      <td>Male</td>\n",
       "      <td>76.0</td>\n",
       "      <td>1</td>\n",
       "      <td>1</td>\n",
       "      <td>current</td>\n",
       "      <td>20.14</td>\n",
       "      <td>4.8</td>\n",
       "      <td>155</td>\n",
       "      <td>0</td>\n",
       "    </tr>\n",
       "    <tr>\n",
       "      <th>5</th>\n",
       "      <td>Female</td>\n",
       "      <td>20.0</td>\n",
       "      <td>0</td>\n",
       "      <td>0</td>\n",
       "      <td>never</td>\n",
       "      <td>27.32</td>\n",
       "      <td>6.6</td>\n",
       "      <td>85</td>\n",
       "      <td>0</td>\n",
       "    </tr>\n",
       "    <tr>\n",
       "      <th>6</th>\n",
       "      <td>Female</td>\n",
       "      <td>44.0</td>\n",
       "      <td>0</td>\n",
       "      <td>0</td>\n",
       "      <td>never</td>\n",
       "      <td>19.31</td>\n",
       "      <td>6.5</td>\n",
       "      <td>200</td>\n",
       "      <td>1</td>\n",
       "    </tr>\n",
       "    <tr>\n",
       "      <th>7</th>\n",
       "      <td>Female</td>\n",
       "      <td>79.0</td>\n",
       "      <td>0</td>\n",
       "      <td>0</td>\n",
       "      <td>No Info</td>\n",
       "      <td>23.86</td>\n",
       "      <td>5.7</td>\n",
       "      <td>85</td>\n",
       "      <td>0</td>\n",
       "    </tr>\n",
       "    <tr>\n",
       "      <th>8</th>\n",
       "      <td>Male</td>\n",
       "      <td>42.0</td>\n",
       "      <td>0</td>\n",
       "      <td>0</td>\n",
       "      <td>never</td>\n",
       "      <td>33.64</td>\n",
       "      <td>4.8</td>\n",
       "      <td>145</td>\n",
       "      <td>0</td>\n",
       "    </tr>\n",
       "    <tr>\n",
       "      <th>9</th>\n",
       "      <td>Female</td>\n",
       "      <td>32.0</td>\n",
       "      <td>0</td>\n",
       "      <td>0</td>\n",
       "      <td>never</td>\n",
       "      <td>27.32</td>\n",
       "      <td>5.0</td>\n",
       "      <td>100</td>\n",
       "      <td>0</td>\n",
       "    </tr>\n",
       "  </tbody>\n",
       "</table>\n",
       "</div>"
      ],
      "text/plain": [
       "   gender   age  hypertension  heart_disease smoking_history    bmi  \\\n",
       "0  Female  80.0             0              1           never  25.19   \n",
       "1  Female  54.0             0              0         No Info  27.32   \n",
       "2    Male  28.0             0              0           never  27.32   \n",
       "3  Female  36.0             0              0         current  23.45   \n",
       "4    Male  76.0             1              1         current  20.14   \n",
       "5  Female  20.0             0              0           never  27.32   \n",
       "6  Female  44.0             0              0           never  19.31   \n",
       "7  Female  79.0             0              0         No Info  23.86   \n",
       "8    Male  42.0             0              0           never  33.64   \n",
       "9  Female  32.0             0              0           never  27.32   \n",
       "\n",
       "   HbA1c_level  blood_glucose_level  diabetes  \n",
       "0          6.6                  140         0  \n",
       "1          6.6                   80         0  \n",
       "2          5.7                  158         0  \n",
       "3          5.0                  155         0  \n",
       "4          4.8                  155         0  \n",
       "5          6.6                   85         0  \n",
       "6          6.5                  200         1  \n",
       "7          5.7                   85         0  \n",
       "8          4.8                  145         0  \n",
       "9          5.0                  100         0  "
      ]
     },
     "execution_count": 3,
     "metadata": {},
     "output_type": "execute_result"
    }
   ],
   "source": [
    "# Display the first 10 rows of the data\n",
    "df.head(10)"
   ]
  },
  {
   "cell_type": "markdown",
   "metadata": {
    "id": "1FKCvRB6w-xQ"
   },
   "source": [
    "###**1.2. Data exploration**"
   ]
  },
  {
   "cell_type": "code",
   "execution_count": 4,
   "metadata": {
    "colab": {
     "base_uri": "https://localhost:8080/"
    },
    "id": "WuzoYSkExiBJ",
    "outputId": "e31078bd-b1f4-4783-d3b2-1986b7976268"
   },
   "outputs": [
    {
     "name": "stdout",
     "output_type": "stream",
     "text": [
      "<class 'pandas.core.frame.DataFrame'>\n",
      "RangeIndex: 100000 entries, 0 to 99999\n",
      "Data columns (total 9 columns):\n",
      " #   Column               Non-Null Count   Dtype  \n",
      "---  ------               --------------   -----  \n",
      " 0   gender               100000 non-null  object \n",
      " 1   age                  100000 non-null  float64\n",
      " 2   hypertension         100000 non-null  int64  \n",
      " 3   heart_disease        100000 non-null  int64  \n",
      " 4   smoking_history      100000 non-null  object \n",
      " 5   bmi                  100000 non-null  float64\n",
      " 6   HbA1c_level          100000 non-null  float64\n",
      " 7   blood_glucose_level  100000 non-null  int64  \n",
      " 8   diabetes             100000 non-null  int64  \n",
      "dtypes: float64(3), int64(4), object(2)\n",
      "memory usage: 6.9+ MB\n"
     ]
    }
   ],
   "source": [
    "# Check data types and get overview\n",
    "df.info()"
   ]
  },
  {
   "cell_type": "markdown",
   "metadata": {
    "id": "qmG-e4NSG87p"
   },
   "source": [
    "**Overview:**\n",
    "\n",
    "* Dataset has 100000 samples and 9 columns.\n",
    "* The columns include:\n",
    "  - Gender\n",
    "  - Age\n",
    "  - Hypertension\n",
    "  - Heart_disease\n",
    "  - Smoking_history\n",
    "  - BMI\n",
    "  - HbA1c_level\n",
    "  - Blood_glucose_level\n",
    "  - Diabetes\n",
    "* 'Diabetes' is the label column, with a value of 0 or 1 (classify people with or without diabetes)."
   ]
  },
  {
   "cell_type": "markdown",
   "metadata": {
    "id": "mAnMaWea6bcv"
   },
   "source": [
    "There are 2 columns ('gender', 'smoking_history') with object type and in text format. Therefore we need to convert their values to number before applying kNN algorithm."
   ]
  },
  {
   "cell_type": "code",
   "execution_count": 5,
   "metadata": {
    "colab": {
     "base_uri": "https://localhost:8080/",
     "height": 383
    },
    "id": "bxQc7aY9O2o3",
    "outputId": "d73c1663-af21-46f5-819f-d319ae341f81"
   },
   "outputs": [
    {
     "data": {
      "text/html": [
       "<div>\n",
       "<style scoped>\n",
       "    .dataframe tbody tr th:only-of-type {\n",
       "        vertical-align: middle;\n",
       "    }\n",
       "\n",
       "    .dataframe tbody tr th {\n",
       "        vertical-align: top;\n",
       "    }\n",
       "\n",
       "    .dataframe thead th {\n",
       "        text-align: right;\n",
       "    }\n",
       "</style>\n",
       "<table border=\"1\" class=\"dataframe\">\n",
       "  <thead>\n",
       "    <tr style=\"text-align: right;\">\n",
       "      <th></th>\n",
       "      <th>gender</th>\n",
       "      <th>age</th>\n",
       "      <th>hypertension</th>\n",
       "      <th>heart_disease</th>\n",
       "      <th>smoking_history</th>\n",
       "      <th>bmi</th>\n",
       "      <th>HbA1c_level</th>\n",
       "      <th>blood_glucose_level</th>\n",
       "      <th>diabetes</th>\n",
       "    </tr>\n",
       "  </thead>\n",
       "  <tbody>\n",
       "    <tr>\n",
       "      <th>0</th>\n",
       "      <td>0</td>\n",
       "      <td>80.0</td>\n",
       "      <td>0</td>\n",
       "      <td>1</td>\n",
       "      <td>4</td>\n",
       "      <td>25.19</td>\n",
       "      <td>6.6</td>\n",
       "      <td>140</td>\n",
       "      <td>0</td>\n",
       "    </tr>\n",
       "    <tr>\n",
       "      <th>1</th>\n",
       "      <td>0</td>\n",
       "      <td>54.0</td>\n",
       "      <td>0</td>\n",
       "      <td>0</td>\n",
       "      <td>0</td>\n",
       "      <td>27.32</td>\n",
       "      <td>6.6</td>\n",
       "      <td>80</td>\n",
       "      <td>0</td>\n",
       "    </tr>\n",
       "    <tr>\n",
       "      <th>2</th>\n",
       "      <td>1</td>\n",
       "      <td>28.0</td>\n",
       "      <td>0</td>\n",
       "      <td>0</td>\n",
       "      <td>4</td>\n",
       "      <td>27.32</td>\n",
       "      <td>5.7</td>\n",
       "      <td>158</td>\n",
       "      <td>0</td>\n",
       "    </tr>\n",
       "    <tr>\n",
       "      <th>3</th>\n",
       "      <td>0</td>\n",
       "      <td>36.0</td>\n",
       "      <td>0</td>\n",
       "      <td>0</td>\n",
       "      <td>1</td>\n",
       "      <td>23.45</td>\n",
       "      <td>5.0</td>\n",
       "      <td>155</td>\n",
       "      <td>0</td>\n",
       "    </tr>\n",
       "    <tr>\n",
       "      <th>4</th>\n",
       "      <td>1</td>\n",
       "      <td>76.0</td>\n",
       "      <td>1</td>\n",
       "      <td>1</td>\n",
       "      <td>1</td>\n",
       "      <td>20.14</td>\n",
       "      <td>4.8</td>\n",
       "      <td>155</td>\n",
       "      <td>0</td>\n",
       "    </tr>\n",
       "    <tr>\n",
       "      <th>5</th>\n",
       "      <td>0</td>\n",
       "      <td>20.0</td>\n",
       "      <td>0</td>\n",
       "      <td>0</td>\n",
       "      <td>4</td>\n",
       "      <td>27.32</td>\n",
       "      <td>6.6</td>\n",
       "      <td>85</td>\n",
       "      <td>0</td>\n",
       "    </tr>\n",
       "    <tr>\n",
       "      <th>6</th>\n",
       "      <td>0</td>\n",
       "      <td>44.0</td>\n",
       "      <td>0</td>\n",
       "      <td>0</td>\n",
       "      <td>4</td>\n",
       "      <td>19.31</td>\n",
       "      <td>6.5</td>\n",
       "      <td>200</td>\n",
       "      <td>1</td>\n",
       "    </tr>\n",
       "    <tr>\n",
       "      <th>7</th>\n",
       "      <td>0</td>\n",
       "      <td>79.0</td>\n",
       "      <td>0</td>\n",
       "      <td>0</td>\n",
       "      <td>0</td>\n",
       "      <td>23.86</td>\n",
       "      <td>5.7</td>\n",
       "      <td>85</td>\n",
       "      <td>0</td>\n",
       "    </tr>\n",
       "    <tr>\n",
       "      <th>8</th>\n",
       "      <td>1</td>\n",
       "      <td>42.0</td>\n",
       "      <td>0</td>\n",
       "      <td>0</td>\n",
       "      <td>4</td>\n",
       "      <td>33.64</td>\n",
       "      <td>4.8</td>\n",
       "      <td>145</td>\n",
       "      <td>0</td>\n",
       "    </tr>\n",
       "    <tr>\n",
       "      <th>9</th>\n",
       "      <td>0</td>\n",
       "      <td>32.0</td>\n",
       "      <td>0</td>\n",
       "      <td>0</td>\n",
       "      <td>4</td>\n",
       "      <td>27.32</td>\n",
       "      <td>5.0</td>\n",
       "      <td>100</td>\n",
       "      <td>0</td>\n",
       "    </tr>\n",
       "  </tbody>\n",
       "</table>\n",
       "</div>"
      ],
      "text/plain": [
       "   gender   age  hypertension  heart_disease  smoking_history    bmi  \\\n",
       "0       0  80.0             0              1                4  25.19   \n",
       "1       0  54.0             0              0                0  27.32   \n",
       "2       1  28.0             0              0                4  27.32   \n",
       "3       0  36.0             0              0                1  23.45   \n",
       "4       1  76.0             1              1                1  20.14   \n",
       "5       0  20.0             0              0                4  27.32   \n",
       "6       0  44.0             0              0                4  19.31   \n",
       "7       0  79.0             0              0                0  23.86   \n",
       "8       1  42.0             0              0                4  33.64   \n",
       "9       0  32.0             0              0                4  27.32   \n",
       "\n",
       "   HbA1c_level  blood_glucose_level  diabetes  \n",
       "0          6.6                  140         0  \n",
       "1          6.6                   80         0  \n",
       "2          5.7                  158         0  \n",
       "3          5.0                  155         0  \n",
       "4          4.8                  155         0  \n",
       "5          6.6                   85         0  \n",
       "6          6.5                  200         1  \n",
       "7          5.7                   85         0  \n",
       "8          4.8                  145         0  \n",
       "9          5.0                  100         0  "
      ]
     },
     "execution_count": 5,
     "metadata": {},
     "output_type": "execute_result"
    }
   ],
   "source": [
    "# Transform the 'gender' and 'smoking_history' values\n",
    "labelEncoder = LabelEncoder()\n",
    "df['gender'] = labelEncoder.fit_transform(df['gender'])\n",
    "df['smoking_history'] = labelEncoder.fit_transform(df['smoking_history'])\n",
    "df.head(10)"
   ]
  },
  {
   "cell_type": "code",
   "execution_count": 6,
   "metadata": {
    "colab": {
     "base_uri": "https://localhost:8080/",
     "height": 210
    },
    "id": "NrQdonYJUUi9",
    "outputId": "cef32b38-aea9-429f-b13c-c376cb80af3f"
   },
   "outputs": [
    {
     "data": {
      "text/plain": [
       "gender\n",
       "0    58552\n",
       "1    41430\n",
       "2       18\n",
       "Name: count, dtype: int64"
      ]
     },
     "execution_count": 6,
     "metadata": {},
     "output_type": "execute_result"
    }
   ],
   "source": [
    "# View 'gender' unique values after labelled\n",
    "df['gender'].value_counts().sort_index()"
   ]
  },
  {
   "cell_type": "code",
   "execution_count": 7,
   "metadata": {
    "colab": {
     "base_uri": "https://localhost:8080/",
     "height": 304
    },
    "id": "7PQAw6FMT61N",
    "outputId": "af82e337-a652-4fa6-b747-cf9621c62cf0"
   },
   "outputs": [
    {
     "data": {
      "text/plain": [
       "smoking_history\n",
       "0    35816\n",
       "1     9286\n",
       "2     4004\n",
       "3     9352\n",
       "4    35095\n",
       "5     6447\n",
       "Name: count, dtype: int64"
      ]
     },
     "execution_count": 7,
     "metadata": {},
     "output_type": "execute_result"
    }
   ],
   "source": [
    "# View 'smoking_history' unique values after labelled\n",
    "df['smoking_history'].value_counts().sort_index()"
   ]
  },
  {
   "cell_type": "code",
   "execution_count": 8,
   "metadata": {
    "colab": {
     "base_uri": "https://localhost:8080/",
     "height": 366
    },
    "id": "Lxy5qTPkKMSM",
    "outputId": "6ce06b41-9284-49b8-a090-5af141258556"
   },
   "outputs": [
    {
     "data": {
      "text/plain": [
       "gender                 0\n",
       "age                    0\n",
       "hypertension           0\n",
       "heart_disease          0\n",
       "smoking_history        0\n",
       "bmi                    0\n",
       "HbA1c_level            0\n",
       "blood_glucose_level    0\n",
       "diabetes               0\n",
       "dtype: int64"
      ]
     },
     "execution_count": 8,
     "metadata": {},
     "output_type": "execute_result"
    }
   ],
   "source": [
    "# Check for missing values\n",
    "df.isnull().sum()"
   ]
  },
  {
   "cell_type": "code",
   "execution_count": 9,
   "metadata": {
    "colab": {
     "base_uri": "https://localhost:8080/",
     "height": 366
    },
    "id": "5AUHQtvL6FmB",
    "outputId": "16913249-f2fd-40f1-9530-3f1808d7bf1b"
   },
   "outputs": [
    {
     "data": {
      "text/plain": [
       "gender                 0\n",
       "age                    0\n",
       "hypertension           0\n",
       "heart_disease          0\n",
       "smoking_history        0\n",
       "bmi                    0\n",
       "HbA1c_level            0\n",
       "blood_glucose_level    0\n",
       "diabetes               0\n",
       "dtype: int64"
      ]
     },
     "execution_count": 9,
     "metadata": {},
     "output_type": "execute_result"
    }
   ],
   "source": [
    "# Check n/a value\n",
    "df.isna().sum()"
   ]
  },
  {
   "cell_type": "code",
   "execution_count": 10,
   "metadata": {
    "colab": {
     "base_uri": "https://localhost:8080/",
     "height": 178
    },
    "id": "Y0fxz9sOzLhD",
    "outputId": "03fe5197-e0ae-4992-d78c-903eac3a11d6"
   },
   "outputs": [
    {
     "data": {
      "text/plain": [
       "diabetes\n",
       "0    91500\n",
       "1     8500\n",
       "Name: count, dtype: int64"
      ]
     },
     "execution_count": 10,
     "metadata": {},
     "output_type": "execute_result"
    }
   ],
   "source": [
    "# View distribution of target variable 'Diabetes'\n",
    "df['diabetes'].value_counts()"
   ]
  },
  {
   "cell_type": "code",
   "execution_count": 11,
   "metadata": {
    "colab": {
     "base_uri": "https://localhost:8080/",
     "height": 478
    },
    "id": "_vqvBo79Xws1",
    "outputId": "05c3e957-5e58-4ade-9331-ce20ecd3bb4e"
   },
   "outputs": [
    {
     "data": {
      "image/png": "[encoded data removed]",
      "text/plain": [
       "<Figure size 1500x1000 with 9 Axes>"
      ]
     },
     "metadata": {},
     "output_type": "display_data"
    }
   ],
   "source": [
    "# Visualize the distribution of each feature\n",
    "df.hist(bins=15, figsize=(15, 10))\n",
    "plt.suptitle('Feature Distributions')\n",
    "plt.show()"
   ]
  },
  {
   "cell_type": "markdown",
   "metadata": {
    "id": "ISz-9lvV3cup"
   },
   "source": [
    "# 2. kNN Algorithm Application"
   ]
  },
  {
   "cell_type": "markdown",
   "metadata": {
    "id": "hfZFm4xSY4No"
   },
   "source": [
    "We'll apply kNearestNeighbors algorithm on the dataset with an initial k value of 5.\n",
    "\n",
    "First, we split the dataset into a training-testing set which reserves 80% of the data for training and 20% for testing. Then we evaluate its accuracy, classification report, and confusion matrix."
   ]
  },
  {
   "cell_type": "code",
   "execution_count": 12,
   "metadata": {
    "colab": {
     "base_uri": "https://localhost:8080/",
     "height": 383
    },
    "id": "M8XZqSmGaDSh",
    "outputId": "18f9a879-a08f-4907-915d-e011ec26d9bb"
   },
   "outputs": [
    {
     "data": {
      "text/html": [
       "<div>\n",
       "<style scoped>\n",
       "    .dataframe tbody tr th:only-of-type {\n",
       "        vertical-align: middle;\n",
       "    }\n",
       "\n",
       "    .dataframe tbody tr th {\n",
       "        vertical-align: top;\n",
       "    }\n",
       "\n",
       "    .dataframe thead th {\n",
       "        text-align: right;\n",
       "    }\n",
       "</style>\n",
       "<table border=\"1\" class=\"dataframe\">\n",
       "  <thead>\n",
       "    <tr style=\"text-align: right;\">\n",
       "      <th></th>\n",
       "      <th>gender</th>\n",
       "      <th>age</th>\n",
       "      <th>hypertension</th>\n",
       "      <th>heart_disease</th>\n",
       "      <th>smoking_history</th>\n",
       "      <th>bmi</th>\n",
       "      <th>HbA1c_level</th>\n",
       "      <th>blood_glucose_level</th>\n",
       "    </tr>\n",
       "  </thead>\n",
       "  <tbody>\n",
       "    <tr>\n",
       "      <th>0</th>\n",
       "      <td>0</td>\n",
       "      <td>80.0</td>\n",
       "      <td>0</td>\n",
       "      <td>1</td>\n",
       "      <td>4</td>\n",
       "      <td>25.19</td>\n",
       "      <td>6.6</td>\n",
       "      <td>140</td>\n",
       "    </tr>\n",
       "    <tr>\n",
       "      <th>1</th>\n",
       "      <td>0</td>\n",
       "      <td>54.0</td>\n",
       "      <td>0</td>\n",
       "      <td>0</td>\n",
       "      <td>0</td>\n",
       "      <td>27.32</td>\n",
       "      <td>6.6</td>\n",
       "      <td>80</td>\n",
       "    </tr>\n",
       "    <tr>\n",
       "      <th>2</th>\n",
       "      <td>1</td>\n",
       "      <td>28.0</td>\n",
       "      <td>0</td>\n",
       "      <td>0</td>\n",
       "      <td>4</td>\n",
       "      <td>27.32</td>\n",
       "      <td>5.7</td>\n",
       "      <td>158</td>\n",
       "    </tr>\n",
       "    <tr>\n",
       "      <th>3</th>\n",
       "      <td>0</td>\n",
       "      <td>36.0</td>\n",
       "      <td>0</td>\n",
       "      <td>0</td>\n",
       "      <td>1</td>\n",
       "      <td>23.45</td>\n",
       "      <td>5.0</td>\n",
       "      <td>155</td>\n",
       "    </tr>\n",
       "    <tr>\n",
       "      <th>4</th>\n",
       "      <td>1</td>\n",
       "      <td>76.0</td>\n",
       "      <td>1</td>\n",
       "      <td>1</td>\n",
       "      <td>1</td>\n",
       "      <td>20.14</td>\n",
       "      <td>4.8</td>\n",
       "      <td>155</td>\n",
       "    </tr>\n",
       "    <tr>\n",
       "      <th>5</th>\n",
       "      <td>0</td>\n",
       "      <td>20.0</td>\n",
       "      <td>0</td>\n",
       "      <td>0</td>\n",
       "      <td>4</td>\n",
       "      <td>27.32</td>\n",
       "      <td>6.6</td>\n",
       "      <td>85</td>\n",
       "    </tr>\n",
       "    <tr>\n",
       "      <th>6</th>\n",
       "      <td>0</td>\n",
       "      <td>44.0</td>\n",
       "      <td>0</td>\n",
       "      <td>0</td>\n",
       "      <td>4</td>\n",
       "      <td>19.31</td>\n",
       "      <td>6.5</td>\n",
       "      <td>200</td>\n",
       "    </tr>\n",
       "    <tr>\n",
       "      <th>7</th>\n",
       "      <td>0</td>\n",
       "      <td>79.0</td>\n",
       "      <td>0</td>\n",
       "      <td>0</td>\n",
       "      <td>0</td>\n",
       "      <td>23.86</td>\n",
       "      <td>5.7</td>\n",
       "      <td>85</td>\n",
       "    </tr>\n",
       "    <tr>\n",
       "      <th>8</th>\n",
       "      <td>1</td>\n",
       "      <td>42.0</td>\n",
       "      <td>0</td>\n",
       "      <td>0</td>\n",
       "      <td>4</td>\n",
       "      <td>33.64</td>\n",
       "      <td>4.8</td>\n",
       "      <td>145</td>\n",
       "    </tr>\n",
       "    <tr>\n",
       "      <th>9</th>\n",
       "      <td>0</td>\n",
       "      <td>32.0</td>\n",
       "      <td>0</td>\n",
       "      <td>0</td>\n",
       "      <td>4</td>\n",
       "      <td>27.32</td>\n",
       "      <td>5.0</td>\n",
       "      <td>100</td>\n",
       "    </tr>\n",
       "  </tbody>\n",
       "</table>\n",
       "</div>"
      ],
      "text/plain": [
       "   gender   age  hypertension  heart_disease  smoking_history    bmi  \\\n",
       "0       0  80.0             0              1                4  25.19   \n",
       "1       0  54.0             0              0                0  27.32   \n",
       "2       1  28.0             0              0                4  27.32   \n",
       "3       0  36.0             0              0                1  23.45   \n",
       "4       1  76.0             1              1                1  20.14   \n",
       "5       0  20.0             0              0                4  27.32   \n",
       "6       0  44.0             0              0                4  19.31   \n",
       "7       0  79.0             0              0                0  23.86   \n",
       "8       1  42.0             0              0                4  33.64   \n",
       "9       0  32.0             0              0                4  27.32   \n",
       "\n",
       "   HbA1c_level  blood_glucose_level  \n",
       "0          6.6                  140  \n",
       "1          6.6                   80  \n",
       "2          5.7                  158  \n",
       "3          5.0                  155  \n",
       "4          4.8                  155  \n",
       "5          6.6                   85  \n",
       "6          6.5                  200  \n",
       "7          5.7                   85  \n",
       "8          4.8                  145  \n",
       "9          5.0                  100  "
      ]
     },
     "execution_count": 12,
     "metadata": {},
     "output_type": "execute_result"
    }
   ],
   "source": [
    "# Separate features and target variables\n",
    "x = df.iloc[:, :-1]\n",
    "y = df.iloc[:, -1:].squeeze()\n",
    "x.head(10)\n"
   ]
  },
  {
   "cell_type": "code",
   "execution_count": 13,
   "metadata": {
    "colab": {
     "base_uri": "https://localhost:8080/",
     "height": 398
    },
    "id": "uoKNI5KlizWF",
    "outputId": "f9d28e07-96f2-41ef-c626-236d5aabbe3f"
   },
   "outputs": [
    {
     "data": {
      "text/plain": [
       "0    0\n",
       "1    0\n",
       "2    0\n",
       "3    0\n",
       "4    0\n",
       "5    0\n",
       "6    1\n",
       "7    0\n",
       "8    0\n",
       "9    0\n",
       "Name: diabetes, dtype: int64"
      ]
     },
     "execution_count": 13,
     "metadata": {},
     "output_type": "execute_result"
    }
   ],
   "source": [
    "y.head(10)"
   ]
  },
  {
   "cell_type": "code",
   "execution_count": 14,
   "metadata": {
    "id": "rQMckZYP9cJc"
   },
   "outputs": [],
   "source": [
    "# Split the dataset into training and test sets (80-20 split)\n",
    "x_train, x_test, y_train, y_test = train_test_split(x, y, test_size=0.2, shuffle = True, random_state=0)"
   ]
  },
  {
   "cell_type": "code",
   "execution_count": 15,
   "metadata": {
    "colab": {
     "base_uri": "https://localhost:8080/"
    },
    "id": "KAw0gCKn9hK6",
    "outputId": "4b3cea6d-c357-4d05-9237-6bb5dbc28590"
   },
   "outputs": [
    {
     "name": "stdout",
     "output_type": "stream",
     "text": [
      "Accuracy score of k=5, test size=0.2: 0.95355\n"
     ]
    }
   ],
   "source": [
    "# Implement the kNN model with k=5 and generate predictions\n",
    "k = 5\n",
    "knn = KNeighborsClassifier(k)\n",
    "knn.fit(x_train, y_train)\n",
    "y_pred = knn.predict(x_test)\n",
    "\n",
    "# Evaluate the model\n",
    "accuracy = accuracy_score(y_test, y_pred)\n",
    "print(\"Accuracy score of k=5, test size=0.2:\", accuracy)"
   ]
  },
  {
   "cell_type": "code",
   "execution_count": 16,
   "metadata": {
    "colab": {
     "base_uri": "https://localhost:8080/",
     "height": 589
    },
    "id": "Ka6rKGCmBGu0",
    "outputId": "d5d1d5af-a08a-477d-de1e-860ec3f1f0fa"
   },
   "outputs": [
    {
     "name": "stdout",
     "output_type": "stream",
     "text": [
      "Classification Report\n",
      "               precision    recall  f1-score   support\n",
      "\n",
      "           0       0.96      0.99      0.98     18297\n",
      "           1       0.87      0.54      0.66      1703\n",
      "\n",
      "    accuracy                           0.95     20000\n",
      "   macro avg       0.91      0.76      0.82     20000\n",
      "weighted avg       0.95      0.95      0.95     20000\n",
      "\n"
     ]
    },
    {
     "data": {
      "image/png": "[encoded data removed]",
      "text/plain": [
       "<Figure size 600x400 with 2 Axes>"
      ]
     },
     "metadata": {},
     "output_type": "display_data"
    }
   ],
   "source": [
    "# View classification report\n",
    "print(\"Classification Report\\n\", classification_report(y_test, y_pred))\n",
    "\n",
    "# View confusion matrix\n",
    "cm = confusion_matrix(y_test, y_pred)\n",
    "plt.figure(figsize=(6, 4))\n",
    "sns.heatmap(cm, annot=True, fmt='d', cmap='Blues')\n",
    "plt.xlabel('Predicted Label')\n",
    "plt.ylabel('True Label')\n",
    "plt.title('Confusion Matrix')\n",
    "plt.show()"
   ]
  },
  {
   "cell_type": "markdown",
   "metadata": {
    "id": "5TcT-I7l9PY6"
   },
   "source": [
    "What we found:\n",
    "*   The dataset is imbalanced, with more instances of class 0 than class 1, affecting the model's recall and causing false negatives.\n",
    "*   Despite high precision for both classes, the model tends to miss positive cases due to the imbalance.\n",
    "*   The F1-score difference confirms that the model performs better with the negative class.\n",
    "\n"
   ]
  },
  {
   "cell_type": "markdown",
   "metadata": {
    "id": "pKdadvj379pM"
   },
   "source": [
    "# 3. Use Case Identification\n",
    "kNN is widely used in many different industries, particularly for classification and regression tasks. Here are two real-world uses of kNN:"
   ]
  },
  {
   "cell_type": "markdown",
   "metadata": {
    "id": "rvZTX6658dc4"
   },
   "source": [
    "###**3.1. Medical diagnosis in Healthcare**\n",
    "\n",
    "In the medical field, kNN is used to categorize patients according to test results, medical history, and symptoms. It identifies patients with similar medical profiles so that comparisons can be made to help in diagnosis.\n",
    "\n",
    "For example, kNN assists in classifying patients into high-risk or low-risk categories based on patterns in their data and suggests individualized treatment strategies for disorders like diabetes or heart conditions."
   ]
  },
  {
   "cell_type": "markdown",
   "metadata": {
    "id": "Er-g6IHj8V0m"
   },
   "source": [
    "###**3.2. Customer segmentation in Retail**\n",
    "kNN is frequently used in the retail industry to categorize customers according to their browsing history, purchasing patterns, and preferences. Retailers can use it to identify valuable customers, loyal customers, or customers with specific interests.\n",
    "\n",
    "For instance, kNN can suggest products to customers who have purchased specific items by classifying and contrasting clients with comparable buy histories or preferences."
   ]
  },
  {
   "cell_type": "markdown",
   "metadata": {
    "id": "xXaYnvQS8DgG"
   },
   "source": [
    "# Parameter Experimentation\n",
    "To find the best performing k, we'll run kNN with different k values **on the 80-20 training-testing set** and observe changes in model accuracy."
   ]
  },
  {
   "cell_type": "code",
   "execution_count": 17,
   "metadata": {
    "colab": {
     "base_uri": "https://localhost:8080/"
    },
    "id": "681FGFTSIMBa",
    "outputId": "a8f8ee1d-f29e-448e-e5b9-a408d4431b14"
   },
   "outputs": [
    {
     "name": "stdout",
     "output_type": "stream",
     "text": [
      "K: 3, Test size: 0.2, Accuracy: 0.9517\n",
      "K: 5, Test size: 0.2, Accuracy: 0.9536\n",
      "K: 7, Test size: 0.2, Accuracy: 0.9542\n",
      "K: 9, Test size: 0.2, Accuracy: 0.954\n",
      "K: 11, Test size: 0.2, Accuracy: 0.9539\n"
     ]
    }
   ],
   "source": [
    "# Create a list of k values\n",
    "k_values = [3, 5, 7, 9, 11]\n",
    "\n",
    "# Implementing the KNN classifier, and evaluating the score\n",
    "accuracies = []\n",
    "for k in k_values:\n",
    "    knn = KNeighborsClassifier(n_neighbors=k)\n",
    "    knn.fit(x_train, y_train)\n",
    "    y_pred = knn.predict(x_test)\n",
    "    score = accuracy_score(y_test, y_pred)\n",
    "    accuracies.append(score)\n",
    "    print(f\"K: {k}, Test size: 0.2, Accuracy: {round(score,4)}\")"
   ]
  },
  {
   "cell_type": "code",
   "execution_count": 18,
   "metadata": {
    "colab": {
     "base_uri": "https://localhost:8080/",
     "height": 355
    },
    "id": "guhFfk-xaXg-",
    "outputId": "a19a02cd-d168-4055-8345-7cdd2271ffa1"
   },
   "outputs": [
    {
     "data": {
      "image/png": "[encoded data removed]",
      "text/plain": [
       "<Figure size 1000x500 with 1 Axes>"
      ]
     },
     "metadata": {},
     "output_type": "display_data"
    }
   ],
   "source": [
    "# Visualize accuracy scores vs. k values by line chart\n",
    "plt.figure(figsize=(10, 5))\n",
    "plt.plot(k_values, accuracies, marker='o')\n",
    "plt.xlabel('k Value')\n",
    "plt.ylabel('Accuracy Score')\n",
    "plt.title('kNN Accuracy for Different k Values')\n",
    "plt.show()\n"
   ]
  },
  {
   "cell_type": "markdown",
   "metadata": {
    "id": "6jk2Orn2Kl8D"
   },
   "source": [
    "We can see that the value **k = 7** achieves the highest accuracy at **0.9542**. So it is the best performing value for this dataset."
   ]
  },
  {
   "cell_type": "markdown",
   "metadata": {
    "id": "zUVZOVSy8HP_"
   },
   "source": [
    "# Train-Test Split Analysis\n",
    "As we found the best performing k value in the previous step, we’ll test different train-test split ratios with k = 7 and analyze their impact on model accuracy."
   ]
  },
  {
   "cell_type": "code",
   "execution_count": 19,
   "metadata": {
    "colab": {
     "base_uri": "https://localhost:8080/"
    },
    "id": "K8N6_AP-L5Ex",
    "outputId": "896220e7-8760-4f8d-b871-abb8af34b497"
   },
   "outputs": [
    {
     "name": "stdout",
     "output_type": "stream",
     "text": [
      "Test size: 0.5, K = 7, Accuracy: 0.9512\n",
      "Test size: 0.4, K = 7, Accuracy: 0.9525\n",
      "Test size: 0.3, K = 7, Accuracy: 0.9539\n",
      "Test size: 0.2, K = 7, Accuracy: 0.9542\n",
      "Test size: 0.1, K = 7, Accuracy: 0.9548\n"
     ]
    }
   ],
   "source": [
    "# Create different train-test splits & evaluate accuracy scores\n",
    "train_split = [0.5, 0.6, 0.7, 0.8, 0.9]\n",
    "split_accuracies = []\n",
    "\n",
    "for split in train_split:\n",
    "    x_train, x_test, y_train, y_test = train_test_split(x, y, test_size=1-split, shuffle = True, random_state=0)\n",
    "    knn = KNeighborsClassifier(n_neighbors=7)\n",
    "    knn.fit(x_train, y_train)\n",
    "    y_pred = knn.predict(x_test)\n",
    "    score = accuracy_score(y_test, y_pred)\n",
    "    split_accuracies.append(score)\n",
    "    print(f\"Test size: {round(1-split, 1)}, K = 7, Accuracy: {round(score, 4)}\")"
   ]
  },
  {
   "cell_type": "code",
   "execution_count": 20,
   "metadata": {
    "colab": {
     "base_uri": "https://localhost:8080/",
     "height": 355
    },
    "id": "1CyJD6BBab1i",
    "outputId": "51eeb5de-1283-4c37-89dd-555adc16ebff"
   },
   "outputs": [
    {
     "data": {
      "image/png": "[encoded data removed]",
      "text/plain": [
       "<Figure size 1000x500 with 1 Axes>"
      ]
     },
     "metadata": {},
     "output_type": "display_data"
    }
   ],
   "source": [
    "# Visualize train-test split ratio vs. accuracy by line chart\n",
    "plt.figure(figsize=(10, 5))\n",
    "plt.plot([f\"{int(s*100)}-{int((1-s)*100)}\" for s in train_split], split_accuracies, marker='o')\n",
    "plt.xlabel('Train-Test Split Ratio')\n",
    "plt.ylabel('Accuracy Score')\n",
    "plt.title('Accuracy for Different Train-Test Splits')\n",
    "plt.show()\n"
   ]
  },
  {
   "cell_type": "markdown",
   "metadata": {
    "id": "KXTqPLNk7LMt"
   },
   "source": [
    "We can observe that greater model performance results from utilizing a smaller test size and a bigger fraction of the data for training."
   ]
  },
  {
   "cell_type": "markdown",
   "metadata": {
    "id": "b1aaJVv98MDx"
   },
   "source": [
    "# k-Fold Cross-Validation\n",
    "Finally, we’ll perform k-fold cross-validation to get a reliable estimate of model performance across different data splits."
   ]
  },
  {
   "cell_type": "markdown",
   "metadata": {
    "id": "fU34wQ9sRBln"
   },
   "source": [
    "*   We divide the dataset into 5 subsets, and train the model 5 times, each time using a different fold as the test set and the remaining 4 as the training set.\n",
    "*   For each iteration, we train the model with n_neighbors=7, make predictions on the test fold, and calculate the accuracy.\n",
    "*   We store these accuracies in a list, and finally compute the average accuracy across all folds.\n",
    "\n"
   ]
  },
  {
   "cell_type": "code",
   "execution_count": 21,
   "metadata": {
    "colab": {
     "base_uri": "https://localhost:8080/"
    },
    "id": "0ppICVTg9RSm",
    "outputId": "2b0500c7-1b3e-49e7-90a9-0106a78408c0"
   },
   "outputs": [
    {
     "name": "stdout",
     "output_type": "stream",
     "text": [
      "Accuracies for each fold: [0.95415, 0.95245, 0.9529, 0.9529, 0.95475]\n",
      "Average Accuracy across all folds: 0.95\n"
     ]
    }
   ],
   "source": [
    "k = 5\n",
    "kf = KFold(n_splits=k, shuffle=True, random_state=0)\n",
    "accuracies = []\n",
    "\n",
    "x = df.drop('diabetes', axis=1)\n",
    "y = df['diabetes']\n",
    "\n",
    "for train_index, test_index in kf.split(x):\n",
    "    x_train, x_test = x.iloc[train_index], x.iloc[test_index]\n",
    "    y_train, y_test = y.iloc[train_index], y.iloc[test_index]\n",
    "\n",
    "    knn = KNeighborsClassifier(n_neighbors=7)\n",
    "    knn.fit(x_train, y_train)\n",
    "    y_pred = knn.predict(x_test)\n",
    "\n",
    "    accuracy = accuracy_score(y_test, y_pred)\n",
    "    accuracies.append(accuracy)\n",
    "\n",
    "average_accuracy = np.mean(accuracies)\n",
    "print(f\"Accuracies for each fold: {accuracies}\")\n",
    "print(f\"Average Accuracy across all folds: {average_accuracy:.2f}\")"
   ]
  },
  {
   "cell_type": "markdown",
   "metadata": {
    "id": "U_Cb9iQwUECI"
   },
   "source": [
    "Together, the accuracy of each fold and average accuracy show that the model has a high level of accuracy (around 95%) for diabetes prediction. So we can say that this model is reliable for this dataset and well-suited for this classification task.\n",
    "\n",
    "Let's try predicting a sample data (index 1 in the dataset)!"
   ]
  },
  {
   "cell_type": "code",
   "execution_count": 22,
   "metadata": {
    "colab": {
     "base_uri": "https://localhost:8080/"
    },
    "id": "ndcyXnG9as5D",
    "outputId": "0d02e3c7-cbbd-42b8-8f41-93d3858c0ed6"
   },
   "outputs": [
    {
     "name": "stdout",
     "output_type": "stream",
     "text": [
      "Prediction of the new sample: Low risk\n"
     ]
    }
   ],
   "source": [
    "#Try predicting a sample data which can get from the df (index 1)\n",
    "new_sample = np.array([[0, 54.0,\t0,\t0,\t0,\t27.32,\t6.6,\t80]])\n",
    "prediction = knn.predict(new_sample)\n",
    "\n",
    "# Print the predicted result\n",
    "print(f\"Prediction of the new sample: {'High risk' if prediction == 1 else 'Low risk'}\")\n"
   ]
  },
  {
   "cell_type": "markdown",
   "metadata": {
    "id": "oTgWFMA6_WFe"
   },
   "source": [
    "We observe that this model is likely to maintain accuracy on new data as well."
   ]
  }
 ],
 "metadata": {
  "colab": {
   "provenance": [],
   "toc_visible": true
  },
  "kernelspec": {
   "display_name": "Python 3",
   "name": "python3"
  },
  "language_info": {
   "codemirror_mode": {
    "name": "ipython",
    "version": 3
   },
   "file_extension": ".py",
   "mimetype": "text/x-python",
   "name": "python",
   "nbconvert_exporter": "python",
   "pygments_lexer": "ipython3",
   "version": "3.12.0"
  }
 },
 "nbformat": 4,
 "nbformat_minor": 0
}
